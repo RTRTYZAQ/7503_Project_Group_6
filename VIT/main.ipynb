{
 "cells": [
  {
   "cell_type": "code",
   "id": "a83911f7",
   "metadata": {
    "ExecuteTime": {
     "end_time": "2025-04-29T03:02:59.460953Z",
     "start_time": "2025-04-29T03:02:56.729575Z"
    }
   },
   "source": [
    "import torch\n",
    "from train import train, setup, set_seed"
   ],
   "outputs": [],
   "execution_count": 1
  },
  {
   "cell_type": "code",
   "id": "034c1711",
   "metadata": {
    "ExecuteTime": {
     "end_time": "2025-04-29T03:02:59.468107Z",
     "start_time": "2025-04-29T03:02:59.464959Z"
    }
   },
   "source": [
    "class Args:\n",
    "    pass\n",
    "\n",
    "args = Args()"
   ],
   "outputs": [],
   "execution_count": 2
  },
  {
   "cell_type": "code",
   "id": "3d2632ac",
   "metadata": {
    "ExecuteTime": {
     "end_time": "2025-04-29T03:02:59.603614Z",
     "start_time": "2025-04-29T03:02:59.598554Z"
    }
   },
   "source": [
    "def args_set(args, dataset=\"cifar10\", extra_attention=None, num_blocks=12, train_example_nums=512, test_example_nums=128, batch_size=16, total_steps=500, warmup_steps=50, eval_every=64, learning_rate=3e-2):\n",
    "    args.extra_attention = extra_attention\n",
    "\n",
    "    args.num_blocks = num_blocks\n",
    "\n",
    "    args.train_example_nums = test_example_nums\n",
    "    args.test_example_nums = test_example_nums\n",
    "    \n",
    "    args.name = dataset + '_' + extra_attention + '_' + str(num_blocks) if extra_attention != None else dataset + '_' + 'origin' + '_' + str(num_blocks)\n",
    "    args.dataset = dataset\n",
    "    args.model_type = \"ViT-B_16\"\n",
    "    args.pretrained_dir = \"./pretrain_weights/imagenet21k_ViT-B_16.npz\"\n",
    "    args.output_dir = \"output\"\n",
    "\n",
    "    args.img_size = 224\n",
    "    args.train_batch_size = batch_size\n",
    "    args.eval_batch_size = batch_size\n",
    "    args.eval_every = eval_every\n",
    "\n",
    "    args.learning_rate = learning_rate\n",
    "    args.weight_decay = 0\n",
    "    args.num_steps = total_steps\n",
    "    args.decay_type = \"cosine\"\n",
    "    args.warmup_steps = warmup_steps\n",
    "    args.max_grad_norm = 1.0\n",
    "\n",
    "    args.local_rank = -1\n",
    "    args.seed = 42\n",
    "    args.gradient_accumulation_steps = 1\n",
    "    args.fp16 = False\n",
    "    args.fp16_opt_level = 'O2'\n",
    "    args.loss_scale = 0\n",
    "\n",
    "    return args"
   ],
   "outputs": [],
   "execution_count": 3
  },
  {
   "cell_type": "code",
   "id": "3c9b58e0",
   "metadata": {
    "ExecuteTime": {
     "end_time": "2025-04-29T03:02:59.613784Z",
     "start_time": "2025-04-29T03:02:59.609748Z"
    }
   },
   "source": [
    "def VIT_train(args, dataset, extra_attention, num_blocks, train_example_nums, test_example_nums, batch_size, total_steps, warmup_steps, eval_every, learning_rate):\n",
    "    args = args_set(args, dataset, extra_attention, num_blocks, train_example_nums, test_example_nums, batch_size, total_steps, warmup_steps, eval_every, learning_rate)\n",
    "\n",
    "    device = torch.device(\"cuda\" if torch.cuda.is_available() else \"cpu\")\n",
    "    args.n_gpu = torch.cuda.device_count()\n",
    "    args.device = device\n",
    "\n",
    "    set_seed(args)\n",
    "    args, model = setup(args)\n",
    "    train(args, model)"
   ],
   "outputs": [],
   "execution_count": 4
  },
  {
   "cell_type": "markdown",
   "id": "f76cd1d1",
   "metadata": {},
   "source": [
    "# set up:"
   ]
  },
  {
   "cell_type": "code",
<<<<<<< HEAD
<<<<<<< HEAD
   "execution_count": 7,
=======
>>>>>>> c88a79754c6d1f3b5eee6ac77f2291018cab2f89
=======
>>>>>>> c88a79754c6d1f3b5eee6ac77f2291018cab2f89
   "id": "28ff5da9",
   "metadata": {
    "ExecuteTime": {
     "end_time": "2025-04-29T03:06:16.042108Z",
     "start_time": "2025-04-29T03:06:16.038057Z"
    }
   },
   "source": [
    "dataset = 'cifar10' #['cifar10', 'cifar100', 'Tiny ImageNet']\n",
    "\n",
<<<<<<< HEAD
<<<<<<< HEAD
    "extra_attention = 'GAU' #[None, 'Random', 'GAU', 'Global_SlidingWindow', 'BigBird']\n",
    "\n",
=======
    "# extra_attention = \"MoE\" #[None, 'Random', 'GAU', 'Global_SlidingWindow', 'BigBird', 'MoE']\n",
    "extra_attention = None\n",
>>>>>>> c88a79754c6d1f3b5eee6ac77f2291018cab2f89
=======
    "# extra_attention = \"MoE\" #[None, 'Random', 'GAU', 'Global_SlidingWindow', 'BigBird', 'MoE']\n",
    "extra_attention = None\n",
>>>>>>> c88a79754c6d1f3b5eee6ac77f2291018cab2f89
    "num_blocks = 12\n",
    "\n",
    "train_example_nums = 512 #训练数据量\n",
    "\n",
    "test_example_nums = 128 #测试数据量\n",
    "\n",
    "batch_size = 8\n",
    "\n",
    "total_steps = 500\n",
    "# total_steps = 10000\n",
    "\n",
    "warmup_steps = 50\n",
    "\n",
    "eval_every = 64\n",
    "\n",
<<<<<<< HEAD
<<<<<<< HEAD
    "# learning_rate = 3e-2\n",
    "learning_rate = 1e-3"
   ]
=======
=======
>>>>>>> c88a79754c6d1f3b5eee6ac77f2291018cab2f89
    "learning_rate = 3e-2"
   ],
   "outputs": [],
   "execution_count": 7
<<<<<<< HEAD
>>>>>>> c88a79754c6d1f3b5eee6ac77f2291018cab2f89
=======
>>>>>>> c88a79754c6d1f3b5eee6ac77f2291018cab2f89
  },
  {
   "cell_type": "markdown",
   "id": "f1330f2a",
   "metadata": {},
   "source": [
    "# train:"
   ]
  },
  {
   "cell_type": "code",
<<<<<<< HEAD
<<<<<<< HEAD
   "execution_count": 8,
=======
>>>>>>> c88a79754c6d1f3b5eee6ac77f2291018cab2f89
=======
>>>>>>> c88a79754c6d1f3b5eee6ac77f2291018cab2f89
   "id": "810d6919",
   "metadata": {
    "ExecuteTime": {
     "end_time": "2025-04-29T03:14:47.185007Z",
     "start_time": "2025-04-29T03:06:18.234421Z"
    }
   },
   "source": [
    "VIT_train(args, dataset, extra_attention, num_blocks, train_example_nums, test_example_nums, batch_size, total_steps, warmup_steps, eval_every, learning_rate)"
   ],
   "outputs": [
    {
     "name": "stdout",
     "output_type": "stream",
     "text": [
      "extra attention: GAU\n",
      "num of blocks: 12\n",
      "Total Parameter: 85.8M\n",
      "\n"
     ]
    },
    {
     "name": "stderr",
     "output_type": "stream",
     "text": [
<<<<<<< HEAD
<<<<<<< HEAD
      "Training (16 / 500 Steps) (loss=2.30187): 100%|| 16/16 [00:22<00:00,  1.41s/it]\n",
      "Training (32 / 500 Steps) (loss=2.29860): 100%|| 16/16 [00:22<00:00,  1.41s/it]\n",
      "Training (48 / 500 Steps) (loss=2.27669): 100%|| 16/16 [00:22<00:00,  1.40s/it]\n",
      "Validating... (loss=2.27965): 100%|| 16/16 [00:18<00:00,  1.16s/it],  3.87it/s]\n"
=======
=======
>>>>>>> c88a79754c6d1f3b5eee6ac77f2291018cab2f89
      "Training (16 / 500 Steps) (loss=5.29979): 100%|| 16/16 [00:13<00:00,  1.19it/s]\n",
      "Training (32 / 500 Steps) (loss=5.30692): 100%|| 16/16 [00:13<00:00,  1.21it/s]\n",
      "Training (48 / 500 Steps) (loss=5.22490): 100%|| 16/16 [00:13<00:00,  1.21it/s]\n",
      "Training (64 / 500 Steps) (loss=5.24311):  94%|| 15/16 [00:13<00:00,  6.78it/s]\n",
      "Validating... (loss=X.X):   0%|| 0/16 [00:00<?, ?it/s]\u001B[A\n",
      "Validating... (loss=5.28986):   0%|| 0/16 [00:10<?, ?it/s]\u001B[A\n",
      "Validating... (loss=5.28986):   6%|| 1/16 [00:10<02:33, 10.25s/it]\u001B[A\n",
      "Validating... (loss=5.13267):   6%|| 1/16 [00:10<02:33, 10.25s/it]\u001B[A\n",
      "Validating... (loss=5.10476):   6%|| 1/16 [00:10<02:33, 10.25s/it]\u001B[A\n",
      "Validating... (loss=5.20155):   6%|| 1/16 [00:10<02:33, 10.25s/it]\u001B[A\n",
      "Validating... (loss=5.20155):  25%|| 4/16 [00:10<00:23,  1.97s/it]\u001B[A\n",
      "Validating... (loss=5.15929):  25%|| 4/16 [00:10<00:23,  1.97s/it]\u001B[A\n",
      "Validating... (loss=5.24768):  25%|| 4/16 [00:10<00:23,  1.97s/it]\u001B[A\n",
      "Validating... (loss=5.29642):  25%|| 4/16 [00:10<00:23,  1.97s/it]\u001B[A\n",
      "Validating... (loss=5.29642):  44%|| 7/16 [00:10<00:08,  1.07it/s]\u001B[A\n",
      "Validating... (loss=5.07723):  44%|| 7/16 [00:10<00:08,  1.07it/s]\u001B[A\n",
      "Validating... (loss=5.19510):  44%|| 7/16 [00:10<00:08,  1.07it/s]\u001B[A\n",
      "Validating... (loss=5.19782):  44%|| 7/16 [00:10<00:08,  1.07it/s]\u001B[A\n",
      "Validating... (loss=5.19782):  62%|| 10/16 [00:10<00:03,  1.83it/s]\u001B[A\n",
      "Validating... (loss=5.13108):  62%|| 10/16 [00:10<00:03,  1.83it/s]\u001B[A\n",
      "Validating... (loss=5.24225):  62%|| 10/16 [00:10<00:03,  1.83it/s]\u001B[A\n",
      "Validating... (loss=5.18839):  62%|| 10/16 [00:10<00:03,  1.83it/s]\u001B[A\n",
      "Validating... (loss=5.18839):  81%|| 13/16 [00:10<00:01,  2.83it/s]\u001B[A\n",
      "Validating... (loss=5.20667):  81%|| 13/16 [00:10<00:01,  2.83it/s]\u001B[A\n",
      "Validating... (loss=5.21015):  81%|| 13/16 [00:10<00:01,  2.83it/s]\u001B[A\n",
      "Validating... (loss=5.24562):  81%|| 13/16 [00:10<00:01,  2.83it/s]\u001B[A\n",
      "Validating... (loss=5.24562): 100%|| 16/16 [00:11<00:00,  1.41it/s]\u001B[A\n"
<<<<<<< HEAD
>>>>>>> c88a79754c6d1f3b5eee6ac77f2291018cab2f89
=======
>>>>>>> c88a79754c6d1f3b5eee6ac77f2291018cab2f89
     ]
    },
    {
     "name": "stdout",
     "output_type": "stream",
     "text": [
<<<<<<< HEAD
<<<<<<< HEAD
      "    Valid Accuracy: 0.17969\n"
=======
      "    Valid Accuracy: 0.11719\n"
>>>>>>> c88a79754c6d1f3b5eee6ac77f2291018cab2f89
=======
      "    Valid Accuracy: 0.11719\n"
>>>>>>> c88a79754c6d1f3b5eee6ac77f2291018cab2f89
     ]
    },
    {
     "name": "stderr",
     "output_type": "stream",
     "text": [
<<<<<<< HEAD
<<<<<<< HEAD
      "Training (64 / 500 Steps) (loss=2.29578): 100%|| 16/16 [00:40<00:00,  5.94s/it]"
=======
      "Training (64 / 500 Steps) (loss=5.24311): 100%|| 16/16 [00:24<00:00,  3.63s/it]"
>>>>>>> c88a79754c6d1f3b5eee6ac77f2291018cab2f89
     ]
    },
    {
     "name": "stdout",
     "output_type": "stream",
     "text": [
      "    Saved model checkpoint to output\\cifar10_GAU_12_checkpoint.bin\n",
      "\n"
     ]
    },
    {
     "name": "stderr",
     "output_type": "stream",
     "text": [
<<<<<<< HEAD
      "Training (64 / 500 Steps) (loss=2.29578): 100%|| 16/16 [00:41<00:00,  2.58s/it]\n",
      "Training (80 / 500 Steps) (loss=2.29814): 100%|| 16/16 [00:22<00:00,  1.40s/it]\n",
      "Training (96 / 500 Steps) (loss=2.28094): 100%|| 16/16 [00:22<00:00,  1.40s/it]\n",
      "Training (112 / 500 Steps) (loss=2.27345): 100%|| 16/16 [00:22<00:00,  1.40s/it]\n",
      "Validating... (loss=2.23526): 100%|| 16/16 [00:18<00:00,  1.13s/it]0,  3.97it/s]\n"
     ]
    },
    {
     "name": "stdout",
     "output_type": "stream",
     "text": [
      "    Valid Accuracy: 0.21094\n"
     ]
    },
    {
     "name": "stderr",
     "output_type": "stream",
     "text": [
      "Training (128 / 500 Steps) (loss=2.26218): 100%|| 16/16 [00:40<00:00,  5.81s/it]"
     ]
    },
    {
     "name": "stdout",
     "output_type": "stream",
     "text": [
      "    Saved model checkpoint to output\\cifar10_GAU_12_checkpoint.bin\n",
      "\n"
     ]
    },
    {
     "name": "stderr",
     "output_type": "stream",
     "text": [
      "Training (128 / 500 Steps) (loss=2.26218): 100%|| 16/16 [00:40<00:00,  2.55s/it]\n",
      "Training (144 / 500 Steps) (loss=2.25038): 100%|| 16/16 [00:22<00:00,  1.41s/it]\n",
      "Training (160 / 500 Steps) (loss=2.23578): 100%|| 16/16 [00:22<00:00,  1.42s/it]\n",
      "Training (176 / 500 Steps) (loss=2.25287): 100%|| 16/16 [00:22<00:00,  1.40s/it]\n",
      "Validating... (loss=2.18492): 100%|| 16/16 [00:18<00:00,  1.18s/it]0,  3.47it/s]\n",
      "Training (192 / 500 Steps) (loss=2.23093): 100%|| 16/16 [00:40<00:00,  5.97s/it]"
     ]
    },
    {
     "name": "stdout",
     "output_type": "stream",
     "text": [
      "    Valid Accuracy: 0.19531\n"
     ]
    },
    {
     "name": "stderr",
     "output_type": "stream",
     "text": [
      "Training (192 / 500 Steps) (loss=2.23093): 100%|| 16/16 [00:41<00:00,  2.60s/it]\n",
      "Training (208 / 500 Steps) (loss=2.28286): 100%|| 16/16 [00:22<00:00,  1.41s/it]\n",
      "Training (224 / 500 Steps) (loss=2.27623): 100%|| 16/16 [00:25<00:00,  1.57s/it]\n",
      "Training (240 / 500 Steps) (loss=2.24710): 100%|| 16/16 [00:24<00:00,  1.54s/it]\n",
      "Validating... (loss=2.16185): 100%|| 16/16 [00:18<00:00,  1.18s/it]0,  2.52it/s]\n",
      "Training (256 / 500 Steps) (loss=2.20841): 100%|| 16/16 [00:42<00:00,  6.08s/it]"
     ]
    },
    {
     "name": "stdout",
     "output_type": "stream",
     "text": [
      "    Valid Accuracy: 0.17969\n"
     ]
    },
    {
     "name": "stderr",
     "output_type": "stream",
     "text": [
      "Training (256 / 500 Steps) (loss=2.20841): 100%|| 16/16 [00:43<00:00,  2.72s/it]\n",
      "Training (272 / 500 Steps) (loss=2.20897): 100%|| 16/16 [00:24<00:00,  1.56s/it]\n",
      "Training (288 / 500 Steps) (loss=2.09573): 100%|| 16/16 [00:24<00:00,  1.55s/it]\n",
      "Training (304 / 500 Steps) (loss=2.16319): 100%|| 16/16 [00:24<00:00,  1.54s/it]\n",
      "Validating... (loss=2.10980): 100%|| 16/16 [00:18<00:00,  1.18s/it]0,  2.52it/s]\n"
=======
      "Training (64 / 500 Steps) (loss=5.24311): 100%|| 16/16 [00:25<00:00,  1.58s/it]\n",
      "Training (80 / 500 Steps) (loss=5.18432): 100%|| 16/16 [00:12<00:00,  1.25it/s]\n",
      "Training (96 / 500 Steps) (loss=5.10704): 100%|| 16/16 [00:13<00:00,  1.18it/s]\n",
      "Training (112 / 500 Steps) (loss=5.14888): 100%|| 16/16 [00:14<00:00,  1.14it/s]\n",
      "Training (128 / 500 Steps) (loss=5.03313):  94%|| 15/16 [00:12<00:00,  6.76it/s]\n",
      "Validating... (loss=X.X):   0%|| 0/16 [00:00<?, ?it/s]\u001B[A\n",
      "Validating... (loss=5.21906):   0%|| 0/16 [00:10<?, ?it/s]\u001B[A\n",
      "Validating... (loss=5.21906):   6%|| 1/16 [00:10<02:36, 10.42s/it]\u001B[A\n",
      "Validating... (loss=4.95705):   6%|| 1/16 [00:10<02:36, 10.42s/it]\u001B[A\n",
      "Validating... (loss=4.74520):   6%|| 1/16 [00:10<02:36, 10.42s/it]\u001B[A\n",
      "Validating... (loss=5.01994):   6%|| 1/16 [00:10<02:36, 10.42s/it]\u001B[A\n",
      "Validating... (loss=5.01994):  25%|| 4/16 [00:10<00:24,  2.01s/it]\u001B[A\n",
      "Validating... (loss=4.93249):  25%|| 4/16 [00:10<00:24,  2.01s/it]\u001B[A\n",
      "Validating... (loss=4.98129):  25%|| 4/16 [00:10<00:24,  2.01s/it]\u001B[A\n",
      "Validating... (loss=5.08475):  25%|| 4/16 [00:10<00:24,  2.01s/it]\u001B[A\n",
      "Validating... (loss=5.08475):  44%|| 7/16 [00:10<00:08,  1.05it/s]\u001B[A\n",
      "Validating... (loss=4.79441):  44%|| 7/16 [00:10<00:08,  1.05it/s]\u001B[A\n",
      "Validating... (loss=5.04072):  44%|| 7/16 [00:10<00:08,  1.05it/s]\u001B[A\n",
      "Validating... (loss=5.01134):  44%|| 7/16 [00:10<00:08,  1.05it/s]\u001B[A\n",
      "Validating... (loss=5.01134):  62%|| 10/16 [00:10<00:03,  1.80it/s]\u001B[A\n",
      "Validating... (loss=4.81620):  62%|| 10/16 [00:10<00:03,  1.80it/s]\u001B[A\n",
      "Validating... (loss=5.07040):  62%|| 10/16 [00:10<00:03,  1.80it/s]\u001B[A\n",
      "Validating... (loss=4.95015):  62%|| 10/16 [00:10<00:03,  1.80it/s]\u001B[A\n",
      "Validating... (loss=4.95015):  81%|| 13/16 [00:10<00:01,  2.78it/s]\u001B[A\n",
      "Validating... (loss=4.88008):  81%|| 13/16 [00:10<00:01,  2.78it/s]\u001B[A\n",
      "Validating... (loss=5.01243):  81%|| 13/16 [00:11<00:01,  2.78it/s]\u001B[A\n",
      "Validating... (loss=4.99118):  81%|| 13/16 [00:11<00:01,  2.78it/s]\u001B[A\n",
      "Validating... (loss=4.99118): 100%|| 16/16 [00:11<00:00,  1.39it/s]\u001B[A\n"
>>>>>>> c88a79754c6d1f3b5eee6ac77f2291018cab2f89
     ]
    },
    {
     "name": "stdout",
     "output_type": "stream",
     "text": [
      "    Valid Accuracy: 0.17188\n"
     ]
    },
    {
     "name": "stderr",
     "output_type": "stream",
     "text": [
<<<<<<< HEAD
      "Training (320 / 500 Steps) (loss=2.25800): 100%|| 16/16 [00:43<00:00,  6.20s/it]"
=======
      "Training (128 / 500 Steps) (loss=5.03313): 100%|| 16/16 [00:24<00:00,  3.70s/it]"
>>>>>>> c88a79754c6d1f3b5eee6ac77f2291018cab2f89
     ]
    },
    {
     "name": "stdout",
     "output_type": "stream",
     "text": [
      "    Saved model checkpoint to output\\cifar10_GAU_12_checkpoint.bin\n",
      "\n"
     ]
    },
    {
     "name": "stderr",
     "output_type": "stream",
     "text": [
<<<<<<< HEAD
      "Training (320 / 500 Steps) (loss=2.25800): 100%|| 16/16 [00:44<00:00,  2.76s/it]\n",
      "Training (336 / 500 Steps) (loss=2.13913): 100%|| 16/16 [00:25<00:00,  1.56s/it]\n",
      "Training (352 / 500 Steps) (loss=2.21633): 100%|| 16/16 [00:24<00:00,  1.56s/it]\n",
      "Training (368 / 500 Steps) (loss=2.22647): 100%|| 16/16 [00:24<00:00,  1.55s/it]\n",
      "Validating... (loss=2.10299): 100%|| 16/16 [00:18<00:00,  1.18s/it]0,  2.52it/s]\n"
=======
      "Training (128 / 500 Steps) (loss=5.03313): 100%|| 16/16 [00:24<00:00,  1.56s/it]\n",
      "Training (144 / 500 Steps) (loss=4.90704): 100%|| 16/16 [00:13<00:00,  1.16it/s]\n",
      "Training (160 / 500 Steps) (loss=4.85259): 100%|| 16/16 [00:13<00:00,  1.16it/s]\n",
      "Training (176 / 500 Steps) (loss=4.99434): 100%|| 16/16 [00:13<00:00,  1.19it/s]\n",
      "Training (192 / 500 Steps) (loss=4.68704):  94%|| 15/16 [00:12<00:00,  6.72it/s]\n",
      "Validating... (loss=X.X):   0%|| 0/16 [00:00<?, ?it/s]\u001B[A\n",
      "Validating... (loss=5.08119):   0%|| 0/16 [00:10<?, ?it/s]\u001B[A\n",
      "Validating... (loss=5.08119):   6%|| 1/16 [00:10<02:36, 10.45s/it]\u001B[A\n",
      "Validating... (loss=4.71081):   6%|| 1/16 [00:10<02:36, 10.45s/it]\u001B[A\n",
      "Validating... (loss=4.54795):   6%|| 1/16 [00:10<02:36, 10.45s/it]\u001B[A\n",
      "Validating... (loss=4.68228):   6%|| 1/16 [00:10<02:36, 10.45s/it]\u001B[A\n",
      "Validating... (loss=4.68228):  25%|| 4/16 [00:10<00:24,  2.01s/it]\u001B[A\n",
      "Validating... (loss=4.62427):  25%|| 4/16 [00:10<00:24,  2.01s/it]\u001B[A\n",
      "Validating... (loss=4.70392):  25%|| 4/16 [00:10<00:24,  2.01s/it]\u001B[A\n",
      "Validating... (loss=4.89256):  25%|| 4/16 [00:10<00:24,  2.01s/it]\u001B[A\n",
      "Validating... (loss=4.89256):  44%|| 7/16 [00:10<00:08,  1.05it/s]\u001B[A\n",
      "Validating... (loss=4.47294):  44%|| 7/16 [00:10<00:08,  1.05it/s]\u001B[A\n",
      "Validating... (loss=4.87764):  44%|| 7/16 [00:10<00:08,  1.05it/s]\u001B[A\n",
      "Validating... (loss=4.63360):  44%|| 7/16 [00:10<00:08,  1.05it/s]\u001B[A\n",
      "Validating... (loss=4.63360):  62%|| 10/16 [00:10<00:03,  1.79it/s]\u001B[A\n",
      "Validating... (loss=4.44751):  62%|| 10/16 [00:10<00:03,  1.79it/s]\u001B[A\n",
      "Validating... (loss=4.75459):  62%|| 10/16 [00:10<00:03,  1.79it/s]\u001B[A\n",
      "Validating... (loss=4.71955):  62%|| 10/16 [00:10<00:03,  1.79it/s]\u001B[A\n",
      "Validating... (loss=4.71955):  81%|| 13/16 [00:10<00:01,  2.78it/s]\u001B[A\n",
      "Validating... (loss=4.61489):  81%|| 13/16 [00:10<00:01,  2.78it/s]\u001B[A\n",
      "Validating... (loss=4.71720):  81%|| 13/16 [00:11<00:01,  2.78it/s]\u001B[A\n",
      "Validating... (loss=4.69690):  81%|| 13/16 [00:11<00:01,  2.78it/s]\u001B[A\n",
      "Validating... (loss=4.69690): 100%|| 16/16 [00:11<00:00,  1.39it/s]\u001B[A\n"
>>>>>>> c88a79754c6d1f3b5eee6ac77f2291018cab2f89
     ]
    },
    {
     "name": "stdout",
     "output_type": "stream",
     "text": [
<<<<<<< HEAD
      "    Valid Accuracy: 0.25000\n"
=======
      "    Valid Accuracy: 0.32812\n"
>>>>>>> c88a79754c6d1f3b5eee6ac77f2291018cab2f89
     ]
    },
    {
     "name": "stderr",
     "output_type": "stream",
     "text": [
<<<<<<< HEAD
      "Training (384 / 500 Steps) (loss=2.19230): 100%|| 16/16 [00:43<00:00,  6.18s/it]"
=======
      "Training (192 / 500 Steps) (loss=4.68704): 100%|| 16/16 [00:24<00:00,  3.70s/it]"
>>>>>>> c88a79754c6d1f3b5eee6ac77f2291018cab2f89
     ]
    },
    {
     "name": "stdout",
     "output_type": "stream",
     "text": [
<<<<<<< HEAD
      "    Saved model checkpoint to output\\cifar10_GAU_12_checkpoint.bin\n",
=======
      "    Saved model checkpoint to output\\Tiny ImageNet_origin_12_checkpoint.bin\n",
>>>>>>> c88a79754c6d1f3b5eee6ac77f2291018cab2f89
      "\n"
     ]
    },
    {
     "name": "stderr",
     "output_type": "stream",
     "text": [
<<<<<<< HEAD
      "Training (384 / 500 Steps) (loss=2.19230): 100%|| 16/16 [00:44<00:00,  2.76s/it]\n",
      "Training (400 / 500 Steps) (loss=2.19015): 100%|| 16/16 [00:24<00:00,  1.56s/it]\n",
      "Training (416 / 500 Steps) (loss=2.14495): 100%|| 16/16 [00:24<00:00,  1.55s/it]\n",
      "Training (432 / 500 Steps) (loss=2.08278): 100%|| 16/16 [00:24<00:00,  1.55s/it]\n",
      "Validating... (loss=2.09001): 100%|| 16/16 [00:19<00:00,  1.19s/it]0,  2.47it/s]\n",
      "Training (448 / 500 Steps) (loss=2.07289): 100%|| 16/16 [00:43<00:00,  6.12s/it]"
=======
      "Training (192 / 500 Steps) (loss=4.68704): 100%|| 16/16 [00:25<00:00,  1.57s/it]\n",
      "Training (208 / 500 Steps) (loss=4.53713): 100%|| 16/16 [00:12<00:00,  1.24it/s]\n",
      "Training (224 / 500 Steps) (loss=4.81306): 100%|| 16/16 [00:13<00:00,  1.21it/s]\n",
      "Training (240 / 500 Steps) (loss=4.82584): 100%|| 16/16 [00:13<00:00,  1.21it/s]\n",
      "Training (256 / 500 Steps) (loss=4.83164):  94%|| 15/16 [00:12<00:00,  6.79it/s]\n",
      "Validating... (loss=X.X):   0%|| 0/16 [00:00<?, ?it/s]\u001B[A\n",
      "Validating... (loss=4.92232):   0%|| 0/16 [00:10<?, ?it/s]\u001B[A\n",
      "Validating... (loss=4.92232):   6%|| 1/16 [00:10<02:35, 10.37s/it]\u001B[A\n",
      "Validating... (loss=4.49600):   6%|| 1/16 [00:10<02:35, 10.37s/it]\u001B[A\n",
      "Validating... (loss=4.33357):   6%|| 1/16 [00:10<02:35, 10.37s/it]\u001B[A\n",
      "Validating... (loss=4.43460):   6%|| 1/16 [00:10<02:35, 10.37s/it]\u001B[A\n",
      "Validating... (loss=4.43460):  25%|| 4/16 [00:10<00:23,  2.00s/it]\u001B[A\n",
      "Validating... (loss=4.32199):  25%|| 4/16 [00:10<00:23,  2.00s/it]\u001B[A\n",
      "Validating... (loss=4.48504):  25%|| 4/16 [00:10<00:23,  2.00s/it]\u001B[A\n",
      "Validating... (loss=4.75235):  25%|| 4/16 [00:10<00:23,  2.00s/it]\u001B[A\n",
      "Validating... (loss=4.75235):  44%|| 7/16 [00:10<00:08,  1.06it/s]\u001B[A\n",
      "Validating... (loss=4.32299):  44%|| 7/16 [00:10<00:08,  1.06it/s]\u001B[A\n",
      "Validating... (loss=4.62528):  44%|| 7/16 [00:10<00:08,  1.06it/s]\u001B[A\n",
      "Validating... (loss=4.23153):  44%|| 7/16 [00:10<00:08,  1.06it/s]\u001B[A\n",
      "Validating... (loss=4.23153):  62%|| 10/16 [00:10<00:03,  1.81it/s]\u001B[A\n",
      "Validating... (loss=4.19501):  62%|| 10/16 [00:10<00:03,  1.81it/s]\u001B[A\n",
      "Validating... (loss=4.50346):  62%|| 10/16 [00:10<00:03,  1.81it/s]\u001B[A\n",
      "Validating... (loss=4.45970):  62%|| 10/16 [00:10<00:03,  1.81it/s]\u001B[A\n",
      "Validating... (loss=4.45970):  81%|| 13/16 [00:10<00:01,  2.80it/s]\u001B[A\n",
      "Validating... (loss=4.50608):  81%|| 13/16 [00:10<00:01,  2.80it/s]\u001B[A\n",
      "Validating... (loss=4.52378):  81%|| 13/16 [00:10<00:01,  2.80it/s]\u001B[A\n",
      "Validating... (loss=4.43983):  81%|| 13/16 [00:10<00:01,  2.80it/s]\u001B[A\n",
      "Validating... (loss=4.43983): 100%|| 16/16 [00:11<00:00,  1.40it/s]\u001B[A\n"
>>>>>>> c88a79754c6d1f3b5eee6ac77f2291018cab2f89
     ]
    },
    {
     "name": "stdout",
     "output_type": "stream",
     "text": [
<<<<<<< HEAD
      "    Valid Accuracy: 0.24219\n"
=======
      "    Valid Accuracy: 0.38281\n"
>>>>>>> c88a79754c6d1f3b5eee6ac77f2291018cab2f89
     ]
    },
    {
     "name": "stderr",
     "output_type": "stream",
     "text": [
<<<<<<< HEAD
      "Training (448 / 500 Steps) (loss=2.07289): 100%|| 16/16 [00:43<00:00,  2.75s/it]\n",
      "Training (464 / 500 Steps) (loss=2.15194): 100%|| 16/16 [00:24<00:00,  1.56s/it]\n",
      "Training (480 / 500 Steps) (loss=2.20310): 100%|| 16/16 [00:24<00:00,  1.55s/it]\n",
      "Training (496 / 500 Steps) (loss=2.19769): 100%|| 16/16 [00:24<00:00,  1.56s/it]\n",
      "Training (500 / 500 Steps) (loss=2.06959):  19%|| 3/16 [00:20<01:29,  6.89s/it]"
=======
      "Training (256 / 500 Steps) (loss=4.83164): 100%|| 16/16 [00:24<00:00,  3.67s/it]"
>>>>>>> c88a79754c6d1f3b5eee6ac77f2291018cab2f89
     ]
    },
    {
     "name": "stdout",
     "output_type": "stream",
     "text": [
<<<<<<< HEAD
      "Best Accuracy: \t0.250000\n",
=======
      "    Saved model checkpoint to output\\Tiny ImageNet_origin_12_checkpoint.bin\n",
      "\n"
     ]
    },
    {
     "name": "stderr",
     "output_type": "stream",
     "text": [
      "Training (256 / 500 Steps) (loss=4.83164): 100%|| 16/16 [00:25<00:00,  1.57s/it]\n",
      "Training (272 / 500 Steps) (loss=4.44663): 100%|| 16/16 [00:12<00:00,  1.24it/s]\n",
      "Training (288 / 500 Steps) (loss=4.74945): 100%|| 16/16 [00:13<00:00,  1.21it/s]\n",
      "Training (304 / 500 Steps) (loss=3.90408): 100%|| 16/16 [00:13<00:00,  1.19it/s]\n",
      "Training (320 / 500 Steps) (loss=4.47437):  94%|| 15/16 [00:13<00:00,  6.65it/s]\n",
      "Validating... (loss=X.X):   0%|| 0/16 [00:00<?, ?it/s]\u001B[A\n",
      "Validating... (loss=4.79205):   0%|| 0/16 [00:10<?, ?it/s]\u001B[A\n",
      "Validating... (loss=4.79205):   6%|| 1/16 [00:10<02:33, 10.22s/it]\u001B[A\n",
      "Validating... (loss=4.38076):   6%|| 1/16 [00:10<02:33, 10.22s/it]\u001B[A\n",
      "Validating... (loss=4.14201):   6%|| 1/16 [00:10<02:33, 10.22s/it]\u001B[A\n",
      "Validating... (loss=4.21487):   6%|| 1/16 [00:10<02:33, 10.22s/it]\u001B[A\n",
      "Validating... (loss=4.21487):  25%|| 4/16 [00:10<00:23,  1.97s/it]\u001B[A\n",
      "Validating... (loss=4.19454):  25%|| 4/16 [00:10<00:23,  1.97s/it]\u001B[A\n",
      "Validating... (loss=4.42653):  25%|| 4/16 [00:10<00:23,  1.97s/it]\u001B[A\n",
      "Validating... (loss=4.55978):  25%|| 4/16 [00:10<00:23,  1.97s/it]\u001B[A\n",
      "Validating... (loss=4.55978):  44%|| 7/16 [00:10<00:08,  1.07it/s]\u001B[A\n",
      "Validating... (loss=4.17376):  44%|| 7/16 [00:10<00:08,  1.07it/s]\u001B[A\n",
      "Validating... (loss=4.46880):  44%|| 7/16 [00:10<00:08,  1.07it/s]\u001B[A\n",
      "Validating... (loss=4.08363):  44%|| 7/16 [00:10<00:08,  1.07it/s]\u001B[A\n",
      "Validating... (loss=4.08363):  62%|| 10/16 [00:10<00:03,  1.83it/s]\u001B[A\n",
      "Validating... (loss=4.06021):  62%|| 10/16 [00:10<00:03,  1.83it/s]\u001B[A\n",
      "Validating... (loss=4.32362):  62%|| 10/16 [00:10<00:03,  1.83it/s]\u001B[A\n",
      "Validating... (loss=4.31619):  62%|| 10/16 [00:10<00:03,  1.83it/s]\u001B[A\n",
      "Validating... (loss=4.31619):  81%|| 13/16 [00:10<00:01,  2.82it/s]\u001B[A\n",
      "Validating... (loss=4.27210):  81%|| 13/16 [00:10<00:01,  2.82it/s]\u001B[A\n",
      "Validating... (loss=4.36545):  81%|| 13/16 [00:10<00:01,  2.82it/s]\u001B[A\n",
      "Validating... (loss=4.21363):  81%|| 13/16 [00:10<00:01,  2.82it/s]\u001B[A\n",
      "Validating... (loss=4.21363): 100%|| 16/16 [00:11<00:00,  1.41it/s]\u001B[A\n"
     ]
    },
    {
     "name": "stdout",
     "output_type": "stream",
     "text": [
      "    Valid Accuracy: 0.41406\n"
     ]
    },
    {
     "name": "stderr",
     "output_type": "stream",
     "text": [
      "Training (320 / 500 Steps) (loss=4.47437): 100%|| 16/16 [00:25<00:00,  3.64s/it]"
=======
      "Training (64 / 500 Steps) (loss=5.24311): 100%|| 16/16 [00:24<00:00,  3.63s/it]"
>>>>>>> c88a79754c6d1f3b5eee6ac77f2291018cab2f89
     ]
    },
    {
     "name": "stdout",
     "output_type": "stream",
     "text": [
      "    Saved model checkpoint to output\\Tiny ImageNet_origin_12_checkpoint.bin\n",
      "\n"
     ]
    },
    {
     "name": "stderr",
     "output_type": "stream",
     "text": [
<<<<<<< HEAD
      "Training (320 / 500 Steps) (loss=4.47437): 100%|| 16/16 [00:25<00:00,  1.60s/it]\n",
      "Training (336 / 500 Steps) (loss=4.78000): 100%|| 16/16 [00:12<00:00,  1.26it/s]\n",
      "Training (352 / 500 Steps) (loss=4.56112): 100%|| 16/16 [00:13<00:00,  1.18it/s]\n",
      "Training (368 / 500 Steps) (loss=4.60689): 100%|| 16/16 [00:13<00:00,  1.21it/s]\n",
      "Training (384 / 500 Steps) (loss=4.71641):  94%|| 15/16 [00:12<00:00,  6.81it/s]\n",
      "Validating... (loss=X.X):   0%|| 0/16 [00:00<?, ?it/s]\u001B[A\n",
      "Validating... (loss=4.67244):   0%|| 0/16 [00:10<?, ?it/s]\u001B[A\n",
      "Validating... (loss=4.67244):   6%|| 1/16 [00:10<02:33, 10.25s/it]\u001B[A\n",
      "Validating... (loss=4.28399):   6%|| 1/16 [00:10<02:33, 10.25s/it]\u001B[A\n",
      "Validating... (loss=4.01300):   6%|| 1/16 [00:10<02:33, 10.25s/it]\u001B[A\n",
      "Validating... (loss=4.13545):   6%|| 1/16 [00:10<02:33, 10.25s/it]\u001B[A\n",
      "Validating... (loss=4.13545):  25%|| 4/16 [00:10<00:23,  1.97s/it]\u001B[A\n",
      "Validating... (loss=4.08296):  25%|| 4/16 [00:10<00:23,  1.97s/it]\u001B[A\n",
      "Validating... (loss=4.32042):  25%|| 4/16 [00:10<00:23,  1.97s/it]\u001B[A\n",
      "Validating... (loss=4.48098):  25%|| 4/16 [00:10<00:23,  1.97s/it]\u001B[A\n",
      "Validating... (loss=4.48098):  44%|| 7/16 [00:10<00:08,  1.07it/s]\u001B[A\n",
      "Validating... (loss=4.08151):  44%|| 7/16 [00:10<00:08,  1.07it/s]\u001B[A\n",
      "Validating... (loss=4.32594):  44%|| 7/16 [00:10<00:08,  1.07it/s]\u001B[A\n",
      "Validating... (loss=3.98478):  44%|| 7/16 [00:10<00:08,  1.07it/s]\u001B[A\n",
      "Validating... (loss=3.98478):  62%|| 10/16 [00:10<00:03,  1.83it/s]\u001B[A\n",
      "Validating... (loss=3.93088):  62%|| 10/16 [00:10<00:03,  1.83it/s]\u001B[A\n",
      "Validating... (loss=4.22753):  62%|| 10/16 [00:10<00:03,  1.83it/s]\u001B[A\n",
      "Validating... (loss=4.22299):  62%|| 10/16 [00:10<00:03,  1.83it/s]\u001B[A\n",
      "Validating... (loss=4.22299):  81%|| 13/16 [00:10<00:01,  2.83it/s]\u001B[A\n",
      "Validating... (loss=4.24599):  81%|| 13/16 [00:10<00:01,  2.83it/s]\u001B[A\n",
      "Validating... (loss=4.18194):  81%|| 13/16 [00:10<00:01,  2.83it/s]\u001B[A\n",
      "Validating... (loss=4.10050):  81%|| 13/16 [00:10<00:01,  2.83it/s]\u001B[A\n",
      "Validating... (loss=4.10050): 100%|| 16/16 [00:11<00:00,  1.41it/s]\u001B[A\n"
=======
      "Training (64 / 500 Steps) (loss=5.24311): 100%|| 16/16 [00:25<00:00,  1.58s/it]\n",
      "Training (80 / 500 Steps) (loss=5.18432): 100%|| 16/16 [00:12<00:00,  1.25it/s]\n",
      "Training (96 / 500 Steps) (loss=5.10704): 100%|| 16/16 [00:13<00:00,  1.18it/s]\n",
      "Training (112 / 500 Steps) (loss=5.14888): 100%|| 16/16 [00:14<00:00,  1.14it/s]\n",
      "Training (128 / 500 Steps) (loss=5.03313):  94%|| 15/16 [00:12<00:00,  6.76it/s]\n",
      "Validating... (loss=X.X):   0%|| 0/16 [00:00<?, ?it/s]\u001B[A\n",
      "Validating... (loss=5.21906):   0%|| 0/16 [00:10<?, ?it/s]\u001B[A\n",
      "Validating... (loss=5.21906):   6%|| 1/16 [00:10<02:36, 10.42s/it]\u001B[A\n",
      "Validating... (loss=4.95705):   6%|| 1/16 [00:10<02:36, 10.42s/it]\u001B[A\n",
      "Validating... (loss=4.74520):   6%|| 1/16 [00:10<02:36, 10.42s/it]\u001B[A\n",
      "Validating... (loss=5.01994):   6%|| 1/16 [00:10<02:36, 10.42s/it]\u001B[A\n",
      "Validating... (loss=5.01994):  25%|| 4/16 [00:10<00:24,  2.01s/it]\u001B[A\n",
      "Validating... (loss=4.93249):  25%|| 4/16 [00:10<00:24,  2.01s/it]\u001B[A\n",
      "Validating... (loss=4.98129):  25%|| 4/16 [00:10<00:24,  2.01s/it]\u001B[A\n",
      "Validating... (loss=5.08475):  25%|| 4/16 [00:10<00:24,  2.01s/it]\u001B[A\n",
      "Validating... (loss=5.08475):  44%|| 7/16 [00:10<00:08,  1.05it/s]\u001B[A\n",
      "Validating... (loss=4.79441):  44%|| 7/16 [00:10<00:08,  1.05it/s]\u001B[A\n",
      "Validating... (loss=5.04072):  44%|| 7/16 [00:10<00:08,  1.05it/s]\u001B[A\n",
      "Validating... (loss=5.01134):  44%|| 7/16 [00:10<00:08,  1.05it/s]\u001B[A\n",
      "Validating... (loss=5.01134):  62%|| 10/16 [00:10<00:03,  1.80it/s]\u001B[A\n",
      "Validating... (loss=4.81620):  62%|| 10/16 [00:10<00:03,  1.80it/s]\u001B[A\n",
      "Validating... (loss=5.07040):  62%|| 10/16 [00:10<00:03,  1.80it/s]\u001B[A\n",
      "Validating... (loss=4.95015):  62%|| 10/16 [00:10<00:03,  1.80it/s]\u001B[A\n",
      "Validating... (loss=4.95015):  81%|| 13/16 [00:10<00:01,  2.78it/s]\u001B[A\n",
      "Validating... (loss=4.88008):  81%|| 13/16 [00:10<00:01,  2.78it/s]\u001B[A\n",
      "Validating... (loss=5.01243):  81%|| 13/16 [00:11<00:01,  2.78it/s]\u001B[A\n",
      "Validating... (loss=4.99118):  81%|| 13/16 [00:11<00:01,  2.78it/s]\u001B[A\n",
      "Validating... (loss=4.99118): 100%|| 16/16 [00:11<00:00,  1.39it/s]\u001B[A\n"
>>>>>>> c88a79754c6d1f3b5eee6ac77f2291018cab2f89
     ]
    },
    {
     "name": "stdout",
     "output_type": "stream",
     "text": [
<<<<<<< HEAD
      "    Valid Accuracy: 0.42969\n"
=======
      "    Valid Accuracy: 0.17188\n"
>>>>>>> c88a79754c6d1f3b5eee6ac77f2291018cab2f89
     ]
    },
    {
     "name": "stderr",
     "output_type": "stream",
     "text": [
<<<<<<< HEAD
      "Training (384 / 500 Steps) (loss=4.71641): 100%|| 16/16 [00:24<00:00,  3.65s/it]"
=======
      "Training (128 / 500 Steps) (loss=5.03313): 100%|| 16/16 [00:24<00:00,  3.70s/it]"
>>>>>>> c88a79754c6d1f3b5eee6ac77f2291018cab2f89
     ]
    },
    {
     "name": "stdout",
     "output_type": "stream",
     "text": [
      "    Saved model checkpoint to output\\Tiny ImageNet_origin_12_checkpoint.bin\n",
      "\n"
     ]
    },
    {
     "name": "stderr",
     "output_type": "stream",
     "text": [
<<<<<<< HEAD
      "Training (384 / 500 Steps) (loss=4.71641): 100%|| 16/16 [00:24<00:00,  1.55s/it]\n",
      "Training (400 / 500 Steps) (loss=3.91467): 100%|| 16/16 [00:12<00:00,  1.24it/s]\n",
      "Training (416 / 500 Steps) (loss=4.37487): 100%|| 16/16 [00:13<00:00,  1.21it/s]\n",
      "Training (432 / 500 Steps) (loss=4.43210): 100%|| 16/16 [00:13<00:00,  1.20it/s]\n",
      "Training (448 / 500 Steps) (loss=4.49097):  94%|| 15/16 [00:12<00:00,  6.66it/s]\n",
      "Validating... (loss=X.X):   0%|| 0/16 [00:00<?, ?it/s]\u001B[A\n",
      "Validating... (loss=4.67947):   0%|| 0/16 [00:10<?, ?it/s]\u001B[A\n",
      "Validating... (loss=4.67947):   6%|| 1/16 [00:10<02:33, 10.22s/it]\u001B[A\n",
      "Validating... (loss=4.23108):   6%|| 1/16 [00:10<02:33, 10.22s/it]\u001B[A\n",
      "Validating... (loss=3.94353):   6%|| 1/16 [00:10<02:33, 10.22s/it]\u001B[A\n",
      "Validating... (loss=4.10154):   6%|| 1/16 [00:10<02:33, 10.22s/it]\u001B[A\n",
      "Validating... (loss=4.10154):  25%|| 4/16 [00:10<00:23,  1.97s/it]\u001B[A\n",
      "Validating... (loss=4.06273):  25%|| 4/16 [00:10<00:23,  1.97s/it]\u001B[A\n",
      "Validating... (loss=4.23591):  25%|| 4/16 [00:10<00:23,  1.97s/it]\u001B[A\n",
      "Validating... (loss=4.45285):  25%|| 4/16 [00:10<00:23,  1.97s/it]\u001B[A\n",
      "Validating... (loss=4.45285):  44%|| 7/16 [00:10<00:08,  1.07it/s]\u001B[A\n",
      "Validating... (loss=4.01832):  44%|| 7/16 [00:10<00:08,  1.07it/s]\u001B[A\n",
      "Validating... (loss=4.24568):  44%|| 7/16 [00:10<00:08,  1.07it/s]\u001B[A\n",
      "Validating... (loss=3.94099):  44%|| 7/16 [00:10<00:08,  1.07it/s]\u001B[A\n",
      "Validating... (loss=3.94099):  62%|| 10/16 [00:10<00:03,  1.83it/s]\u001B[A\n",
      "Validating... (loss=3.86754):  62%|| 10/16 [00:10<00:03,  1.83it/s]\u001B[A\n",
      "Validating... (loss=4.11656):  62%|| 10/16 [00:10<00:03,  1.83it/s]\u001B[A\n",
      "Validating... (loss=4.19015):  62%|| 10/16 [00:10<00:03,  1.83it/s]\u001B[A\n",
      "Validating... (loss=4.19015):  81%|| 13/16 [00:10<00:01,  2.83it/s]\u001B[A\n",
      "Validating... (loss=4.19931):  81%|| 13/16 [00:10<00:01,  2.83it/s]\u001B[A\n",
      "Validating... (loss=4.17606):  81%|| 13/16 [00:10<00:01,  2.83it/s]\u001B[A\n",
      "Validating... (loss=4.02339):  81%|| 13/16 [00:10<00:01,  2.83it/s]\u001B[A\n",
      "Validating... (loss=4.02339): 100%|| 16/16 [00:11<00:00,  1.41it/s]\u001B[A\n"
=======
      "Training (128 / 500 Steps) (loss=5.03313): 100%|| 16/16 [00:24<00:00,  1.56s/it]\n",
      "Training (144 / 500 Steps) (loss=4.90704): 100%|| 16/16 [00:13<00:00,  1.16it/s]\n",
      "Training (160 / 500 Steps) (loss=4.85259): 100%|| 16/16 [00:13<00:00,  1.16it/s]\n",
      "Training (176 / 500 Steps) (loss=4.99434): 100%|| 16/16 [00:13<00:00,  1.19it/s]\n",
      "Training (192 / 500 Steps) (loss=4.68704):  94%|| 15/16 [00:12<00:00,  6.72it/s]\n",
      "Validating... (loss=X.X):   0%|| 0/16 [00:00<?, ?it/s]\u001B[A\n",
      "Validating... (loss=5.08119):   0%|| 0/16 [00:10<?, ?it/s]\u001B[A\n",
      "Validating... (loss=5.08119):   6%|| 1/16 [00:10<02:36, 10.45s/it]\u001B[A\n",
      "Validating... (loss=4.71081):   6%|| 1/16 [00:10<02:36, 10.45s/it]\u001B[A\n",
      "Validating... (loss=4.54795):   6%|| 1/16 [00:10<02:36, 10.45s/it]\u001B[A\n",
      "Validating... (loss=4.68228):   6%|| 1/16 [00:10<02:36, 10.45s/it]\u001B[A\n",
      "Validating... (loss=4.68228):  25%|| 4/16 [00:10<00:24,  2.01s/it]\u001B[A\n",
      "Validating... (loss=4.62427):  25%|| 4/16 [00:10<00:24,  2.01s/it]\u001B[A\n",
      "Validating... (loss=4.70392):  25%|| 4/16 [00:10<00:24,  2.01s/it]\u001B[A\n",
      "Validating... (loss=4.89256):  25%|| 4/16 [00:10<00:24,  2.01s/it]\u001B[A\n",
      "Validating... (loss=4.89256):  44%|| 7/16 [00:10<00:08,  1.05it/s]\u001B[A\n",
      "Validating... (loss=4.47294):  44%|| 7/16 [00:10<00:08,  1.05it/s]\u001B[A\n",
      "Validating... (loss=4.87764):  44%|| 7/16 [00:10<00:08,  1.05it/s]\u001B[A\n",
      "Validating... (loss=4.63360):  44%|| 7/16 [00:10<00:08,  1.05it/s]\u001B[A\n",
      "Validating... (loss=4.63360):  62%|| 10/16 [00:10<00:03,  1.79it/s]\u001B[A\n",
      "Validating... (loss=4.44751):  62%|| 10/16 [00:10<00:03,  1.79it/s]\u001B[A\n",
      "Validating... (loss=4.75459):  62%|| 10/16 [00:10<00:03,  1.79it/s]\u001B[A\n",
      "Validating... (loss=4.71955):  62%|| 10/16 [00:10<00:03,  1.79it/s]\u001B[A\n",
      "Validating... (loss=4.71955):  81%|| 13/16 [00:10<00:01,  2.78it/s]\u001B[A\n",
      "Validating... (loss=4.61489):  81%|| 13/16 [00:10<00:01,  2.78it/s]\u001B[A\n",
      "Validating... (loss=4.71720):  81%|| 13/16 [00:11<00:01,  2.78it/s]\u001B[A\n",
      "Validating... (loss=4.69690):  81%|| 13/16 [00:11<00:01,  2.78it/s]\u001B[A\n",
      "Validating... (loss=4.69690): 100%|| 16/16 [00:11<00:00,  1.39it/s]\u001B[A\n"
>>>>>>> c88a79754c6d1f3b5eee6ac77f2291018cab2f89
     ]
    },
    {
     "name": "stdout",
     "output_type": "stream",
     "text": [
<<<<<<< HEAD
=======
      "    Valid Accuracy: 0.32812\n"
     ]
    },
    {
     "name": "stderr",
     "output_type": "stream",
     "text": [
      "Training (192 / 500 Steps) (loss=4.68704): 100%|| 16/16 [00:24<00:00,  3.70s/it]"
     ]
    },
    {
     "name": "stdout",
     "output_type": "stream",
     "text": [
      "    Saved model checkpoint to output\\Tiny ImageNet_origin_12_checkpoint.bin\n",
      "\n"
     ]
    },
    {
     "name": "stderr",
     "output_type": "stream",
     "text": [
      "Training (192 / 500 Steps) (loss=4.68704): 100%|| 16/16 [00:25<00:00,  1.57s/it]\n",
      "Training (208 / 500 Steps) (loss=4.53713): 100%|| 16/16 [00:12<00:00,  1.24it/s]\n",
      "Training (224 / 500 Steps) (loss=4.81306): 100%|| 16/16 [00:13<00:00,  1.21it/s]\n",
      "Training (240 / 500 Steps) (loss=4.82584): 100%|| 16/16 [00:13<00:00,  1.21it/s]\n",
      "Training (256 / 500 Steps) (loss=4.83164):  94%|| 15/16 [00:12<00:00,  6.79it/s]\n",
      "Validating... (loss=X.X):   0%|| 0/16 [00:00<?, ?it/s]\u001B[A\n",
      "Validating... (loss=4.92232):   0%|| 0/16 [00:10<?, ?it/s]\u001B[A\n",
      "Validating... (loss=4.92232):   6%|| 1/16 [00:10<02:35, 10.37s/it]\u001B[A\n",
      "Validating... (loss=4.49600):   6%|| 1/16 [00:10<02:35, 10.37s/it]\u001B[A\n",
      "Validating... (loss=4.33357):   6%|| 1/16 [00:10<02:35, 10.37s/it]\u001B[A\n",
      "Validating... (loss=4.43460):   6%|| 1/16 [00:10<02:35, 10.37s/it]\u001B[A\n",
      "Validating... (loss=4.43460):  25%|| 4/16 [00:10<00:23,  2.00s/it]\u001B[A\n",
      "Validating... (loss=4.32199):  25%|| 4/16 [00:10<00:23,  2.00s/it]\u001B[A\n",
      "Validating... (loss=4.48504):  25%|| 4/16 [00:10<00:23,  2.00s/it]\u001B[A\n",
      "Validating... (loss=4.75235):  25%|| 4/16 [00:10<00:23,  2.00s/it]\u001B[A\n",
      "Validating... (loss=4.75235):  44%|| 7/16 [00:10<00:08,  1.06it/s]\u001B[A\n",
      "Validating... (loss=4.32299):  44%|| 7/16 [00:10<00:08,  1.06it/s]\u001B[A\n",
      "Validating... (loss=4.62528):  44%|| 7/16 [00:10<00:08,  1.06it/s]\u001B[A\n",
      "Validating... (loss=4.23153):  44%|| 7/16 [00:10<00:08,  1.06it/s]\u001B[A\n",
      "Validating... (loss=4.23153):  62%|| 10/16 [00:10<00:03,  1.81it/s]\u001B[A\n",
      "Validating... (loss=4.19501):  62%|| 10/16 [00:10<00:03,  1.81it/s]\u001B[A\n",
      "Validating... (loss=4.50346):  62%|| 10/16 [00:10<00:03,  1.81it/s]\u001B[A\n",
      "Validating... (loss=4.45970):  62%|| 10/16 [00:10<00:03,  1.81it/s]\u001B[A\n",
      "Validating... (loss=4.45970):  81%|| 13/16 [00:10<00:01,  2.80it/s]\u001B[A\n",
      "Validating... (loss=4.50608):  81%|| 13/16 [00:10<00:01,  2.80it/s]\u001B[A\n",
      "Validating... (loss=4.52378):  81%|| 13/16 [00:10<00:01,  2.80it/s]\u001B[A\n",
      "Validating... (loss=4.43983):  81%|| 13/16 [00:10<00:01,  2.80it/s]\u001B[A\n",
      "Validating... (loss=4.43983): 100%|| 16/16 [00:11<00:00,  1.40it/s]\u001B[A\n"
     ]
    },
    {
     "name": "stdout",
     "output_type": "stream",
     "text": [
      "    Valid Accuracy: 0.38281\n"
     ]
    },
    {
     "name": "stderr",
     "output_type": "stream",
     "text": [
      "Training (256 / 500 Steps) (loss=4.83164): 100%|| 16/16 [00:24<00:00,  3.67s/it]"
     ]
    },
    {
     "name": "stdout",
     "output_type": "stream",
     "text": [
      "    Saved model checkpoint to output\\Tiny ImageNet_origin_12_checkpoint.bin\n",
      "\n"
     ]
    },
    {
     "name": "stderr",
     "output_type": "stream",
     "text": [
      "Training (256 / 500 Steps) (loss=4.83164): 100%|| 16/16 [00:25<00:00,  1.57s/it]\n",
      "Training (272 / 500 Steps) (loss=4.44663): 100%|| 16/16 [00:12<00:00,  1.24it/s]\n",
      "Training (288 / 500 Steps) (loss=4.74945): 100%|| 16/16 [00:13<00:00,  1.21it/s]\n",
      "Training (304 / 500 Steps) (loss=3.90408): 100%|| 16/16 [00:13<00:00,  1.19it/s]\n",
      "Training (320 / 500 Steps) (loss=4.47437):  94%|| 15/16 [00:13<00:00,  6.65it/s]\n",
      "Validating... (loss=X.X):   0%|| 0/16 [00:00<?, ?it/s]\u001B[A\n",
      "Validating... (loss=4.79205):   0%|| 0/16 [00:10<?, ?it/s]\u001B[A\n",
      "Validating... (loss=4.79205):   6%|| 1/16 [00:10<02:33, 10.22s/it]\u001B[A\n",
      "Validating... (loss=4.38076):   6%|| 1/16 [00:10<02:33, 10.22s/it]\u001B[A\n",
      "Validating... (loss=4.14201):   6%|| 1/16 [00:10<02:33, 10.22s/it]\u001B[A\n",
      "Validating... (loss=4.21487):   6%|| 1/16 [00:10<02:33, 10.22s/it]\u001B[A\n",
      "Validating... (loss=4.21487):  25%|| 4/16 [00:10<00:23,  1.97s/it]\u001B[A\n",
      "Validating... (loss=4.19454):  25%|| 4/16 [00:10<00:23,  1.97s/it]\u001B[A\n",
      "Validating... (loss=4.42653):  25%|| 4/16 [00:10<00:23,  1.97s/it]\u001B[A\n",
      "Validating... (loss=4.55978):  25%|| 4/16 [00:10<00:23,  1.97s/it]\u001B[A\n",
      "Validating... (loss=4.55978):  44%|| 7/16 [00:10<00:08,  1.07it/s]\u001B[A\n",
      "Validating... (loss=4.17376):  44%|| 7/16 [00:10<00:08,  1.07it/s]\u001B[A\n",
      "Validating... (loss=4.46880):  44%|| 7/16 [00:10<00:08,  1.07it/s]\u001B[A\n",
      "Validating... (loss=4.08363):  44%|| 7/16 [00:10<00:08,  1.07it/s]\u001B[A\n",
      "Validating... (loss=4.08363):  62%|| 10/16 [00:10<00:03,  1.83it/s]\u001B[A\n",
      "Validating... (loss=4.06021):  62%|| 10/16 [00:10<00:03,  1.83it/s]\u001B[A\n",
      "Validating... (loss=4.32362):  62%|| 10/16 [00:10<00:03,  1.83it/s]\u001B[A\n",
      "Validating... (loss=4.31619):  62%|| 10/16 [00:10<00:03,  1.83it/s]\u001B[A\n",
      "Validating... (loss=4.31619):  81%|| 13/16 [00:10<00:01,  2.82it/s]\u001B[A\n",
      "Validating... (loss=4.27210):  81%|| 13/16 [00:10<00:01,  2.82it/s]\u001B[A\n",
      "Validating... (loss=4.36545):  81%|| 13/16 [00:10<00:01,  2.82it/s]\u001B[A\n",
      "Validating... (loss=4.21363):  81%|| 13/16 [00:10<00:01,  2.82it/s]\u001B[A\n",
      "Validating... (loss=4.21363): 100%|| 16/16 [00:11<00:00,  1.41it/s]\u001B[A\n"
     ]
    },
    {
     "name": "stdout",
     "output_type": "stream",
     "text": [
      "    Valid Accuracy: 0.41406\n"
     ]
    },
    {
     "name": "stderr",
     "output_type": "stream",
     "text": [
      "Training (320 / 500 Steps) (loss=4.47437): 100%|| 16/16 [00:25<00:00,  3.64s/it]"
     ]
    },
    {
     "name": "stdout",
     "output_type": "stream",
     "text": [
      "    Saved model checkpoint to output\\Tiny ImageNet_origin_12_checkpoint.bin\n",
      "\n"
     ]
    },
    {
     "name": "stderr",
     "output_type": "stream",
     "text": [
      "Training (320 / 500 Steps) (loss=4.47437): 100%|| 16/16 [00:25<00:00,  1.60s/it]\n",
      "Training (336 / 500 Steps) (loss=4.78000): 100%|| 16/16 [00:12<00:00,  1.26it/s]\n",
      "Training (352 / 500 Steps) (loss=4.56112): 100%|| 16/16 [00:13<00:00,  1.18it/s]\n",
      "Training (368 / 500 Steps) (loss=4.60689): 100%|| 16/16 [00:13<00:00,  1.21it/s]\n",
      "Training (384 / 500 Steps) (loss=4.71641):  94%|| 15/16 [00:12<00:00,  6.81it/s]\n",
      "Validating... (loss=X.X):   0%|| 0/16 [00:00<?, ?it/s]\u001B[A\n",
      "Validating... (loss=4.67244):   0%|| 0/16 [00:10<?, ?it/s]\u001B[A\n",
      "Validating... (loss=4.67244):   6%|| 1/16 [00:10<02:33, 10.25s/it]\u001B[A\n",
      "Validating... (loss=4.28399):   6%|| 1/16 [00:10<02:33, 10.25s/it]\u001B[A\n",
      "Validating... (loss=4.01300):   6%|| 1/16 [00:10<02:33, 10.25s/it]\u001B[A\n",
      "Validating... (loss=4.13545):   6%|| 1/16 [00:10<02:33, 10.25s/it]\u001B[A\n",
      "Validating... (loss=4.13545):  25%|| 4/16 [00:10<00:23,  1.97s/it]\u001B[A\n",
      "Validating... (loss=4.08296):  25%|| 4/16 [00:10<00:23,  1.97s/it]\u001B[A\n",
      "Validating... (loss=4.32042):  25%|| 4/16 [00:10<00:23,  1.97s/it]\u001B[A\n",
      "Validating... (loss=4.48098):  25%|| 4/16 [00:10<00:23,  1.97s/it]\u001B[A\n",
      "Validating... (loss=4.48098):  44%|| 7/16 [00:10<00:08,  1.07it/s]\u001B[A\n",
      "Validating... (loss=4.08151):  44%|| 7/16 [00:10<00:08,  1.07it/s]\u001B[A\n",
      "Validating... (loss=4.32594):  44%|| 7/16 [00:10<00:08,  1.07it/s]\u001B[A\n",
      "Validating... (loss=3.98478):  44%|| 7/16 [00:10<00:08,  1.07it/s]\u001B[A\n",
      "Validating... (loss=3.98478):  62%|| 10/16 [00:10<00:03,  1.83it/s]\u001B[A\n",
      "Validating... (loss=3.93088):  62%|| 10/16 [00:10<00:03,  1.83it/s]\u001B[A\n",
      "Validating... (loss=4.22753):  62%|| 10/16 [00:10<00:03,  1.83it/s]\u001B[A\n",
      "Validating... (loss=4.22299):  62%|| 10/16 [00:10<00:03,  1.83it/s]\u001B[A\n",
      "Validating... (loss=4.22299):  81%|| 13/16 [00:10<00:01,  2.83it/s]\u001B[A\n",
      "Validating... (loss=4.24599):  81%|| 13/16 [00:10<00:01,  2.83it/s]\u001B[A\n",
      "Validating... (loss=4.18194):  81%|| 13/16 [00:10<00:01,  2.83it/s]\u001B[A\n",
      "Validating... (loss=4.10050):  81%|| 13/16 [00:10<00:01,  2.83it/s]\u001B[A\n",
      "Validating... (loss=4.10050): 100%|| 16/16 [00:11<00:00,  1.41it/s]\u001B[A\n"
     ]
    },
    {
     "name": "stdout",
     "output_type": "stream",
     "text": [
      "    Valid Accuracy: 0.42969\n"
     ]
    },
    {
     "name": "stderr",
     "output_type": "stream",
     "text": [
      "Training (384 / 500 Steps) (loss=4.71641): 100%|| 16/16 [00:24<00:00,  3.65s/it]"
     ]
    },
    {
     "name": "stdout",
     "output_type": "stream",
     "text": [
      "    Saved model checkpoint to output\\Tiny ImageNet_origin_12_checkpoint.bin\n",
      "\n"
     ]
    },
    {
     "name": "stderr",
     "output_type": "stream",
     "text": [
      "Training (384 / 500 Steps) (loss=4.71641): 100%|| 16/16 [00:24<00:00,  1.55s/it]\n",
      "Training (400 / 500 Steps) (loss=3.91467): 100%|| 16/16 [00:12<00:00,  1.24it/s]\n",
      "Training (416 / 500 Steps) (loss=4.37487): 100%|| 16/16 [00:13<00:00,  1.21it/s]\n",
      "Training (432 / 500 Steps) (loss=4.43210): 100%|| 16/16 [00:13<00:00,  1.20it/s]\n",
      "Training (448 / 500 Steps) (loss=4.49097):  94%|| 15/16 [00:12<00:00,  6.66it/s]\n",
      "Validating... (loss=X.X):   0%|| 0/16 [00:00<?, ?it/s]\u001B[A\n",
      "Validating... (loss=4.67947):   0%|| 0/16 [00:10<?, ?it/s]\u001B[A\n",
      "Validating... (loss=4.67947):   6%|| 1/16 [00:10<02:33, 10.22s/it]\u001B[A\n",
      "Validating... (loss=4.23108):   6%|| 1/16 [00:10<02:33, 10.22s/it]\u001B[A\n",
      "Validating... (loss=3.94353):   6%|| 1/16 [00:10<02:33, 10.22s/it]\u001B[A\n",
      "Validating... (loss=4.10154):   6%|| 1/16 [00:10<02:33, 10.22s/it]\u001B[A\n",
      "Validating... (loss=4.10154):  25%|| 4/16 [00:10<00:23,  1.97s/it]\u001B[A\n",
      "Validating... (loss=4.06273):  25%|| 4/16 [00:10<00:23,  1.97s/it]\u001B[A\n",
      "Validating... (loss=4.23591):  25%|| 4/16 [00:10<00:23,  1.97s/it]\u001B[A\n",
      "Validating... (loss=4.45285):  25%|| 4/16 [00:10<00:23,  1.97s/it]\u001B[A\n",
      "Validating... (loss=4.45285):  44%|| 7/16 [00:10<00:08,  1.07it/s]\u001B[A\n",
      "Validating... (loss=4.01832):  44%|| 7/16 [00:10<00:08,  1.07it/s]\u001B[A\n",
      "Validating... (loss=4.24568):  44%|| 7/16 [00:10<00:08,  1.07it/s]\u001B[A\n",
      "Validating... (loss=3.94099):  44%|| 7/16 [00:10<00:08,  1.07it/s]\u001B[A\n",
      "Validating... (loss=3.94099):  62%|| 10/16 [00:10<00:03,  1.83it/s]\u001B[A\n",
      "Validating... (loss=3.86754):  62%|| 10/16 [00:10<00:03,  1.83it/s]\u001B[A\n",
      "Validating... (loss=4.11656):  62%|| 10/16 [00:10<00:03,  1.83it/s]\u001B[A\n",
      "Validating... (loss=4.19015):  62%|| 10/16 [00:10<00:03,  1.83it/s]\u001B[A\n",
      "Validating... (loss=4.19015):  81%|| 13/16 [00:10<00:01,  2.83it/s]\u001B[A\n",
      "Validating... (loss=4.19931):  81%|| 13/16 [00:10<00:01,  2.83it/s]\u001B[A\n",
      "Validating... (loss=4.17606):  81%|| 13/16 [00:10<00:01,  2.83it/s]\u001B[A\n",
      "Validating... (loss=4.02339):  81%|| 13/16 [00:10<00:01,  2.83it/s]\u001B[A\n",
      "Validating... (loss=4.02339): 100%|| 16/16 [00:11<00:00,  1.41it/s]\u001B[A\n"
     ]
    },
    {
     "name": "stdout",
     "output_type": "stream",
     "text": [
>>>>>>> c88a79754c6d1f3b5eee6ac77f2291018cab2f89
      "    Valid Accuracy: 0.44531\n"
     ]
    },
    {
     "name": "stderr",
     "output_type": "stream",
     "text": [
      "Training (448 / 500 Steps) (loss=4.49097): 100%|| 16/16 [00:24<00:00,  3.63s/it]"
     ]
    },
    {
     "name": "stdout",
     "output_type": "stream",
     "text": [
      "    Saved model checkpoint to output\\Tiny ImageNet_origin_12_checkpoint.bin\n",
      "\n"
     ]
    },
    {
     "name": "stderr",
     "output_type": "stream",
     "text": [
      "Training (448 / 500 Steps) (loss=4.49097): 100%|| 16/16 [00:25<00:00,  1.57s/it]\n",
      "Training (464 / 500 Steps) (loss=4.65523): 100%|| 16/16 [00:13<00:00,  1.20it/s]\n",
      "Training (480 / 500 Steps) (loss=4.23045): 100%|| 16/16 [00:13<00:00,  1.18it/s]\n",
      "Training (496 / 500 Steps) (loss=4.48728): 100%|| 16/16 [00:13<00:00,  1.21it/s]\n",
      "Training (500 / 500 Steps) (loss=3.94640):  19%|| 3/16 [00:12<00:52,  4.04s/it]"
     ]
    },
    {
     "name": "stdout",
     "output_type": "stream",
     "text": [
      "Best Accuracy: \t0.445312\n",
<<<<<<< HEAD
>>>>>>> c88a79754c6d1f3b5eee6ac77f2291018cab2f89
=======
>>>>>>> c88a79754c6d1f3b5eee6ac77f2291018cab2f89
      "End Training!\n"
     ]
    },
    {
     "name": "stderr",
     "output_type": "stream",
     "text": [
      "\n"
     ]
    }
   ],
   "execution_count": 8
  }
 ],
 "metadata": {
  "kernelspec": {
   "display_name": "Python 3",
   "language": "python",
   "name": "python3"
  },
  "language_info": {
   "codemirror_mode": {
    "name": "ipython",
    "version": 3
   },
   "file_extension": ".py",
   "mimetype": "text/x-python",
   "name": "python",
   "nbconvert_exporter": "python",
   "pygments_lexer": "ipython3",
   "version": "3.9.13"
  }
 },
 "nbformat": 4,
 "nbformat_minor": 5
}
