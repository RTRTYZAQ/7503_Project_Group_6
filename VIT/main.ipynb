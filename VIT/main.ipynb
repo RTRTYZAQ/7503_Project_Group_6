{
 "cells": [
  {
   "cell_type": "code",
   "id": "a83911f7",
   "metadata": {},
   "source": [
    "import torch\n",
    "from train import train, setup, set_seed"
   ],
   "outputs": [],
   "execution_count": null
  },
  {
   "cell_type": "code",
   "id": "034c1711",
   "metadata": {},
   "source": [
    "class Args:\n",
    "    pass\n",
    "\n",
    "args = Args()"
   ],
   "outputs": [],
   "execution_count": null
  },
  {
   "cell_type": "code",
   "id": "3d2632ac",
   "metadata": {},
   "source": [
    "def args_set(args, dataset=\"cifar10\", extra_attention=None, num_blocks=12, train_example_nums=512, test_example_nums=128, batch_size=16, total_steps=500, warmup_steps=50, eval_every=64, learning_rate=3e-2):\n",
    "    args.extra_attention = extra_attention\n",
    "\n",
    "    args.num_blocks = num_blocks\n",
    "\n",
    "    args.train_example_nums = train_example_nums\n",
    "    args.test_example_nums = test_example_nums\n",
    "    \n",
    "    args.name = dataset + '_' + extra_attention + '_' + str(num_blocks) if extra_attention != None else dataset + '_' + 'origin' + '_' + str(num_blocks)\n",
    "    args.dataset = dataset\n",
    "    args.model_type = \"ViT-B_16\"\n",
    "    args.pretrained_dir = \"./pretrain_weights/imagenet21k_ViT-B_16.npz\"\n",
    "    args.output_dir = \"output\"\n",
    "\n",
    "    args.img_size = 224\n",
    "    args.train_batch_size = batch_size\n",
    "    args.eval_batch_size = batch_size\n",
    "    args.eval_every = eval_every\n",
    "\n",
    "    args.learning_rate = learning_rate\n",
    "    args.weight_decay = 0\n",
    "    args.num_steps = total_steps\n",
    "    args.decay_type = \"cosine\"\n",
    "    args.warmup_steps = warmup_steps\n",
    "    args.max_grad_norm = 1.0\n",
    "\n",
    "    args.local_rank = -1\n",
    "    args.seed = 42\n",
    "    args.gradient_accumulation_steps = 1\n",
    "    args.fp16 = False\n",
    "    args.fp16_opt_level = 'O2'\n",
    "    args.loss_scale = 0\n",
    "\n",
    "    return args"
   ],
   "outputs": [],
   "execution_count": null
  },
  {
   "cell_type": "code",
   "id": "3c9b58e0",
   "metadata": {},
   "source": [
    "def VIT_train(args, dataset, extra_attention, num_blocks, train_example_nums, test_example_nums, batch_size, total_steps, warmup_steps, eval_every, learning_rate):\n",
    "    args = args_set(args, dataset, extra_attention, num_blocks, train_example_nums, test_example_nums, batch_size, total_steps, warmup_steps, eval_every, learning_rate)\n",
    "\n",
    "    device = torch.device(\"cuda\" if torch.cuda.is_available() else \"cpu\")\n",
    "    args.n_gpu = torch.cuda.device_count()\n",
    "    args.device = device\n",
    "\n",
    "    set_seed(args)\n",
    "    args, model = setup(args)\n",
    "    train(args, model)"
   ],
   "outputs": [],
   "execution_count": null
  },
  {
   "cell_type": "markdown",
   "id": "f76cd1d1",
   "metadata": {},
   "source": [
    "# set up:"
   ]
  },
  {
   "cell_type": "code",
   "id": "28ff5da9",
   "metadata": {},
   "source": [
    "dataset = 'Tiny ImageNet' #['cifar10', 'cifar100', 'Tiny ImageNet']\n",
    "\n",
    "# extra_attention = \"MoE\" #[None, 'Random', 'GAU', 'Global_SlidingWindow', 'BigBird', 'MoE', 'LowRank']\n",
    "extra_attention = 'LowRank'\n",
    "num_blocks = 12\n",
    "\n",
    "train_example_nums = 100000 #训练数据量\n",
    "\n",
    "test_example_nums = 10000 #测试数据量\n",
    "\n",
    "batch_size = 16\n",
    "\n",
    "total_steps = 20000\n",
    "\n",
    "warmup_steps = 500\n",
    "\n",
    "eval_every = 500\n",
    "\n",
    "learning_rate = 3e-2"
   ],
   "outputs": [],
   "execution_count": null
  },
  {
   "cell_type": "markdown",
   "id": "f1330f2a",
   "metadata": {},
   "source": [
    "# train:"
   ]
  },
  {
   "cell_type": "code",
   "id": "810d6919",
   "metadata": {},
   "source": [
    "VIT_train(args, dataset, extra_attention, num_blocks, train_example_nums, test_example_nums, batch_size, total_steps, warmup_steps, eval_every, learning_rate)"
   ],
   "outputs": [],
   "execution_count": null
  }
 ],
 "metadata": {
  "kernelspec": {
   "display_name": "DeepLearning",
   "language": "python",
   "name": "python3"
  },
  "language_info": {
   "codemirror_mode": {
    "name": "ipython",
    "version": 3
   },
   "file_extension": ".py",
   "mimetype": "text/x-python",
   "name": "python",
   "nbconvert_exporter": "python",
   "pygments_lexer": "ipython3",
   "version": "3.11.11"
  }
 },
 "nbformat": 4,
 "nbformat_minor": 5
}
