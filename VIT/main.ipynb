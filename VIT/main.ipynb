{
 "cells": [
  {
   "cell_type": "code",
   "execution_count": 1,
   "id": "a83911f7",
   "metadata": {
    "ExecuteTime": {
     "end_time": "2025-04-29T03:02:59.460953Z",
     "start_time": "2025-04-29T03:02:56.729575Z"
    }
   },
   "outputs": [],
   "source": [
    "import torch\n",
    "from train import train, setup, set_seed"
   ]
  },
  {
   "cell_type": "code",
   "execution_count": 2,
   "id": "034c1711",
   "metadata": {
    "ExecuteTime": {
     "end_time": "2025-04-29T03:02:59.468107Z",
     "start_time": "2025-04-29T03:02:59.464959Z"
    }
   },
   "outputs": [],
   "source": [
    "class Args:\n",
    "    pass\n",
    "\n",
    "args = Args()"
   ]
  },
  {
   "cell_type": "code",
   "execution_count": 3,
   "id": "3d2632ac",
   "metadata": {
    "ExecuteTime": {
     "end_time": "2025-04-29T03:02:59.603614Z",
     "start_time": "2025-04-29T03:02:59.598554Z"
    }
   },
   "outputs": [],
   "source": [
    "def args_set(args, dataset=\"cifar10\", extra_attention=None, num_blocks=12, train_example_nums=512, test_example_nums=128, batch_size=16, total_steps=500, warmup_steps=50, eval_every=64, learning_rate=3e-2):\n",
    "    args.extra_attention = extra_attention\n",
    "\n",
    "    args.num_blocks = num_blocks\n",
    "\n",
    "    args.train_example_nums = train_example_nums\n",
    "    args.test_example_nums = test_example_nums\n",
    "    \n",
    "    args.name = dataset + '_' + extra_attention + '_' + str(num_blocks) if extra_attention != None else dataset + '_' + 'origin' + '_' + str(num_blocks)\n",
    "    args.dataset = dataset\n",
    "    args.model_type = \"ViT-B_16\"\n",
    "    args.pretrained_dir = \"./pretrain_weights/imagenet21k_ViT-B_16.npz\"\n",
    "    args.output_dir = \"output\"\n",
    "\n",
    "    args.img_size = 224\n",
    "    args.train_batch_size = batch_size\n",
    "    args.eval_batch_size = batch_size\n",
    "    args.eval_every = eval_every\n",
    "\n",
    "    args.learning_rate = learning_rate\n",
    "    args.weight_decay = 0\n",
    "    args.num_steps = total_steps\n",
    "    args.decay_type = \"cosine\"\n",
    "    args.warmup_steps = warmup_steps\n",
    "    args.max_grad_norm = 1.0\n",
    "\n",
    "    args.local_rank = -1\n",
    "    args.seed = 42\n",
    "    args.gradient_accumulation_steps = 1\n",
    "    args.fp16 = False\n",
    "    args.fp16_opt_level = 'O2'\n",
    "    args.loss_scale = 0\n",
    "\n",
    "    return args"
   ]
  },
  {
   "cell_type": "code",
   "execution_count": 4,
   "id": "3c9b58e0",
   "metadata": {
    "ExecuteTime": {
     "end_time": "2025-04-29T03:02:59.613784Z",
     "start_time": "2025-04-29T03:02:59.609748Z"
    }
   },
   "outputs": [],
   "source": [
    "def VIT_train(args, dataset, extra_attention, num_blocks, train_example_nums, test_example_nums, batch_size, total_steps, warmup_steps, eval_every, learning_rate):\n",
    "    args = args_set(args, dataset, extra_attention, num_blocks, train_example_nums, test_example_nums, batch_size, total_steps, warmup_steps, eval_every, learning_rate)\n",
    "\n",
    "    device = torch.device(\"cuda\" if torch.cuda.is_available() else \"cpu\")\n",
    "    args.n_gpu = torch.cuda.device_count()\n",
    "    args.device = device\n",
    "\n",
    "    set_seed(args)\n",
    "    args, model = setup(args)\n",
    "    train(args, model)"
   ]
  },
  {
   "cell_type": "markdown",
   "id": "f76cd1d1",
   "metadata": {},
   "source": [
    "# set up:"
   ]
  },
  {
   "cell_type": "code",
   "execution_count": 5,
   "id": "28ff5da9",
   "metadata": {
    "ExecuteTime": {
     "end_time": "2025-04-29T03:06:16.042108Z",
     "start_time": "2025-04-29T03:06:16.038057Z"
    }
   },
   "outputs": [],
   "source": [
    "dataset = 'cifar10' #['cifar10', 'cifar100', 'Tiny ImageNet']\n",
    "\n",
    "extra_attention = \"MoE\" #[None, 'Random', 'GAU', 'Global_SlidingWindow', 'BigBird', 'MoE']\n",
    "# extra_attention = None\n",
    "num_blocks = 12\n",
    "\n",
    "train_example_nums = 1000 #训练数据量\n",
    "\n",
    "test_example_nums = 128 #测试数据量\n",
    "\n",
    "batch_size = 16\n",
    "\n",
    "total_steps = 5000\n",
    "\n",
    "warmup_steps = 100\n",
    "\n",
    "eval_every = 64\n",
    "\n",
    "learning_rate = 1e-3"
   ]
  },
  {
   "cell_type": "markdown",
   "id": "f1330f2a",
   "metadata": {},
   "source": [
    "# train:"
   ]
  },
  {
   "cell_type": "code",
   "execution_count": 6,
   "id": "810d6919",
   "metadata": {
    "ExecuteTime": {
     "end_time": "2025-04-29T03:14:47.185007Z",
     "start_time": "2025-04-29T03:06:18.234421Z"
    },
    "scrolled": true
   },
   "outputs": [
    {
     "name": "stdout",
     "output_type": "stream",
     "text": [
      "extra attention: MoE\n",
      "num of blocks: 12\n",
      "Total Parameter: 114.2M\n",
      "\n",
      "Files already downloaded and verified\n",
      "Files already downloaded and verified\n"
     ]
    },
    {
     "name": "stderr",
     "output_type": "stream",
     "text": [
      "Training (63 / 5000 Steps) (loss=2.29773): 100%|| 63/63 [00:09<00:00,  6.86it/s]\n",
      "Training (64 / 5000 Steps) (loss=2.29344):   0%|| 0/63 [00:00<?, ?it/s]\n",
      "Validating... (loss=X.X):   0%|| 0/8 [00:00<?, ?it/s]\u001b[A\n",
      "Validating... (loss=2.28694):   0%|| 0/8 [00:00<?, ?it/s]\u001b[A\n",
      "Validating... (loss=2.29050):   0%|| 0/8 [00:00<?, ?it/s]\u001b[A\n",
      "Validating... (loss=2.29092):   0%|| 0/8 [00:00<?, ?it/s]\u001b[A\n",
      "Validating... (loss=2.29467):   0%|| 0/8 [00:00<?, ?it/s]\u001b[A\n",
      "Validating... (loss=2.28891):   0%|| 0/8 [00:00<?, ?it/s]\u001b[A\n",
      "Validating... (loss=2.29473):   0%|| 0/8 [00:00<?, ?it/s]\u001b[A\n",
      "Validating... (loss=2.29666):   0%|| 0/8 [00:00<?, ?it/s]\u001b[A\n",
      "Validating... (loss=2.29207): 100%|| 8/8 [00:00<00:00, 10.79it/s]\n"
     ]
    },
    {
     "name": "stdout",
     "output_type": "stream",
     "text": [
      "    Valid Accuracy: 0.16406\n"
     ]
    },
    {
     "name": "stderr",
     "output_type": "stream",
     "text": [
      "Training (65 / 5000 Steps) (loss=2.29124):   3%|| 2/63 [00:01<00:46,  1.31it/s]"
     ]
    },
    {
     "name": "stdout",
     "output_type": "stream",
     "text": [
      "    Saved model checkpoint to output/cifar10_MoE_12_checkpoint.bin\n",
      "\n"
     ]
    },
    {
     "name": "stderr",
     "output_type": "stream",
     "text": [
      "Training (126 / 5000 Steps) (loss=2.24544): 100%|| 63/63 [00:08<00:00,  7.36it/s]\n",
      "Training (128 / 5000 Steps) (loss=2.28035):   2%|| 1/63 [00:00<00:12,  4.78it/s]\n",
      "Validating... (loss=X.X):   0%|| 0/8 [00:00<?, ?it/s]\u001b[A\n",
      "Validating... (loss=2.22140):   0%|| 0/8 [00:00<?, ?it/s]\u001b[A\n",
      "Validating... (loss=2.24456):   0%|| 0/8 [00:00<?, ?it/s]\u001b[A\n",
      "Validating... (loss=2.26133):   0%|| 0/8 [00:00<?, ?it/s]\u001b[A\n",
      "Validating... (loss=2.26272):   0%|| 0/8 [00:00<?, ?it/s]\u001b[A\n",
      "Validating... (loss=2.25187):   0%|| 0/8 [00:00<?, ?it/s]\u001b[A\n",
      "Validating... (loss=2.26952):   0%|| 0/8 [00:00<?, ?it/s]\u001b[A\n",
      "Validating... (loss=2.26220):   0%|| 0/8 [00:00<?, ?it/s]\u001b[A\n",
      "Validating... (loss=2.24630): 100%|| 8/8 [00:00<00:00, 13.25it/s]\n"
     ]
    },
    {
     "name": "stdout",
     "output_type": "stream",
     "text": [
      "    Valid Accuracy: 0.26562\n"
     ]
    },
    {
     "name": "stderr",
     "output_type": "stream",
     "text": [
      "Training (129 / 5000 Steps) (loss=2.25149):   5%|| 3/63 [00:01<00:30,  1.98it/s]"
     ]
    },
    {
     "name": "stdout",
     "output_type": "stream",
     "text": [
      "    Saved model checkpoint to output/cifar10_MoE_12_checkpoint.bin\n",
      "\n"
     ]
    },
    {
     "name": "stderr",
     "output_type": "stream",
     "text": [
      "Training (189 / 5000 Steps) (loss=2.23449): 100%|| 63/63 [00:07<00:00,  8.94it/s]\n",
      "Training (192 / 5000 Steps) (loss=2.23277):   3%|| 2/63 [00:00<00:11,  5.43it/s]\n",
      "Validating... (loss=X.X):   0%|| 0/8 [00:00<?, ?it/s]\u001b[A\n",
      "Validating... (loss=2.12293):   0%|| 0/8 [00:00<?, ?it/s]\u001b[A\n",
      "Validating... (loss=2.17055):   0%|| 0/8 [00:00<?, ?it/s]\u001b[A\n",
      "Validating... (loss=2.20731):   0%|| 0/8 [00:00<?, ?it/s]\u001b[A\n",
      "Validating... (loss=2.20913):   0%|| 0/8 [00:00<?, ?it/s]\u001b[A\n",
      "Validating... (loss=2.21871):   0%|| 0/8 [00:00<?, ?it/s]\u001b[A\n",
      "Validating... (loss=2.23323):   0%|| 0/8 [00:00<?, ?it/s]\u001b[A\n",
      "Validating... (loss=2.19361):   0%|| 0/8 [00:00<?, ?it/s]\u001b[A\n",
      "Validating... (loss=2.20351): 100%|| 8/8 [00:00<00:00, 14.53it/s]\n"
     ]
    },
    {
     "name": "stdout",
     "output_type": "stream",
     "text": [
      "    Valid Accuracy: 0.30469\n"
     ]
    },
    {
     "name": "stderr",
     "output_type": "stream",
     "text": [
      "Training (193 / 5000 Steps) (loss=2.20334):   6%|| 4/63 [00:01<00:28,  2.05it/s]"
     ]
    },
    {
     "name": "stdout",
     "output_type": "stream",
     "text": [
      "    Saved model checkpoint to output/cifar10_MoE_12_checkpoint.bin\n",
      "\n"
     ]
    },
    {
     "name": "stderr",
     "output_type": "stream",
     "text": [
      "Training (252 / 5000 Steps) (loss=2.12044): 100%|| 63/63 [00:07<00:00,  8.10it/s]\n",
      "Training (256 / 5000 Steps) (loss=2.13476):   5%|| 3/63 [00:00<00:11,  5.38it/s]\n",
      "Validating... (loss=X.X):   0%|| 0/8 [00:00<?, ?it/s]\u001b[A\n",
      "Validating... (loss=2.03893):   0%|| 0/8 [00:00<?, ?it/s]\u001b[A\n",
      "Validating... (loss=2.13081):   0%|| 0/8 [00:00<?, ?it/s]\u001b[A\n",
      "Validating... (loss=2.16374):   0%|| 0/8 [00:00<?, ?it/s]\u001b[A\n",
      "Validating... (loss=2.16541):   0%|| 0/8 [00:00<?, ?it/s]\u001b[A\n",
      "Validating... (loss=2.15080):   0%|| 0/8 [00:00<?, ?it/s]\u001b[A\n",
      "Validating... (loss=2.21838):   0%|| 0/8 [00:00<?, ?it/s]\u001b[A\n",
      "Validating... (loss=2.16314):   0%|| 0/8 [00:00<?, ?it/s]\u001b[A\n",
      "Validating... (loss=2.13672): 100%|| 8/8 [00:00<00:00, 10.84it/s]\n",
      "Training (257 / 5000 Steps) (loss=2.27658):   8%|| 5/63 [00:01<00:20,  2.81it/s]"
     ]
    },
    {
     "name": "stdout",
     "output_type": "stream",
     "text": [
      "    Valid Accuracy: 0.28125\n"
     ]
    },
    {
     "name": "stderr",
     "output_type": "stream",
     "text": [
      "Training (315 / 5000 Steps) (loss=2.05050): 100%|| 63/63 [00:09<00:00,  6.32it/s]\n",
      "Training (320 / 5000 Steps) (loss=2.06966):   6%|| 4/63 [00:00<00:10,  5.56it/s]\n",
      "Validating... (loss=X.X):   0%|| 0/8 [00:00<?, ?it/s]\u001b[A\n",
      "Validating... (loss=1.97607):   0%|| 0/8 [00:00<?, ?it/s]\u001b[A\n",
      "Validating... (loss=2.06557):   0%|| 0/8 [00:00<?, ?it/s]\u001b[A\n",
      "Validating... (loss=2.12731):   0%|| 0/8 [00:00<?, ?it/s]\u001b[A\n",
      "Validating... (loss=2.13744):   0%|| 0/8 [00:00<?, ?it/s]\u001b[A\n",
      "Validating... (loss=2.08381):   0%|| 0/8 [00:00<?, ?it/s]\u001b[A\n",
      "Validating... (loss=2.17436):   0%|| 0/8 [00:00<?, ?it/s]\u001b[A\n",
      "Validating... (loss=2.12103):   0%|| 0/8 [00:00<?, ?it/s]\u001b[A\n",
      "Validating... (loss=2.05864): 100%|| 8/8 [00:00<00:00, 10.78it/s]\n"
     ]
    },
    {
     "name": "stdout",
     "output_type": "stream",
     "text": [
      "    Valid Accuracy: 0.32031\n"
     ]
    },
    {
     "name": "stderr",
     "output_type": "stream",
     "text": [
      "Training (321 / 5000 Steps) (loss=2.03611):  10%|| 6/63 [00:02<00:26,  2.18it/s]"
     ]
    },
    {
     "name": "stdout",
     "output_type": "stream",
     "text": [
      "    Saved model checkpoint to output/cifar10_MoE_12_checkpoint.bin\n",
      "\n"
     ]
    },
    {
     "name": "stderr",
     "output_type": "stream",
     "text": [
      "Training (378 / 5000 Steps) (loss=1.98109): 100%|| 63/63 [00:10<00:00,  6.03it/s]\n",
      "Training (384 / 5000 Steps) (loss=2.11891):   8%|| 5/63 [00:01<00:10,  5.76it/s]\n",
      "Validating... (loss=X.X):   0%|| 0/8 [00:00<?, ?it/s]\u001b[A\n",
      "Validating... (loss=1.96228):   0%|| 0/8 [00:00<?, ?it/s]\u001b[A\n",
      "Validating... (loss=2.05441):   0%|| 0/8 [00:00<?, ?it/s]\u001b[A\n",
      "Validating... (loss=2.12747):   0%|| 0/8 [00:00<?, ?it/s]\u001b[A\n",
      "Validating... (loss=2.12490):   0%|| 0/8 [00:00<?, ?it/s]\u001b[A\n",
      "Validating... (loss=2.12850):   0%|| 0/8 [00:00<?, ?it/s]\u001b[A\n",
      "Validating... (loss=2.14114):   0%|| 0/8 [00:00<?, ?it/s]\u001b[A\n",
      "Validating... (loss=2.09639):   0%|| 0/8 [00:00<?, ?it/s]\u001b[A\n",
      "Validating... (loss=2.03688): 100%|| 8/8 [00:00<00:00, 11.06it/s]\n"
     ]
    },
    {
     "name": "stdout",
     "output_type": "stream",
     "text": [
      "    Valid Accuracy: 0.34375\n"
     ]
    },
    {
     "name": "stderr",
     "output_type": "stream",
     "text": [
      "Training (385 / 5000 Steps) (loss=2.06933):  11%|| 7/63 [00:02<00:23,  2.37it/s]"
     ]
    },
    {
     "name": "stdout",
     "output_type": "stream",
     "text": [
      "    Saved model checkpoint to output/cifar10_MoE_12_checkpoint.bin\n",
      "\n"
     ]
    },
    {
     "name": "stderr",
     "output_type": "stream",
     "text": [
      "Training (441 / 5000 Steps) (loss=2.13459): 100%|| 63/63 [00:10<00:00,  6.17it/s]\n",
      "Training (448 / 5000 Steps) (loss=2.05944):  10%|| 6/63 [00:01<00:08,  6.81it/s]\n",
      "Validating... (loss=X.X):   0%|| 0/8 [00:00<?, ?it/s]\u001b[A\n",
      "Validating... (loss=1.90166):   0%|| 0/8 [00:00<?, ?it/s]\u001b[A\n",
      "Validating... (loss=2.07236):   0%|| 0/8 [00:00<?, ?it/s]\u001b[A\n",
      "Validating... (loss=2.09515):   0%|| 0/8 [00:00<?, ?it/s]\u001b[A\n",
      "Validating... (loss=2.12885):   0%|| 0/8 [00:00<?, ?it/s]\u001b[A\n",
      "Validating... (loss=2.10826):   0%|| 0/8 [00:00<?, ?it/s]\u001b[A\n",
      "Validating... (loss=2.15928):   0%|| 0/8 [00:00<?, ?it/s]\u001b[A\n",
      "Validating... (loss=2.08107):   0%|| 0/8 [00:00<?, ?it/s]\u001b[A\n",
      "Validating... (loss=2.00250): 100%|| 8/8 [00:00<00:00, 19.05it/s]\n",
      "Training (449 / 5000 Steps) (loss=2.05496):  13%|| 8/63 [00:01<00:12,  4.34it/s]"
     ]
    },
    {
     "name": "stdout",
     "output_type": "stream",
     "text": [
      "    Valid Accuracy: 0.27344\n"
     ]
    },
    {
     "name": "stderr",
     "output_type": "stream",
     "text": [
      "Training (504 / 5000 Steps) (loss=2.07982): 100%|| 63/63 [00:08<00:00,  7.00it/s]\n",
      "Training (512 / 5000 Steps) (loss=2.04892):  11%|| 7/63 [00:01<00:08,  6.46it/s]\n",
      "Validating... (loss=X.X):   0%|| 0/8 [00:00<?, ?it/s]\u001b[A\n",
      "Validating... (loss=1.83641):   0%|| 0/8 [00:00<?, ?it/s]\u001b[A\n",
      "Validating... (loss=2.05609):   0%|| 0/8 [00:00<?, ?it/s]\u001b[A\n",
      "Validating... (loss=2.05585):   0%|| 0/8 [00:00<?, ?it/s]\u001b[A\n",
      "Validating... (loss=2.07021):   0%|| 0/8 [00:00<?, ?it/s]\u001b[A\n",
      "Validating... (loss=1.98856):   0%|| 0/8 [00:00<?, ?it/s]\u001b[A\n",
      "Validating... (loss=2.13300):   0%|| 0/8 [00:00<?, ?it/s]\u001b[A\n",
      "Validating... (loss=2.01246):   0%|| 0/8 [00:00<?, ?it/s]\u001b[A\n",
      "Validating... (loss=1.93758): 100%|| 8/8 [00:00<00:00, 11.85it/s]\n",
      "Training (513 / 5000 Steps) (loss=1.95649):  14%|| 9/63 [00:02<00:15,  3.42it/s]"
     ]
    },
    {
     "name": "stdout",
     "output_type": "stream",
     "text": [
      "    Valid Accuracy: 0.29688\n"
     ]
    },
    {
     "name": "stderr",
     "output_type": "stream",
     "text": [
      "Training (567 / 5000 Steps) (loss=1.80861): 100%|| 63/63 [00:09<00:00,  6.39it/s]\n",
      "Training (576 / 5000 Steps) (loss=2.05457):  13%|| 8/63 [00:01<00:08,  6.72it/s]\n",
      "Validating... (loss=X.X):   0%|| 0/8 [00:00<?, ?it/s]\u001b[A\n",
      "Validating... (loss=1.82602):   0%|| 0/8 [00:00<?, ?it/s]\u001b[A\n",
      "Validating... (loss=2.04849):   0%|| 0/8 [00:00<?, ?it/s]\u001b[A\n",
      "Validating... (loss=2.04669):   0%|| 0/8 [00:00<?, ?it/s]\u001b[A\n",
      "Validating... (loss=2.09327):   0%|| 0/8 [00:00<?, ?it/s]\u001b[A\n",
      "Validating... (loss=1.98188):   0%|| 0/8 [00:00<?, ?it/s]\u001b[A\n",
      "Validating... (loss=2.16579):   0%|| 0/8 [00:00<?, ?it/s]\u001b[A\n",
      "Validating... (loss=1.99404):   0%|| 0/8 [00:00<?, ?it/s]\u001b[A\n",
      "Validating... (loss=1.92821): 100%|| 8/8 [00:00<00:00, 11.01it/s]\n",
      "Training (577 / 5000 Steps) (loss=1.96837):  16%|| 10/63 [00:02<00:16,  3.23it/s]"
     ]
    },
    {
     "name": "stdout",
     "output_type": "stream",
     "text": [
      "    Valid Accuracy: 0.32812\n"
     ]
    },
    {
     "name": "stderr",
     "output_type": "stream",
     "text": [
      "Training (630 / 5000 Steps) (loss=1.81763): 100%|| 63/63 [00:09<00:00,  6.47it/s]\n",
      "Training (640 / 5000 Steps) (loss=2.02897):  14%|| 9/63 [00:01<00:06,  8.11it/s]\n",
      "Validating... (loss=X.X):   0%|| 0/8 [00:00<?, ?it/s]\u001b[A\n",
      "Validating... (loss=1.78970):   0%|| 0/8 [00:00<?, ?it/s]\u001b[A\n",
      "Validating... (loss=2.00207):   0%|| 0/8 [00:00<?, ?it/s]\u001b[A\n",
      "Validating... (loss=1.96943):   0%|| 0/8 [00:00<?, ?it/s]\u001b[A\n",
      "Validating... (loss=2.01085):   0%|| 0/8 [00:00<?, ?it/s]\u001b[A\n",
      "Validating... (loss=1.91331):   0%|| 0/8 [00:00<?, ?it/s]\u001b[A\n",
      "Validating... (loss=2.07102):   0%|| 0/8 [00:00<?, ?it/s]\u001b[A\n",
      "Validating... (loss=1.89799):   0%|| 0/8 [00:00<?, ?it/s]\u001b[A\n",
      "Validating... (loss=1.89207): 100%|| 8/8 [00:00<00:00, 13.70it/s]\n"
     ]
    },
    {
     "name": "stdout",
     "output_type": "stream",
     "text": [
      "    Valid Accuracy: 0.36719\n"
     ]
    },
    {
     "name": "stderr",
     "output_type": "stream",
     "text": [
      "Training (641 / 5000 Steps) (loss=1.90889):  17%|| 11/63 [00:02<00:17,  3.05it/s]"
     ]
    },
    {
     "name": "stdout",
     "output_type": "stream",
     "text": [
      "    Saved model checkpoint to output/cifar10_MoE_12_checkpoint.bin\n",
      "\n"
     ]
    },
    {
     "name": "stderr",
     "output_type": "stream",
     "text": [
      "Training (693 / 5000 Steps) (loss=2.17765): 100%|| 63/63 [00:09<00:00,  6.78it/s]\n",
      "Training (704 / 5000 Steps) (loss=2.06093):  16%|| 10/63 [00:01<00:07,  6.84it/s]\n",
      "Validating... (loss=X.X):   0%|| 0/8 [00:00<?, ?it/s]\u001b[A\n",
      "Validating... (loss=1.79748):   0%|| 0/8 [00:00<?, ?it/s]\u001b[A\n",
      "Validating... (loss=2.00551):   0%|| 0/8 [00:00<?, ?it/s]\u001b[A\n",
      "Validating... (loss=2.05336):   0%|| 0/8 [00:00<?, ?it/s]\u001b[A\n",
      "Validating... (loss=2.06309):   0%|| 0/8 [00:00<?, ?it/s]\u001b[A\n",
      "Validating... (loss=1.96105):   0%|| 0/8 [00:00<?, ?it/s]\u001b[A\n",
      "Validating... (loss=2.06617):   0%|| 0/8 [00:00<?, ?it/s]\u001b[A\n",
      "Validating... (loss=1.94992):   0%|| 0/8 [00:00<?, ?it/s]\u001b[A\n",
      "Validating... (loss=1.83194): 100%|| 8/8 [00:00<00:00, 10.96it/s]\n",
      "Training (705 / 5000 Steps) (loss=1.76051):  19%|| 12/63 [00:02<00:15,  3.31it/s]"
     ]
    },
    {
     "name": "stdout",
     "output_type": "stream",
     "text": [
      "    Valid Accuracy: 0.31250\n"
     ]
    },
    {
     "name": "stderr",
     "output_type": "stream",
     "text": [
      "Training (756 / 5000 Steps) (loss=1.85967): 100%|| 63/63 [00:09<00:00,  6.49it/s]\n",
      "Training (768 / 5000 Steps) (loss=2.30497):  17%|| 11/63 [00:01<00:07,  6.90it/s]\n",
      "Validating... (loss=X.X):   0%|| 0/8 [00:00<?, ?it/s]\u001b[A\n",
      "Validating... (loss=1.78304):   0%|| 0/8 [00:00<?, ?it/s]\u001b[A\n",
      "Validating... (loss=2.02432):   0%|| 0/8 [00:00<?, ?it/s]\u001b[A\n",
      "Validating... (loss=1.95308):   0%|| 0/8 [00:00<?, ?it/s]\u001b[A\n",
      "Validating... (loss=1.99524):   0%|| 0/8 [00:00<?, ?it/s]\u001b[A\n",
      "Validating... (loss=1.89034):   0%|| 0/8 [00:00<?, ?it/s]\u001b[A\n",
      "Validating... (loss=2.07881):   0%|| 0/8 [00:00<?, ?it/s]\u001b[A\n",
      "Validating... (loss=1.92192):   0%|| 0/8 [00:00<?, ?it/s]\u001b[A\n",
      "Validating... (loss=1.86650): 100%|| 8/8 [00:00<00:00, 11.00it/s]\n",
      "Training (769 / 5000 Steps) (loss=1.86017):  21%|| 13/63 [00:02<00:14,  3.41it/s]"
     ]
    },
    {
     "name": "stdout",
     "output_type": "stream",
     "text": [
      "    Valid Accuracy: 0.32031\n"
     ]
    },
    {
     "name": "stderr",
     "output_type": "stream",
     "text": [
      "Training (819 / 5000 Steps) (loss=2.09683): 100%|| 63/63 [00:09<00:00,  6.98it/s]\n",
      "Training (832 / 5000 Steps) (loss=1.98835):  19%|| 12/63 [00:01<00:06,  7.30it/s]\n",
      "Validating... (loss=X.X):   0%|| 0/8 [00:00<?, ?it/s]\u001b[A\n",
      "Validating... (loss=1.77876):   0%|| 0/8 [00:00<?, ?it/s]\u001b[A\n",
      "Validating... (loss=2.03136):   0%|| 0/8 [00:00<?, ?it/s]\u001b[A\n",
      "Validating... (loss=2.02500):   0%|| 0/8 [00:00<?, ?it/s]\u001b[A\n",
      "Validating... (loss=2.07185):   0%|| 0/8 [00:00<?, ?it/s]\u001b[A\n",
      "Validating... (loss=1.87557):   0%|| 0/8 [00:00<?, ?it/s]\u001b[A\n",
      "Validating... (loss=2.07217):   0%|| 0/8 [00:00<?, ?it/s]\u001b[A\n",
      "Validating... (loss=1.93569):   0%|| 0/8 [00:00<?, ?it/s]\u001b[A\n",
      "Validating... (loss=1.82390): 100%|| 8/8 [00:00<00:00, 13.03it/s]\n",
      "Training (833 / 5000 Steps) (loss=1.85938):  22%|| 14/63 [00:02<00:13,  3.66it/s]"
     ]
    },
    {
     "name": "stdout",
     "output_type": "stream",
     "text": [
      "    Valid Accuracy: 0.33594\n"
     ]
    },
    {
     "name": "stderr",
     "output_type": "stream",
     "text": [
      "Training (882 / 5000 Steps) (loss=1.81469): 100%|| 63/63 [00:09<00:00,  6.97it/s]\n",
      "Training (896 / 5000 Steps) (loss=1.94518):  21%|| 13/63 [00:02<00:06,  7.19it/s]\n",
      "Validating... (loss=X.X):   0%|| 0/8 [00:00<?, ?it/s]\u001b[A\n",
      "Validating... (loss=1.77045):   0%|| 0/8 [00:00<?, ?it/s]\u001b[A\n",
      "Validating... (loss=1.94612):   0%|| 0/8 [00:00<?, ?it/s]\u001b[A\n",
      "Validating... (loss=2.00554):   0%|| 0/8 [00:00<?, ?it/s]\u001b[A\n",
      "Validating... (loss=2.03607):   0%|| 0/8 [00:00<?, ?it/s]\u001b[A\n",
      "Validating... (loss=1.89108):   0%|| 0/8 [00:00<?, ?it/s]\u001b[A\n",
      "Validating... (loss=1.97882):   0%|| 0/8 [00:00<?, ?it/s]\u001b[A\n",
      "Validating... (loss=1.91420):   0%|| 0/8 [00:00<?, ?it/s]\u001b[A\n",
      "Validating... (loss=1.81368): 100%|| 8/8 [00:00<00:00, 12.88it/s]\n",
      "Training (897 / 5000 Steps) (loss=2.03989):  24%|| 15/63 [00:02<00:13,  3.66it/s]"
     ]
    },
    {
     "name": "stdout",
     "output_type": "stream",
     "text": [
      "    Valid Accuracy: 0.32812\n"
     ]
    },
    {
     "name": "stderr",
     "output_type": "stream",
     "text": [
      "Training (945 / 5000 Steps) (loss=1.88832): 100%|| 63/63 [00:09<00:00,  6.90it/s]\n",
      "Training (960 / 5000 Steps) (loss=1.72823):  22%|| 14/63 [00:02<00:07,  6.80it/s]\n",
      "Validating... (loss=X.X):   0%|| 0/8 [00:00<?, ?it/s]\u001b[A\n",
      "Validating... (loss=1.73860):   0%|| 0/8 [00:00<?, ?it/s]\u001b[A\n",
      "Validating... (loss=1.95340):   0%|| 0/8 [00:00<?, ?it/s]\u001b[A\n",
      "Validating... (loss=1.98518):   0%|| 0/8 [00:00<?, ?it/s]\u001b[A\n",
      "Validating... (loss=2.03511):   0%|| 0/8 [00:00<?, ?it/s]\u001b[A\n",
      "Validating... (loss=1.86825):   0%|| 0/8 [00:00<?, ?it/s]\u001b[A\n",
      "Validating... (loss=2.08061):   0%|| 0/8 [00:00<?, ?it/s]\u001b[A\n",
      "Validating... (loss=1.90421):   0%|| 0/8 [00:00<?, ?it/s]\u001b[A\n",
      "Validating... (loss=1.78859): 100%|| 8/8 [00:00<00:00, 11.24it/s]\n",
      "Training (961 / 5000 Steps) (loss=2.02891):  25%|| 16/63 [00:03<00:13,  3.38it/s]"
     ]
    },
    {
     "name": "stdout",
     "output_type": "stream",
     "text": [
      "    Valid Accuracy: 0.31250\n"
     ]
    },
    {
     "name": "stderr",
     "output_type": "stream",
     "text": [
      "Training (1008 / 5000 Steps) (loss=1.90911): 100%|| 63/63 [00:09<00:00,  6.70it/s]\n",
      "Training (1024 / 5000 Steps) (loss=1.71708):  24%|| 15/63 [00:02<00:06,  7.18it/s]\n",
      "Validating... (loss=X.X):   0%|| 0/8 [00:00<?, ?it/s]\u001b[A\n",
      "Validating... (loss=1.67574):   0%|| 0/8 [00:00<?, ?it/s]\u001b[A\n",
      "Validating... (loss=1.95333):   0%|| 0/8 [00:00<?, ?it/s]\u001b[A\n",
      "Validating... (loss=1.92590):   0%|| 0/8 [00:00<?, ?it/s]\u001b[A\n",
      "Validating... (loss=2.02333):   0%|| 0/8 [00:00<?, ?it/s]\u001b[A\n",
      "Validating... (loss=1.84549):   0%|| 0/8 [00:00<?, ?it/s]\u001b[A\n",
      "Validating... (loss=1.93330):   0%|| 0/8 [00:00<?, ?it/s]\u001b[A\n",
      "Validating... (loss=1.80713):   0%|| 0/8 [00:00<?, ?it/s]\u001b[A\n",
      "Validating... (loss=1.78861): 100%|| 8/8 [00:00<00:00, 12.89it/s]\n",
      "Training (1025 / 5000 Steps) (loss=1.74952):  27%|| 17/63 [00:03<00:12,  3.73it/s]"
     ]
    },
    {
     "name": "stdout",
     "output_type": "stream",
     "text": [
      "    Valid Accuracy: 0.36719\n"
     ]
    },
    {
     "name": "stderr",
     "output_type": "stream",
     "text": [
      "Training (1071 / 5000 Steps) (loss=1.85778): 100%|| 63/63 [00:09<00:00,  6.67it/s]\n",
      "Training (1088 / 5000 Steps) (loss=1.94956):  25%|| 16/63 [00:02<00:06,  7.06it/s]\n",
      "Validating... (loss=X.X):   0%|| 0/8 [00:00<?, ?it/s]\u001b[A\n",
      "Validating... (loss=1.68943):   0%|| 0/8 [00:00<?, ?it/s]\u001b[A\n",
      "Validating... (loss=1.92458):   0%|| 0/8 [00:00<?, ?it/s]\u001b[A\n",
      "Validating... (loss=1.93712):   0%|| 0/8 [00:00<?, ?it/s]\u001b[A\n",
      "Validating... (loss=2.01369):   0%|| 0/8 [00:00<?, ?it/s]\u001b[A\n",
      "Validating... (loss=1.83373):   0%|| 0/8 [00:00<?, ?it/s]\u001b[A\n",
      "Validating... (loss=1.93920):   0%|| 0/8 [00:00<?, ?it/s]\u001b[A\n",
      "Validating... (loss=1.81970):   0%|| 0/8 [00:00<?, ?it/s]\u001b[A\n",
      "Validating... (loss=1.76550): 100%|| 8/8 [00:00<00:00, 11.48it/s]\n",
      "Training (1089 / 5000 Steps) (loss=1.90650):  29%|| 18/63 [00:03<00:13,  3.41it/s]"
     ]
    },
    {
     "name": "stdout",
     "output_type": "stream",
     "text": [
      "    Valid Accuracy: 0.33594\n"
     ]
    },
    {
     "name": "stderr",
     "output_type": "stream",
     "text": [
      "Training (1134 / 5000 Steps) (loss=2.07193): 100%|| 63/63 [00:09<00:00,  6.48it/s]\n",
      "Training (1152 / 5000 Steps) (loss=1.90776):  27%|| 17/63 [00:02<00:06,  6.98it/s]\n",
      "Validating... (loss=X.X):   0%|| 0/8 [00:00<?, ?it/s]\u001b[A\n",
      "Validating... (loss=1.64662):   0%|| 0/8 [00:00<?, ?it/s]\u001b[A\n",
      "Validating... (loss=1.90816):   0%|| 0/8 [00:00<?, ?it/s]\u001b[A\n",
      "Validating... (loss=1.88936):   0%|| 0/8 [00:00<?, ?it/s]\u001b[A\n",
      "Validating... (loss=1.97071):   0%|| 0/8 [00:00<?, ?it/s]\u001b[A\n",
      "Validating... (loss=1.79513):   0%|| 0/8 [00:00<?, ?it/s]\u001b[A\n",
      "Validating... (loss=1.93273):   0%|| 0/8 [00:00<?, ?it/s]\u001b[A\n",
      "Validating... (loss=1.74566):   0%|| 0/8 [00:00<?, ?it/s]\u001b[A\n",
      "Validating... (loss=1.75110): 100%|| 8/8 [00:00<00:00, 11.22it/s]\n",
      "Training (1153 / 5000 Steps) (loss=1.84885):  30%|| 19/63 [00:03<00:12,  3.41it/s]"
     ]
    },
    {
     "name": "stdout",
     "output_type": "stream",
     "text": [
      "    Valid Accuracy: 0.36719\n"
     ]
    },
    {
     "name": "stderr",
     "output_type": "stream",
     "text": [
      "Training (1197 / 5000 Steps) (loss=1.97364): 100%|| 63/63 [00:09<00:00,  6.41it/s]\n",
      "Training (1216 / 5000 Steps) (loss=2.00124):  29%|| 18/63 [00:02<00:06,  6.86it/s]\n",
      "Validating... (loss=X.X):   0%|| 0/8 [00:00<?, ?it/s]\u001b[A\n",
      "Validating... (loss=1.70207):   0%|| 0/8 [00:00<?, ?it/s]\u001b[A\n",
      "Validating... (loss=1.85929):   0%|| 0/8 [00:00<?, ?it/s]\u001b[A\n",
      "Validating... (loss=1.89509):   0%|| 0/8 [00:00<?, ?it/s]\u001b[A\n",
      "Validating... (loss=2.00320):   0%|| 0/8 [00:00<?, ?it/s]\u001b[A\n",
      "Validating... (loss=1.82419):   0%|| 0/8 [00:00<?, ?it/s]\u001b[A\n",
      "Validating... (loss=1.93354):   0%|| 0/8 [00:00<?, ?it/s]\u001b[A\n",
      "Validating... (loss=1.73368):   0%|| 0/8 [00:00<?, ?it/s]\u001b[A\n",
      "Validating... (loss=1.73678): 100%|| 8/8 [00:00<00:00, 13.38it/s]\n",
      "Training (1217 / 5000 Steps) (loss=2.09360):  32%|| 20/63 [00:03<00:11,  3.79it/s]"
     ]
    },
    {
     "name": "stdout",
     "output_type": "stream",
     "text": [
      "    Valid Accuracy: 0.36719\n"
     ]
    },
    {
     "name": "stderr",
     "output_type": "stream",
     "text": [
      "Training (1260 / 5000 Steps) (loss=2.06292): 100%|| 63/63 [00:09<00:00,  6.41it/s]\n",
      "Training (1280 / 5000 Steps) (loss=2.01005):  30%|| 19/63 [00:02<00:06,  7.29it/s]\n",
      "Validating... (loss=X.X):   0%|| 0/8 [00:00<?, ?it/s]\u001b[A\n",
      "Validating... (loss=1.69075):   0%|| 0/8 [00:00<?, ?it/s]\u001b[A\n",
      "Validating... (loss=1.86236):   0%|| 0/8 [00:00<?, ?it/s]\u001b[A\n",
      "Validating... (loss=1.91714):   0%|| 0/8 [00:00<?, ?it/s]\u001b[A\n",
      "Validating... (loss=2.00440):   0%|| 0/8 [00:00<?, ?it/s]\u001b[A\n",
      "Validating... (loss=1.83880):   0%|| 0/8 [00:00<?, ?it/s]\u001b[A\n",
      "Validating... (loss=1.97731):   0%|| 0/8 [00:00<?, ?it/s]\u001b[A\n",
      "Validating... (loss=1.79184):   0%|| 0/8 [00:00<?, ?it/s]\u001b[A\n",
      "Validating... (loss=1.71466): 100%|| 8/8 [00:00<00:00, 13.45it/s]\n",
      "Training (1281 / 5000 Steps) (loss=1.79056):  33%|| 21/63 [00:03<00:10,  3.91it/s]"
     ]
    },
    {
     "name": "stdout",
     "output_type": "stream",
     "text": [
      "    Valid Accuracy: 0.35938\n"
     ]
    },
    {
     "name": "stderr",
     "output_type": "stream",
     "text": [
      "Training (1323 / 5000 Steps) (loss=1.72769): 100%|| 63/63 [00:07<00:00,  8.45it/s]\n",
      "Training (1344 / 5000 Steps) (loss=1.93136):  32%|| 20/63 [00:02<00:03, 11.05it/s]\n",
      "Validating... (loss=X.X):   0%|| 0/8 [00:00<?, ?it/s]\u001b[A\n",
      "Validating... (loss=1.67020):   0%|| 0/8 [00:00<?, ?it/s]\u001b[A\n",
      "Validating... (loss=1.89943):   0%|| 0/8 [00:00<?, ?it/s]\u001b[A\n",
      "Validating... (loss=1.94711):   0%|| 0/8 [00:00<?, ?it/s]\u001b[A\n",
      "Validating... (loss=2.04389):   0%|| 0/8 [00:00<?, ?it/s]\u001b[A\n",
      "Validating... (loss=1.85889):   0%|| 0/8 [00:00<?, ?it/s]\u001b[A\n",
      "Validating... (loss=2.02271):   0%|| 0/8 [00:00<?, ?it/s]\u001b[A\n",
      "Validating... (loss=1.82516):   0%|| 0/8 [00:00<?, ?it/s]\u001b[A\n",
      "Validating... (loss=1.76723): 100%|| 8/8 [00:00<00:00, 14.65it/s]\n",
      "Training (1345 / 5000 Steps) (loss=1.94522):  35%|| 22/63 [00:02<00:07,  5.42it/s]"
     ]
    },
    {
     "name": "stdout",
     "output_type": "stream",
     "text": [
      "    Valid Accuracy: 0.33594\n"
     ]
    },
    {
     "name": "stderr",
     "output_type": "stream",
     "text": [
      "Training (1386 / 5000 Steps) (loss=1.76486): 100%|| 63/63 [00:08<00:00,  7.65it/s]\n",
      "Training (1408 / 5000 Steps) (loss=1.98465):  33%|| 21/63 [00:03<00:06,  6.82it/s]\n",
      "Validating... (loss=X.X):   0%|| 0/8 [00:00<?, ?it/s]\u001b[A\n",
      "Validating... (loss=1.68973):   0%|| 0/8 [00:00<?, ?it/s]\u001b[A\n",
      "Validating... (loss=1.88719):   0%|| 0/8 [00:00<?, ?it/s]\u001b[A\n",
      "Validating... (loss=1.87636):   0%|| 0/8 [00:00<?, ?it/s]\u001b[A\n",
      "Validating... (loss=1.95811):   0%|| 0/8 [00:00<?, ?it/s]\u001b[A\n",
      "Validating... (loss=1.79172):   0%|| 0/8 [00:00<?, ?it/s]\u001b[A\n",
      "Validating... (loss=1.99532):   0%|| 0/8 [00:00<?, ?it/s]\u001b[A\n",
      "Validating... (loss=1.80124):   0%|| 0/8 [00:00<?, ?it/s]\u001b[A\n",
      "Validating... (loss=1.73959): 100%|| 8/8 [00:00<00:00, 11.16it/s]\n",
      "Training (1409 / 5000 Steps) (loss=2.00369):  37%|| 23/63 [00:04<00:11,  3.35it/s]"
     ]
    },
    {
     "name": "stdout",
     "output_type": "stream",
     "text": [
      "    Valid Accuracy: 0.35938\n"
     ]
    },
    {
     "name": "stderr",
     "output_type": "stream",
     "text": [
      "Training (1449 / 5000 Steps) (loss=1.69553): 100%|| 63/63 [00:10<00:00,  6.29it/s]\n",
      "Training (1472 / 5000 Steps) (loss=1.81984):  35%|| 22/63 [00:03<00:05,  7.06it/s]\n",
      "Validating... (loss=X.X):   0%|| 0/8 [00:00<?, ?it/s]\u001b[A\n",
      "Validating... (loss=1.67029):   0%|| 0/8 [00:00<?, ?it/s]\u001b[A\n",
      "Validating... (loss=1.94067):   0%|| 0/8 [00:00<?, ?it/s]\u001b[A\n",
      "Validating... (loss=1.82241):   0%|| 0/8 [00:00<?, ?it/s]\u001b[A\n",
      "Validating... (loss=1.90405):   0%|| 0/8 [00:00<?, ?it/s]\u001b[A\n",
      "Validating... (loss=1.78770):   0%|| 0/8 [00:00<?, ?it/s]\u001b[A\n",
      "Validating... (loss=1.91161):   0%|| 0/8 [00:00<?, ?it/s]\u001b[A\n",
      "Validating... (loss=1.80205):   0%|| 0/8 [00:00<?, ?it/s]\u001b[A\n",
      "Validating... (loss=1.77946): 100%|| 8/8 [00:00<00:00, 12.05it/s]\n",
      "Training (1473 / 5000 Steps) (loss=1.71772):  38%|| 24/63 [00:04<00:11,  3.49it/s]"
     ]
    },
    {
     "name": "stdout",
     "output_type": "stream",
     "text": [
      "    Valid Accuracy: 0.36719\n"
     ]
    },
    {
     "name": "stderr",
     "output_type": "stream",
     "text": [
      "Training (1512 / 5000 Steps) (loss=1.93839): 100%|| 63/63 [00:08<00:00,  7.75it/s]\n",
      "Training (1536 / 5000 Steps) (loss=2.05186):  35%|| 22/63 [00:02<00:03, 10.57it/s]\n",
      "Validating... (loss=X.X):   0%|| 0/8 [00:00<?, ?it/s]\u001b[A\n",
      "Validating... (loss=1.61487):   0%|| 0/8 [00:00<?, ?it/s]\u001b[A\n",
      "Validating... (loss=1.96881):   0%|| 0/8 [00:00<?, ?it/s]\u001b[A\n",
      "Validating... (loss=1.80353):   0%|| 0/8 [00:00<?, ?it/s]\u001b[A\n",
      "Validating... (loss=1.88419):   0%|| 0/8 [00:00<?, ?it/s]\u001b[A\n",
      "Validating... (loss=1.80103):   0%|| 0/8 [00:00<?, ?it/s]\u001b[A\n",
      "Validating... (loss=1.93660):   0%|| 0/8 [00:00<?, ?it/s]\u001b[A\n",
      "Validating... (loss=1.72007):   0%|| 0/8 [00:00<?, ?it/s]\u001b[A\n",
      "Validating... (loss=1.76472): 100%|| 8/8 [00:00<00:00, 19.21it/s]\n",
      "Training (1537 / 5000 Steps) (loss=1.79314):  40%|| 25/63 [00:03<00:05,  6.58it/s]"
     ]
    },
    {
     "name": "stdout",
     "output_type": "stream",
     "text": [
      "    Valid Accuracy: 0.35938\n"
     ]
    },
    {
     "name": "stderr",
     "output_type": "stream",
     "text": [
      "Training (1575 / 5000 Steps) (loss=1.67152): 100%|| 63/63 [00:07<00:00,  8.80it/s]\n",
      "Training (1600 / 5000 Steps) (loss=1.90434):  38%|| 24/63 [00:03<00:05,  6.99it/s]\n",
      "Validating... (loss=X.X):   0%|| 0/8 [00:00<?, ?it/s]\u001b[A\n",
      "Validating... (loss=1.58838):   0%|| 0/8 [00:00<?, ?it/s]\u001b[A\n",
      "Validating... (loss=1.90070):   0%|| 0/8 [00:00<?, ?it/s]\u001b[A\n",
      "Validating... (loss=1.83391):   0%|| 0/8 [00:00<?, ?it/s]\u001b[A\n",
      "Validating... (loss=1.89687):   0%|| 0/8 [00:00<?, ?it/s]\u001b[A\n",
      "Validating... (loss=1.68343):   0%|| 0/8 [00:00<?, ?it/s]\u001b[A\n",
      "Validating... (loss=2.00863):   0%|| 0/8 [00:00<?, ?it/s]\u001b[A\n",
      "Validating... (loss=1.68031):   0%|| 0/8 [00:00<?, ?it/s]\u001b[A\n",
      "Validating... (loss=1.70639): 100%|| 8/8 [00:00<00:00, 11.46it/s]\n",
      "Training (1601 / 5000 Steps) (loss=2.04892):  41%|| 26/63 [00:04<00:10,  3.41it/s]"
     ]
    },
    {
     "name": "stdout",
     "output_type": "stream",
     "text": [
      "    Valid Accuracy: 0.35938\n"
     ]
    },
    {
     "name": "stderr",
     "output_type": "stream",
     "text": [
      "Training (1638 / 5000 Steps) (loss=1.99777): 100%|| 63/63 [00:09<00:00,  6.42it/s]\n",
      "Training (1664 / 5000 Steps) (loss=1.99491):  40%|| 25/63 [00:03<00:05,  7.01it/s]\n",
      "Validating... (loss=X.X):   0%|| 0/8 [00:00<?, ?it/s]\u001b[A\n",
      "Validating... (loss=1.55966):   0%|| 0/8 [00:00<?, ?it/s]\u001b[A\n",
      "Validating... (loss=1.86781):   0%|| 0/8 [00:00<?, ?it/s]\u001b[A\n",
      "Validating... (loss=1.81241):   0%|| 0/8 [00:00<?, ?it/s]\u001b[A\n",
      "Validating... (loss=1.87885):   0%|| 0/8 [00:00<?, ?it/s]\u001b[A\n",
      "Validating... (loss=1.75501):   0%|| 0/8 [00:00<?, ?it/s]\u001b[A\n",
      "Validating... (loss=1.91045):   0%|| 0/8 [00:00<?, ?it/s]\u001b[A\n",
      "Validating... (loss=1.69878):   0%|| 0/8 [00:00<?, ?it/s]\u001b[A\n",
      "Validating... (loss=1.70508): 100%|| 8/8 [00:00<00:00, 11.10it/s]\n",
      "Training (1665 / 5000 Steps) (loss=2.05202):  43%|| 27/63 [00:04<00:10,  3.49it/s]"
     ]
    },
    {
     "name": "stdout",
     "output_type": "stream",
     "text": [
      "    Valid Accuracy: 0.36719\n"
     ]
    },
    {
     "name": "stderr",
     "output_type": "stream",
     "text": [
      "Training (1701 / 5000 Steps) (loss=1.59949): 100%|| 63/63 [00:09<00:00,  6.89it/s]\n",
      "Training (1728 / 5000 Steps) (loss=1.80842):  41%|| 26/63 [00:03<00:05,  7.13it/s]\n",
      "Validating... (loss=X.X):   0%|| 0/8 [00:00<?, ?it/s]\u001b[A\n",
      "Validating... (loss=1.61488):   0%|| 0/8 [00:00<?, ?it/s]\u001b[A\n",
      "Validating... (loss=1.85882):   0%|| 0/8 [00:00<?, ?it/s]\u001b[A\n",
      "Validating... (loss=1.81044):   0%|| 0/8 [00:00<?, ?it/s]\u001b[A\n",
      "Validating... (loss=1.90923):   0%|| 0/8 [00:00<?, ?it/s]\u001b[A\n",
      "Validating... (loss=1.70274):   0%|| 0/8 [00:00<?, ?it/s]\u001b[A\n",
      "Validating... (loss=1.91451):   0%|| 0/8 [00:00<?, ?it/s]\u001b[A\n",
      "Validating... (loss=1.69553):   0%|| 0/8 [00:00<?, ?it/s]\u001b[A\n",
      "Validating... (loss=1.67200): 100%|| 8/8 [00:00<00:00, 13.15it/s]\n"
     ]
    },
    {
     "name": "stdout",
     "output_type": "stream",
     "text": [
      "    Valid Accuracy: 0.39844\n"
     ]
    },
    {
     "name": "stderr",
     "output_type": "stream",
     "text": [
      "Training (1729 / 5000 Steps) (loss=1.77311):  44%|| 28/63 [00:05<00:13,  2.62it/s]"
     ]
    },
    {
     "name": "stdout",
     "output_type": "stream",
     "text": [
      "    Saved model checkpoint to output/cifar10_MoE_12_checkpoint.bin\n",
      "\n"
     ]
    },
    {
     "name": "stderr",
     "output_type": "stream",
     "text": [
      "Training (1764 / 5000 Steps) (loss=1.87685): 100%|| 63/63 [00:08<00:00,  7.46it/s]\n",
      "Training (1792 / 5000 Steps) (loss=1.90141):  43%|| 27/63 [00:03<00:04,  7.87it/s]\n",
      "Validating... (loss=X.X):   0%|| 0/8 [00:00<?, ?it/s]\u001b[A\n",
      "Validating... (loss=1.58178):   0%|| 0/8 [00:00<?, ?it/s]\u001b[A\n",
      "Validating... (loss=1.81343):   0%|| 0/8 [00:00<?, ?it/s]\u001b[A\n",
      "Validating... (loss=1.79756):   0%|| 0/8 [00:00<?, ?it/s]\u001b[A\n",
      "Validating... (loss=1.86411):   0%|| 0/8 [00:00<?, ?it/s]\u001b[A\n",
      "Validating... (loss=1.67518):   0%|| 0/8 [00:00<?, ?it/s]\u001b[A\n",
      "Validating... (loss=1.89790):   0%|| 0/8 [00:00<?, ?it/s]\u001b[A\n",
      "Validating... (loss=1.63477):   0%|| 0/8 [00:00<?, ?it/s]\u001b[A\n",
      "Validating... (loss=1.67894): 100%|| 8/8 [00:00<00:00, 10.79it/s]\n",
      "Training (1793 / 5000 Steps) (loss=1.67450):  46%|| 29/63 [00:03<00:09,  3.60it/s]"
     ]
    },
    {
     "name": "stdout",
     "output_type": "stream",
     "text": [
      "    Valid Accuracy: 0.36719\n"
     ]
    },
    {
     "name": "stderr",
     "output_type": "stream",
     "text": [
      "Training (1827 / 5000 Steps) (loss=2.05836): 100%|| 63/63 [00:07<00:00,  8.03it/s]\n",
      "Training (1856 / 5000 Steps) (loss=1.85001):  44%|| 28/63 [00:04<00:04,  7.24it/s]\n",
      "Validating... (loss=X.X):   0%|| 0/8 [00:00<?, ?it/s]\u001b[A\n",
      "Validating... (loss=1.57873):   0%|| 0/8 [00:00<?, ?it/s]\u001b[A\n",
      "Validating... (loss=1.86230):   0%|| 0/8 [00:00<?, ?it/s]\u001b[A\n",
      "Validating... (loss=1.81280):   0%|| 0/8 [00:00<?, ?it/s]\u001b[A\n",
      "Validating... (loss=1.87114):   0%|| 0/8 [00:00<?, ?it/s]\u001b[A\n",
      "Validating... (loss=1.71332):   0%|| 0/8 [00:00<?, ?it/s]\u001b[A\n",
      "Validating... (loss=1.88029):   0%|| 0/8 [00:00<?, ?it/s]\u001b[A\n",
      "Validating... (loss=1.69813):   0%|| 0/8 [00:00<?, ?it/s]\u001b[A\n",
      "Validating... (loss=1.66258): 100%|| 8/8 [00:00<00:00, 14.68it/s]\n",
      "Training (1857 / 5000 Steps) (loss=1.68008):  48%|| 30/63 [00:04<00:08,  3.92it/s]"
     ]
    },
    {
     "name": "stdout",
     "output_type": "stream",
     "text": [
      "    Valid Accuracy: 0.38281\n"
     ]
    },
    {
     "name": "stderr",
     "output_type": "stream",
     "text": [
      "Training (1890 / 5000 Steps) (loss=1.79343): 100%|| 63/63 [00:09<00:00,  6.97it/s]\n",
      "Training (1920 / 5000 Steps) (loss=1.82665):  44%|| 28/63 [00:04<00:03,  9.45it/s]\n",
      "Validating... (loss=X.X):   0%|| 0/8 [00:00<?, ?it/s]\u001b[A\n",
      "Validating... (loss=1.56795):   0%|| 0/8 [00:00<?, ?it/s]\u001b[A\n",
      "Validating... (loss=1.84743):   0%|| 0/8 [00:00<?, ?it/s]\u001b[A\n",
      "Validating... (loss=1.80421):   0%|| 0/8 [00:00<?, ?it/s]\u001b[A\n",
      "Validating... (loss=1.85464):   0%|| 0/8 [00:00<?, ?it/s]\u001b[A\n",
      "Validating... (loss=1.66896):   0%|| 0/8 [00:00<?, ?it/s]\u001b[A\n",
      "Validating... (loss=1.89232):   0%|| 0/8 [00:00<?, ?it/s]\u001b[A\n",
      "Validating... (loss=1.66964):   0%|| 0/8 [00:00<?, ?it/s]\u001b[A\n",
      "Validating... (loss=1.65714): 100%|| 8/8 [00:00<00:00, 15.01it/s]\n",
      "Training (1921 / 5000 Steps) (loss=1.94217):  49%|| 31/63 [00:04<00:05,  5.48it/s]"
     ]
    },
    {
     "name": "stdout",
     "output_type": "stream",
     "text": [
      "    Valid Accuracy: 0.39062\n"
     ]
    },
    {
     "name": "stderr",
     "output_type": "stream",
     "text": [
      "Training (1953 / 5000 Steps) (loss=1.93936): 100%|| 63/63 [00:09<00:00,  6.87it/s]\n",
      "Training (1984 / 5000 Steps) (loss=1.83512):  48%|| 30/63 [00:04<00:04,  7.15it/s]\n",
      "Validating... (loss=X.X):   0%|| 0/8 [00:00<?, ?it/s]\u001b[A\n",
      "Validating... (loss=1.59343):   0%|| 0/8 [00:00<?, ?it/s]\u001b[A\n",
      "Validating... (loss=1.83204):   0%|| 0/8 [00:00<?, ?it/s]\u001b[A\n",
      "Validating... (loss=1.82229):   0%|| 0/8 [00:00<?, ?it/s]\u001b[A\n",
      "Validating... (loss=1.86663):   0%|| 0/8 [00:00<?, ?it/s]\u001b[A\n",
      "Validating... (loss=1.69307):   0%|| 0/8 [00:00<?, ?it/s]\u001b[A\n",
      "Validating... (loss=1.89580):   0%|| 0/8 [00:00<?, ?it/s]\u001b[A\n",
      "Validating... (loss=1.73249):   0%|| 0/8 [00:00<?, ?it/s]\u001b[A\n",
      "Validating... (loss=1.64623): 100%|| 8/8 [00:00<00:00, 11.04it/s]\n",
      "Training (1985 / 5000 Steps) (loss=1.81412):  51%|| 32/63 [00:05<00:09,  3.34it/s]"
     ]
    },
    {
     "name": "stdout",
     "output_type": "stream",
     "text": [
      "    Valid Accuracy: 0.35938\n"
     ]
    },
    {
     "name": "stderr",
     "output_type": "stream",
     "text": [
      "Training (2016 / 5000 Steps) (loss=1.82150): 100%|| 63/63 [00:08<00:00,  7.54it/s]\n",
      "Training (2048 / 5000 Steps) (loss=1.62372):  49%|| 31/63 [00:04<00:04,  7.40it/s]\n",
      "Validating... (loss=X.X):   0%|| 0/8 [00:00<?, ?it/s]\u001b[A\n",
      "Validating... (loss=1.57564):   0%|| 0/8 [00:00<?, ?it/s]\u001b[A\n",
      "Validating... (loss=1.83892):   0%|| 0/8 [00:00<?, ?it/s]\u001b[A\n",
      "Validating... (loss=1.81180):   0%|| 0/8 [00:00<?, ?it/s]\u001b[A\n",
      "Validating... (loss=1.84038):   0%|| 0/8 [00:00<?, ?it/s]\u001b[A\n",
      "Validating... (loss=1.66539):   0%|| 0/8 [00:00<?, ?it/s]\u001b[A\n",
      "Validating... (loss=1.95576):   0%|| 0/8 [00:00<?, ?it/s]\u001b[A\n",
      "Validating... (loss=1.68591):   0%|| 0/8 [00:00<?, ?it/s]\u001b[A\n",
      "Validating... (loss=1.65587): 100%|| 8/8 [00:00<00:00, 11.60it/s]\n",
      "Training (2049 / 5000 Steps) (loss=2.07404):  52%|| 33/63 [00:05<00:08,  3.50it/s]"
     ]
    },
    {
     "name": "stdout",
     "output_type": "stream",
     "text": [
      "    Valid Accuracy: 0.37500\n"
     ]
    },
    {
     "name": "stderr",
     "output_type": "stream",
     "text": [
      "Training (2079 / 5000 Steps) (loss=1.88311): 100%|| 63/63 [00:09<00:00,  6.81it/s]\n",
      "Training (2112 / 5000 Steps) (loss=1.86366):  51%|| 32/63 [00:04<00:03,  9.57it/s]\n",
      "Validating... (loss=X.X):   0%|| 0/8 [00:00<?, ?it/s]\u001b[A\n",
      "Validating... (loss=1.63442):   0%|| 0/8 [00:00<?, ?it/s]\u001b[A\n",
      "Validating... (loss=1.88096):   0%|| 0/8 [00:00<?, ?it/s]\u001b[A\n",
      "Validating... (loss=1.81553):   0%|| 0/8 [00:00<?, ?it/s]\u001b[A\n",
      "Validating... (loss=1.85369):   0%|| 0/8 [00:00<?, ?it/s]\u001b[A\n",
      "Validating... (loss=1.71338):   0%|| 0/8 [00:00<?, ?it/s]\u001b[A\n",
      "Validating... (loss=1.95394):   0%|| 0/8 [00:00<?, ?it/s]\u001b[A\n",
      "Validating... (loss=1.76656):   0%|| 0/8 [00:00<?, ?it/s]\u001b[A\n",
      "Validating... (loss=1.66007): 100%|| 8/8 [00:00<00:00, 18.97it/s]\n",
      "Training (2113 / 5000 Steps) (loss=1.60068):  54%|| 34/63 [00:05<00:05,  5.60it/s]"
     ]
    },
    {
     "name": "stdout",
     "output_type": "stream",
     "text": [
      "    Valid Accuracy: 0.38281\n"
     ]
    },
    {
     "name": "stderr",
     "output_type": "stream",
     "text": [
      "Training (2142 / 5000 Steps) (loss=1.71977): 100%|| 63/63 [00:08<00:00,  7.04it/s]\n",
      "Training (2176 / 5000 Steps) (loss=1.95350):  52%|| 33/63 [00:04<00:04,  7.07it/s]\n",
      "Validating... (loss=X.X):   0%|| 0/8 [00:00<?, ?it/s]\u001b[A\n",
      "Validating... (loss=1.53102):   0%|| 0/8 [00:00<?, ?it/s]\u001b[A\n",
      "Validating... (loss=1.81910):   0%|| 0/8 [00:00<?, ?it/s]\u001b[A\n",
      "Validating... (loss=1.75988):   0%|| 0/8 [00:00<?, ?it/s]\u001b[A\n",
      "Validating... (loss=1.82681):   0%|| 0/8 [00:00<?, ?it/s]\u001b[A\n",
      "Validating... (loss=1.62790):   0%|| 0/8 [00:00<?, ?it/s]\u001b[A\n",
      "Validating... (loss=1.89719):   0%|| 0/8 [00:00<?, ?it/s]\u001b[A\n",
      "Validating... (loss=1.66333):   0%|| 0/8 [00:00<?, ?it/s]\u001b[A\n",
      "Validating... (loss=1.65514): 100%|| 8/8 [00:00<00:00, 10.90it/s]\n",
      "Training (2177 / 5000 Steps) (loss=2.07733):  56%|| 35/63 [00:05<00:08,  3.39it/s]"
     ]
    },
    {
     "name": "stdout",
     "output_type": "stream",
     "text": [
      "    Valid Accuracy: 0.37500\n"
     ]
    },
    {
     "name": "stderr",
     "output_type": "stream",
     "text": [
      "Training (2205 / 5000 Steps) (loss=1.69607): 100%|| 63/63 [00:08<00:00,  7.10it/s]\n",
      "Training (2240 / 5000 Steps) (loss=1.98408):  54%|| 34/63 [00:04<00:04,  6.99it/s]\n",
      "Validating... (loss=X.X):   0%|| 0/8 [00:00<?, ?it/s]\u001b[A\n",
      "Validating... (loss=1.58752):   0%|| 0/8 [00:00<?, ?it/s]\u001b[A\n",
      "Validating... (loss=1.82833):   0%|| 0/8 [00:00<?, ?it/s]\u001b[A\n",
      "Validating... (loss=1.74577):   0%|| 0/8 [00:00<?, ?it/s]\u001b[A\n",
      "Validating... (loss=1.83019):   0%|| 0/8 [00:00<?, ?it/s]\u001b[A\n",
      "Validating... (loss=1.64127):   0%|| 0/8 [00:00<?, ?it/s]\u001b[A\n",
      "Validating... (loss=1.89782):   0%|| 0/8 [00:00<?, ?it/s]\u001b[A\n",
      "Validating... (loss=1.71309):   0%|| 0/8 [00:00<?, ?it/s]\u001b[A\n",
      "Validating... (loss=1.66276): 100%|| 8/8 [00:00<00:00, 11.89it/s]\n",
      "Training (2241 / 5000 Steps) (loss=1.78364):  57%|| 36/63 [00:05<00:07,  3.46it/s]"
     ]
    },
    {
     "name": "stdout",
     "output_type": "stream",
     "text": [
      "    Valid Accuracy: 0.35938\n"
     ]
    },
    {
     "name": "stderr",
     "output_type": "stream",
     "text": [
      "Training (2268 / 5000 Steps) (loss=1.88373): 100%|| 63/63 [00:09<00:00,  6.72it/s]\n",
      "Training (2304 / 5000 Steps) (loss=2.07481):  56%|| 35/63 [00:04<00:03,  7.20it/s]\n",
      "Validating... (loss=X.X):   0%|| 0/8 [00:00<?, ?it/s]\u001b[A\n",
      "Validating... (loss=1.55577):   0%|| 0/8 [00:00<?, ?it/s]\u001b[A\n",
      "Validating... (loss=1.74019):   0%|| 0/8 [00:00<?, ?it/s]\u001b[A\n",
      "Validating... (loss=1.77631):   0%|| 0/8 [00:00<?, ?it/s]\u001b[A\n",
      "Validating... (loss=1.80174):   0%|| 0/8 [00:00<?, ?it/s]\u001b[A\n",
      "Validating... (loss=1.63620):   0%|| 0/8 [00:00<?, ?it/s]\u001b[A\n",
      "Validating... (loss=1.89553):   0%|| 0/8 [00:00<?, ?it/s]\u001b[A\n",
      "Validating... (loss=1.63775):   0%|| 0/8 [00:00<?, ?it/s]\u001b[A\n",
      "Validating... (loss=1.62243): 100%|| 8/8 [00:00<00:00, 11.40it/s]\n",
      "Training (2305 / 5000 Steps) (loss=1.66564):  59%|| 37/63 [00:05<00:07,  3.50it/s]"
     ]
    },
    {
     "name": "stdout",
     "output_type": "stream",
     "text": [
      "    Valid Accuracy: 0.39062\n"
     ]
    },
    {
     "name": "stderr",
     "output_type": "stream",
     "text": [
      "Training (2331 / 5000 Steps) (loss=1.83013): 100%|| 63/63 [00:09<00:00,  6.64it/s]\n",
      "Training (2368 / 5000 Steps) (loss=1.79905):  57%|| 36/63 [00:04<00:03,  7.25it/s]\n",
      "Validating... (loss=X.X):   0%|| 0/8 [00:00<?, ?it/s]\u001b[A\n",
      "Validating... (loss=1.51614):   0%|| 0/8 [00:00<?, ?it/s]\u001b[A\n",
      "Validating... (loss=1.73857):   0%|| 0/8 [00:00<?, ?it/s]\u001b[A\n",
      "Validating... (loss=1.79196):   0%|| 0/8 [00:00<?, ?it/s]\u001b[A\n",
      "Validating... (loss=1.80114):   0%|| 0/8 [00:00<?, ?it/s]\u001b[A\n",
      "Validating... (loss=1.68520):   0%|| 0/8 [00:00<?, ?it/s]\u001b[A\n",
      "Validating... (loss=1.89361):   0%|| 0/8 [00:00<?, ?it/s]\u001b[A\n",
      "Validating... (loss=1.67929):   0%|| 0/8 [00:00<?, ?it/s]\u001b[A\n",
      "Validating... (loss=1.60745): 100%|| 8/8 [00:00<00:00, 11.46it/s]\n",
      "Training (2369 / 5000 Steps) (loss=1.82777):  60%|| 38/63 [00:05<00:07,  3.49it/s]"
     ]
    },
    {
     "name": "stdout",
     "output_type": "stream",
     "text": [
      "    Valid Accuracy: 0.36719\n"
     ]
    },
    {
     "name": "stderr",
     "output_type": "stream",
     "text": [
      "Training (2394 / 5000 Steps) (loss=2.16861): 100%|| 63/63 [00:08<00:00,  7.39it/s]\n",
      "Training (2432 / 5000 Steps) (loss=1.70768):  59%|| 37/63 [00:05<00:03,  7.24it/s]\n",
      "Validating... (loss=X.X):   0%|| 0/8 [00:00<?, ?it/s]\u001b[A\n",
      "Validating... (loss=1.52917):   0%|| 0/8 [00:00<?, ?it/s]\u001b[A\n",
      "Validating... (loss=1.74252):   0%|| 0/8 [00:00<?, ?it/s]\u001b[A\n",
      "Validating... (loss=1.74568):   0%|| 0/8 [00:00<?, ?it/s]\u001b[A\n",
      "Validating... (loss=1.81621):   0%|| 0/8 [00:00<?, ?it/s]\u001b[A\n",
      "Validating... (loss=1.62395):   0%|| 0/8 [00:00<?, ?it/s]\u001b[A\n",
      "Validating... (loss=1.86024):   0%|| 0/8 [00:00<?, ?it/s]\u001b[A\n",
      "Validating... (loss=1.64728):   0%|| 0/8 [00:00<?, ?it/s]\u001b[A\n",
      "Validating... (loss=1.64517): 100%|| 8/8 [00:00<00:00, 11.61it/s]\n",
      "Training (2433 / 5000 Steps) (loss=1.64978):  62%|| 39/63 [00:06<00:06,  3.46it/s]"
     ]
    },
    {
     "name": "stdout",
     "output_type": "stream",
     "text": [
      "    Valid Accuracy: 0.38281\n"
     ]
    },
    {
     "name": "stderr",
     "output_type": "stream",
     "text": [
      "Training (2457 / 5000 Steps) (loss=1.65853): 100%|| 63/63 [00:09<00:00,  6.49it/s]\n",
      "Training (2496 / 5000 Steps) (loss=2.11755):  59%|| 37/63 [00:04<00:02, 10.41it/s]\n",
      "Validating... (loss=X.X):   0%|| 0/8 [00:00<?, ?it/s]\u001b[A\n",
      "Validating... (loss=1.51575):   0%|| 0/8 [00:00<?, ?it/s]\u001b[A\n",
      "Validating... (loss=1.74910):   0%|| 0/8 [00:00<?, ?it/s]\u001b[A\n",
      "Validating... (loss=1.75822):   0%|| 0/8 [00:00<?, ?it/s]\u001b[A\n",
      "Validating... (loss=1.81884):   0%|| 0/8 [00:00<?, ?it/s]\u001b[A\n",
      "Validating... (loss=1.64350):   0%|| 0/8 [00:00<?, ?it/s]\u001b[A\n",
      "Validating... (loss=1.88867):   0%|| 0/8 [00:00<?, ?it/s]\u001b[A\n",
      "Validating... (loss=1.62717):   0%|| 0/8 [00:00<?, ?it/s]\u001b[A\n",
      "Validating... (loss=1.62854): 100%|| 8/8 [00:00<00:00, 17.66it/s]\n",
      "Training (2497 / 5000 Steps) (loss=1.86384):  63%|| 40/63 [00:04<00:03,  6.43it/s]"
     ]
    },
    {
     "name": "stdout",
     "output_type": "stream",
     "text": [
      "    Valid Accuracy: 0.38281\n"
     ]
    },
    {
     "name": "stderr",
     "output_type": "stream",
     "text": [
      "Training (2520 / 5000 Steps) (loss=1.79274): 100%|| 63/63 [00:07<00:00,  7.98it/s]\n",
      "Training (2560 / 5000 Steps) (loss=1.83074):  62%|| 39/63 [00:04<00:02, 11.06it/s]\n",
      "Validating... (loss=X.X):   0%|| 0/8 [00:00<?, ?it/s]\u001b[A\n",
      "Validating... (loss=1.57228):   0%|| 0/8 [00:00<?, ?it/s]\u001b[A\n",
      "Validating... (loss=1.83709):   0%|| 0/8 [00:00<?, ?it/s]\u001b[A\n",
      "Validating... (loss=1.74333):   0%|| 0/8 [00:00<?, ?it/s]\u001b[A\n",
      "Validating... (loss=1.82037):   0%|| 0/8 [00:00<?, ?it/s]\u001b[A\n",
      "Validating... (loss=1.69055):   0%|| 0/8 [00:00<?, ?it/s]\u001b[A\n",
      "Validating... (loss=1.92254):   0%|| 0/8 [00:00<?, ?it/s]\u001b[A\n",
      "Validating... (loss=1.70844):   0%|| 0/8 [00:00<?, ?it/s]\u001b[A\n",
      "Validating... (loss=1.62651): 100%|| 8/8 [00:00<00:00, 12.49it/s]\n",
      "Training (2561 / 5000 Steps) (loss=1.76082):  65%|| 41/63 [00:05<00:04,  5.05it/s]"
     ]
    },
    {
     "name": "stdout",
     "output_type": "stream",
     "text": [
      "    Valid Accuracy: 0.39844\n"
     ]
    },
    {
     "name": "stderr",
     "output_type": "stream",
     "text": [
      "Training (2583 / 5000 Steps) (loss=1.63866): 100%|| 63/63 [00:07<00:00,  8.05it/s]\n",
      "Training (2624 / 5000 Steps) (loss=1.72848):  63%|| 40/63 [00:05<00:03,  6.94it/s]\n",
      "Validating... (loss=X.X):   0%|| 0/8 [00:00<?, ?it/s]\u001b[A\n",
      "Validating... (loss=1.53137):   0%|| 0/8 [00:00<?, ?it/s]\u001b[A\n",
      "Validating... (loss=1.78475):   0%|| 0/8 [00:00<?, ?it/s]\u001b[A\n",
      "Validating... (loss=1.73684):   0%|| 0/8 [00:00<?, ?it/s]\u001b[A\n",
      "Validating... (loss=1.80309):   0%|| 0/8 [00:00<?, ?it/s]\u001b[A\n",
      "Validating... (loss=1.62199):   0%|| 0/8 [00:00<?, ?it/s]\u001b[A\n",
      "Validating... (loss=1.89211):   0%|| 0/8 [00:00<?, ?it/s]\u001b[A\n",
      "Validating... (loss=1.62375):   0%|| 0/8 [00:00<?, ?it/s]\u001b[A\n",
      "Validating... (loss=1.62273): 100%|| 8/8 [00:00<00:00, 11.94it/s]\n",
      "Training (2625 / 5000 Steps) (loss=2.17937):  67%|| 42/63 [00:06<00:05,  3.60it/s]"
     ]
    },
    {
     "name": "stdout",
     "output_type": "stream",
     "text": [
      "    Valid Accuracy: 0.39844\n"
     ]
    },
    {
     "name": "stderr",
     "output_type": "stream",
     "text": [
      "Training (2646 / 5000 Steps) (loss=2.07361): 100%|| 63/63 [00:09<00:00,  6.56it/s]\n",
      "Training (2688 / 5000 Steps) (loss=2.18728):  65%|| 41/63 [00:05<00:02,  7.80it/s]\n",
      "Validating... (loss=X.X):   0%|| 0/8 [00:00<?, ?it/s]\u001b[A\n",
      "Validating... (loss=1.56636):   0%|| 0/8 [00:00<?, ?it/s]\u001b[A\n",
      "Validating... (loss=1.80124):   0%|| 0/8 [00:00<?, ?it/s]\u001b[A\n",
      "Validating... (loss=1.76873):   0%|| 0/8 [00:00<?, ?it/s]\u001b[A\n",
      "Validating... (loss=1.84492):   0%|| 0/8 [00:00<?, ?it/s]\u001b[A\n",
      "Validating... (loss=1.74637):   0%|| 0/8 [00:00<?, ?it/s]\u001b[A\n",
      "Validating... (loss=1.88809):   0%|| 0/8 [00:00<?, ?it/s]\u001b[A\n",
      "Validating... (loss=1.61822):   0%|| 0/8 [00:00<?, ?it/s]\u001b[A\n",
      "Validating... (loss=1.61456): 100%|| 8/8 [00:00<00:00, 10.77it/s]\n",
      "Training (2689 / 5000 Steps) (loss=1.63719):  68%|| 43/63 [00:06<00:05,  3.51it/s]"
     ]
    },
    {
     "name": "stdout",
     "output_type": "stream",
     "text": [
      "    Valid Accuracy: 0.37500\n"
     ]
    },
    {
     "name": "stderr",
     "output_type": "stream",
     "text": [
      "Training (2709 / 5000 Steps) (loss=1.56398): 100%|| 63/63 [00:09<00:00,  6.48it/s]\n",
      "Training (2752 / 5000 Steps) (loss=1.92720):  67%|| 42/63 [00:06<00:02,  7.16it/s]\n",
      "Validating... (loss=X.X):   0%|| 0/8 [00:00<?, ?it/s]\u001b[A\n",
      "Validating... (loss=1.49415):   0%|| 0/8 [00:00<?, ?it/s]\u001b[A\n",
      "Validating... (loss=1.75350):   0%|| 0/8 [00:00<?, ?it/s]\u001b[A\n",
      "Validating... (loss=1.72719):   0%|| 0/8 [00:00<?, ?it/s]\u001b[A\n",
      "Validating... (loss=1.77941):   0%|| 0/8 [00:00<?, ?it/s]\u001b[A\n",
      "Validating... (loss=1.64291):   0%|| 0/8 [00:00<?, ?it/s]\u001b[A\n",
      "Validating... (loss=1.89207):   0%|| 0/8 [00:00<?, ?it/s]\u001b[A\n",
      "Validating... (loss=1.60321):   0%|| 0/8 [00:00<?, ?it/s]\u001b[A\n",
      "Validating... (loss=1.60355): 100%|| 8/8 [00:00<00:00, 12.86it/s]\n"
     ]
    },
    {
     "name": "stdout",
     "output_type": "stream",
     "text": [
      "    Valid Accuracy: 0.40625\n"
     ]
    },
    {
     "name": "stderr",
     "output_type": "stream",
     "text": [
      "Training (2753 / 5000 Steps) (loss=1.77705):  70%|| 44/63 [00:07<00:06,  2.95it/s]"
     ]
    },
    {
     "name": "stdout",
     "output_type": "stream",
     "text": [
      "    Saved model checkpoint to output/cifar10_MoE_12_checkpoint.bin\n",
      "\n"
     ]
    },
    {
     "name": "stderr",
     "output_type": "stream",
     "text": [
      "Training (2772 / 5000 Steps) (loss=1.63134): 100%|| 63/63 [00:10<00:00,  6.21it/s]\n",
      "Training (2816 / 5000 Steps) (loss=1.62232):  67%|| 42/63 [00:04<00:01, 11.00it/s]\n",
      "Validating... (loss=X.X):   0%|| 0/8 [00:00<?, ?it/s]\u001b[A\n",
      "Validating... (loss=1.53399):   0%|| 0/8 [00:00<?, ?it/s]\u001b[A\n",
      "Validating... (loss=1.79719):   0%|| 0/8 [00:00<?, ?it/s]\u001b[A\n",
      "Validating... (loss=1.71585):   0%|| 0/8 [00:00<?, ?it/s]\u001b[A\n",
      "Validating... (loss=1.82316):   0%|| 0/8 [00:00<?, ?it/s]\u001b[A\n",
      "Validating... (loss=1.67594):   0%|| 0/8 [00:00<?, ?it/s]\u001b[A\n",
      "Validating... (loss=1.92108):   0%|| 0/8 [00:00<?, ?it/s]\u001b[A\n",
      "Validating... (loss=1.63733):   0%|| 0/8 [00:00<?, ?it/s]\u001b[A\n",
      "Validating... (loss=1.61948): 100%|| 8/8 [00:00<00:00, 17.06it/s]\n",
      "Training (2817 / 5000 Steps) (loss=1.68694):  71%|| 45/63 [00:05<00:02,  6.22it/s]"
     ]
    },
    {
     "name": "stdout",
     "output_type": "stream",
     "text": [
      "    Valid Accuracy: 0.35156\n"
     ]
    },
    {
     "name": "stderr",
     "output_type": "stream",
     "text": [
      "Training (2835 / 5000 Steps) (loss=1.89610): 100%|| 63/63 [00:08<00:00,  7.59it/s]\n",
      "Training (2880 / 5000 Steps) (loss=1.74816):  70%|| 44/63 [00:06<00:02,  7.03it/s]\n",
      "Validating... (loss=X.X):   0%|| 0/8 [00:00<?, ?it/s]\u001b[A\n",
      "Validating... (loss=1.50707):   0%|| 0/8 [00:00<?, ?it/s]\u001b[A\n",
      "Validating... (loss=1.79907):   0%|| 0/8 [00:00<?, ?it/s]\u001b[A\n",
      "Validating... (loss=1.74644):   0%|| 0/8 [00:00<?, ?it/s]\u001b[A\n",
      "Validating... (loss=1.77500):   0%|| 0/8 [00:00<?, ?it/s]\u001b[A\n",
      "Validating... (loss=1.64187):   0%|| 0/8 [00:00<?, ?it/s]\u001b[A\n",
      "Validating... (loss=1.91343):   0%|| 0/8 [00:00<?, ?it/s]\u001b[A\n",
      "Validating... (loss=1.60174):   0%|| 0/8 [00:00<?, ?it/s]\u001b[A\n",
      "Validating... (loss=1.60450): 100%|| 8/8 [00:00<00:00, 12.35it/s]\n",
      "Training (2881 / 5000 Steps) (loss=1.74026):  73%|| 46/63 [00:07<00:04,  3.55it/s]"
     ]
    },
    {
     "name": "stdout",
     "output_type": "stream",
     "text": [
      "    Valid Accuracy: 0.35938\n"
     ]
    },
    {
     "name": "stderr",
     "output_type": "stream",
     "text": [
      "Training (2898 / 5000 Steps) (loss=1.89331): 100%|| 63/63 [00:09<00:00,  6.44it/s]\n",
      "Training (2944 / 5000 Steps) (loss=1.77902):  71%|| 45/63 [00:06<00:02,  8.67it/s]\n",
      "Validating... (loss=X.X):   0%|| 0/8 [00:00<?, ?it/s]\u001b[A\n",
      "Validating... (loss=1.52388):   0%|| 0/8 [00:00<?, ?it/s]\u001b[A\n",
      "Validating... (loss=1.80820):   0%|| 0/8 [00:00<?, ?it/s]\u001b[A\n",
      "Validating... (loss=1.73007):   0%|| 0/8 [00:00<?, ?it/s]\u001b[A\n",
      "Validating... (loss=1.81449):   0%|| 0/8 [00:00<?, ?it/s]\u001b[A\n",
      "Validating... (loss=1.65100):   0%|| 0/8 [00:00<?, ?it/s]\u001b[A\n",
      "Validating... (loss=1.94091):   0%|| 0/8 [00:00<?, ?it/s]\u001b[A\n",
      "Validating... (loss=1.60656):   0%|| 0/8 [00:00<?, ?it/s]\u001b[A\n",
      "Validating... (loss=1.59943): 100%|| 8/8 [00:00<00:00, 14.54it/s]\n",
      "Training (2945 / 5000 Steps) (loss=1.70233):  75%|| 47/63 [00:07<00:03,  4.50it/s]"
     ]
    },
    {
     "name": "stdout",
     "output_type": "stream",
     "text": [
      "    Valid Accuracy: 0.37500\n"
     ]
    },
    {
     "name": "stderr",
     "output_type": "stream",
     "text": [
      "Training (2961 / 5000 Steps) (loss=1.57818): 100%|| 63/63 [00:09<00:00,  6.50it/s]\n",
      "Training (3008 / 5000 Steps) (loss=1.63234):  71%|| 45/63 [00:05<00:01, 11.05it/s]\n",
      "Validating... (loss=X.X):   0%|| 0/8 [00:00<?, ?it/s]\u001b[A\n",
      "Validating... (loss=1.50996):   0%|| 0/8 [00:00<?, ?it/s]\u001b[A\n",
      "Validating... (loss=1.82816):   0%|| 0/8 [00:00<?, ?it/s]\u001b[A\n",
      "Validating... (loss=1.71147):   0%|| 0/8 [00:00<?, ?it/s]\u001b[A\n",
      "Validating... (loss=1.79912):   0%|| 0/8 [00:00<?, ?it/s]\u001b[A\n",
      "Validating... (loss=1.63838):   0%|| 0/8 [00:00<?, ?it/s]\u001b[A\n",
      "Validating... (loss=1.89848):   0%|| 0/8 [00:00<?, ?it/s]\u001b[A\n",
      "Validating... (loss=1.61950):   0%|| 0/8 [00:00<?, ?it/s]\u001b[A\n",
      "Validating... (loss=1.60166): 100%|| 8/8 [00:00<00:00, 16.38it/s]\n",
      "Training (3010 / 5000 Steps) (loss=1.85208):  78%|| 49/63 [00:05<00:02,  6.97it/s]"
     ]
    },
    {
     "name": "stdout",
     "output_type": "stream",
     "text": [
      "    Valid Accuracy: 0.35156\n"
     ]
    },
    {
     "name": "stderr",
     "output_type": "stream",
     "text": [
      "Training (3024 / 5000 Steps) (loss=1.53780): 100%|| 63/63 [00:07<00:00,  8.99it/s]\n",
      "Training (3072 / 5000 Steps) (loss=1.79131):  75%|| 47/63 [00:05<00:01,  9.86it/s]\n",
      "Validating... (loss=X.X):   0%|| 0/8 [00:00<?, ?it/s]\u001b[A\n",
      "Validating... (loss=1.51973):   0%|| 0/8 [00:00<?, ?it/s]\u001b[A\n",
      "Validating... (loss=1.79622):   0%|| 0/8 [00:00<?, ?it/s]\u001b[A\n",
      "Validating... (loss=1.70655):   0%|| 0/8 [00:00<?, ?it/s]\u001b[A\n",
      "Validating... (loss=1.81617):   0%|| 0/8 [00:00<?, ?it/s]\u001b[A\n",
      "Validating... (loss=1.61107):   0%|| 0/8 [00:00<?, ?it/s]\u001b[A\n",
      "Validating... (loss=1.91907):   0%|| 0/8 [00:00<?, ?it/s]\u001b[A\n",
      "Validating... (loss=1.60574):   0%|| 0/8 [00:00<?, ?it/s]\u001b[A\n",
      "Validating... (loss=1.59463): 100%|| 8/8 [00:00<00:00, 14.40it/s]\n",
      "Training (3073 / 5000 Steps) (loss=1.81360):  78%|| 49/63 [00:06<00:02,  5.13it/s]"
     ]
    },
    {
     "name": "stdout",
     "output_type": "stream",
     "text": [
      "    Valid Accuracy: 0.35938\n"
     ]
    },
    {
     "name": "stderr",
     "output_type": "stream",
     "text": [
      "Training (3087 / 5000 Steps) (loss=1.71651): 100%|| 63/63 [00:08<00:00,  7.56it/s]\n",
      "Training (3136 / 5000 Steps) (loss=1.78171):  76%|| 48/63 [00:06<00:02,  7.18it/s]\n",
      "Validating... (loss=X.X):   0%|| 0/8 [00:00<?, ?it/s]\u001b[A\n",
      "Validating... (loss=1.51179):   0%|| 0/8 [00:00<?, ?it/s]\u001b[A\n",
      "Validating... (loss=1.79057):   0%|| 0/8 [00:00<?, ?it/s]\u001b[A\n",
      "Validating... (loss=1.69253):   0%|| 0/8 [00:00<?, ?it/s]\u001b[A\n",
      "Validating... (loss=1.79310):   0%|| 0/8 [00:00<?, ?it/s]\u001b[A\n",
      "Validating... (loss=1.58719):   0%|| 0/8 [00:00<?, ?it/s]\u001b[A\n",
      "Validating... (loss=1.88544):   0%|| 0/8 [00:00<?, ?it/s]\u001b[A\n",
      "Validating... (loss=1.62612):   0%|| 0/8 [00:00<?, ?it/s]\u001b[A\n",
      "Validating... (loss=1.61660): 100%|| 8/8 [00:00<00:00, 11.44it/s]\n",
      "Training (3137 / 5000 Steps) (loss=1.61094):  79%|| 50/63 [00:07<00:03,  3.50it/s]"
     ]
    },
    {
     "name": "stdout",
     "output_type": "stream",
     "text": [
      "    Valid Accuracy: 0.38281\n"
     ]
    },
    {
     "name": "stderr",
     "output_type": "stream",
     "text": [
      "Training (3150 / 5000 Steps) (loss=1.71973): 100%|| 63/63 [00:09<00:00,  6.72it/s]\n",
      "Training (3200 / 5000 Steps) (loss=1.74653):  78%|| 49/63 [00:06<00:01, 10.83it/s]\n",
      "Validating... (loss=X.X):   0%|| 0/8 [00:00<?, ?it/s]\u001b[A\n",
      "Validating... (loss=1.48102):   0%|| 0/8 [00:00<?, ?it/s]\u001b[A\n",
      "Validating... (loss=1.75114):   0%|| 0/8 [00:00<?, ?it/s]\u001b[A\n",
      "Validating... (loss=1.72590):   0%|| 0/8 [00:00<?, ?it/s]\u001b[A\n",
      "Validating... (loss=1.76603):   0%|| 0/8 [00:00<?, ?it/s]\u001b[A\n",
      "Validating... (loss=1.58642):   0%|| 0/8 [00:00<?, ?it/s]\u001b[A\n",
      "Validating... (loss=1.88995):   0%|| 0/8 [00:00<?, ?it/s]\u001b[A\n",
      "Validating... (loss=1.62067):   0%|| 0/8 [00:00<?, ?it/s]\u001b[A\n",
      "Validating... (loss=1.58702): 100%|| 8/8 [00:00<00:00, 20.21it/s]\n",
      "Training (3202 / 5000 Steps) (loss=1.76508):  81%|| 51/63 [00:07<00:01,  6.41it/s]"
     ]
    },
    {
     "name": "stdout",
     "output_type": "stream",
     "text": [
      "    Valid Accuracy: 0.39062\n"
     ]
    },
    {
     "name": "stderr",
     "output_type": "stream",
     "text": [
      "Training (3213 / 5000 Steps) (loss=1.25195): 100%|| 63/63 [00:08<00:00,  7.73it/s]\n",
      "Training (3264 / 5000 Steps) (loss=1.95923):  78%|| 49/63 [00:05<00:01, 11.10it/s]\n",
      "Validating... (loss=X.X):   0%|| 0/8 [00:00<?, ?it/s]\u001b[A\n",
      "Validating... (loss=1.49856):   0%|| 0/8 [00:00<?, ?it/s]\u001b[A\n",
      "Validating... (loss=1.76638):   0%|| 0/8 [00:00<?, ?it/s]\u001b[A\n",
      "Validating... (loss=1.71158):   0%|| 0/8 [00:00<?, ?it/s]\u001b[A\n",
      "Validating... (loss=1.74400):   0%|| 0/8 [00:00<?, ?it/s]\u001b[A\n",
      "Validating... (loss=1.54081):   0%|| 0/8 [00:00<?, ?it/s]\u001b[A\n",
      "Validating... (loss=1.88343):   0%|| 0/8 [00:00<?, ?it/s]\u001b[A\n",
      "Validating... (loss=1.61145):   0%|| 0/8 [00:00<?, ?it/s]\u001b[A\n",
      "Validating... (loss=1.59416): 100%|| 8/8 [00:00<00:00, 21.87it/s]\n",
      "Training (3266 / 5000 Steps) (loss=1.64358):  83%|| 52/63 [00:06<00:01,  7.16it/s]"
     ]
    },
    {
     "name": "stdout",
     "output_type": "stream",
     "text": [
      "    Valid Accuracy: 0.39844\n"
     ]
    },
    {
     "name": "stderr",
     "output_type": "stream",
     "text": [
      "Training (3276 / 5000 Steps) (loss=1.68524): 100%|| 63/63 [00:07<00:00,  8.71it/s]\n",
      "Training (3328 / 5000 Steps) (loss=1.80259):  81%|| 51/63 [00:06<00:01,  6.92it/s]\n",
      "Validating... (loss=X.X):   0%|| 0/8 [00:00<?, ?it/s]\u001b[A\n",
      "Validating... (loss=1.53509):   0%|| 0/8 [00:00<?, ?it/s]\u001b[A\n",
      "Validating... (loss=1.75732):   0%|| 0/8 [00:00<?, ?it/s]\u001b[A\n",
      "Validating... (loss=1.71797):   0%|| 0/8 [00:00<?, ?it/s]\u001b[A\n",
      "Validating... (loss=1.78929):   0%|| 0/8 [00:00<?, ?it/s]\u001b[A\n",
      "Validating... (loss=1.54084):   0%|| 0/8 [00:00<?, ?it/s]\u001b[A\n",
      "Validating... (loss=1.88824):   0%|| 0/8 [00:00<?, ?it/s]\u001b[A\n",
      "Validating... (loss=1.58596):   0%|| 0/8 [00:00<?, ?it/s]\u001b[A\n",
      "Validating... (loss=1.59369): 100%|| 8/8 [00:00<00:00, 12.48it/s]\n",
      "Training (3329 / 5000 Steps) (loss=1.92459):  84%|| 53/63 [00:07<00:02,  3.53it/s]"
     ]
    },
    {
     "name": "stdout",
     "output_type": "stream",
     "text": [
      "    Valid Accuracy: 0.38281\n"
     ]
    },
    {
     "name": "stderr",
     "output_type": "stream",
     "text": [
      "Training (3339 / 5000 Steps) (loss=1.98791): 100%|| 63/63 [00:08<00:00,  7.12it/s]\n",
      "Training (3392 / 5000 Steps) (loss=1.85582):  83%|| 52/63 [00:07<00:01,  7.05it/s]\n",
      "Validating... (loss=X.X):   0%|| 0/8 [00:00<?, ?it/s]\u001b[A\n",
      "Validating... (loss=1.56136):   0%|| 0/8 [00:00<?, ?it/s]\u001b[A\n",
      "Validating... (loss=1.79282):   0%|| 0/8 [00:00<?, ?it/s]\u001b[A\n",
      "Validating... (loss=1.71561):   0%|| 0/8 [00:00<?, ?it/s]\u001b[A\n",
      "Validating... (loss=1.75196):   0%|| 0/8 [00:00<?, ?it/s]\u001b[A\n",
      "Validating... (loss=1.59914):   0%|| 0/8 [00:00<?, ?it/s]\u001b[A\n",
      "Validating... (loss=1.89040):   0%|| 0/8 [00:00<?, ?it/s]\u001b[A\n",
      "Validating... (loss=1.60985):   0%|| 0/8 [00:00<?, ?it/s]\u001b[A\n",
      "Validating... (loss=1.58128): 100%|| 8/8 [00:00<00:00, 12.67it/s]\n",
      "Training (3393 / 5000 Steps) (loss=1.98625):  86%|| 54/63 [00:08<00:02,  3.69it/s]"
     ]
    },
    {
     "name": "stdout",
     "output_type": "stream",
     "text": [
      "    Valid Accuracy: 0.37500\n"
     ]
    },
    {
     "name": "stderr",
     "output_type": "stream",
     "text": [
      "Training (3402 / 5000 Steps) (loss=1.58052): 100%|| 63/63 [00:09<00:00,  6.54it/s]\n",
      "Training (3456 / 5000 Steps) (loss=1.60616):  84%|| 53/63 [00:07<00:01,  6.98it/s]\n",
      "Validating... (loss=X.X):   0%|| 0/8 [00:00<?, ?it/s]\u001b[A\n",
      "Validating... (loss=1.58033):   0%|| 0/8 [00:00<?, ?it/s]\u001b[A\n",
      "Validating... (loss=1.80269):   0%|| 0/8 [00:00<?, ?it/s]\u001b[A\n",
      "Validating... (loss=1.70925):   0%|| 0/8 [00:00<?, ?it/s]\u001b[A\n",
      "Validating... (loss=1.79205):   0%|| 0/8 [00:00<?, ?it/s]\u001b[A\n",
      "Validating... (loss=1.61916):   0%|| 0/8 [00:00<?, ?it/s]\u001b[A\n",
      "Validating... (loss=1.91651):   0%|| 0/8 [00:00<?, ?it/s]\u001b[A\n",
      "Validating... (loss=1.62886):   0%|| 0/8 [00:00<?, ?it/s]\u001b[A\n",
      "Validating... (loss=1.56938): 100%|| 8/8 [00:00<00:00, 13.36it/s]\n",
      "Training (3457 / 5000 Steps) (loss=1.80906):  87%|| 55/63 [00:08<00:02,  3.80it/s]"
     ]
    },
    {
     "name": "stdout",
     "output_type": "stream",
     "text": [
      "    Valid Accuracy: 0.37500\n"
     ]
    },
    {
     "name": "stderr",
     "output_type": "stream",
     "text": [
      "Training (3465 / 5000 Steps) (loss=1.53889): 100%|| 63/63 [00:09<00:00,  6.46it/s]\n",
      "Training (3520 / 5000 Steps) (loss=1.83983):  86%|| 54/63 [00:06<00:00,  9.55it/s]\n",
      "Validating... (loss=X.X):   0%|| 0/8 [00:00<?, ?it/s]\u001b[A\n",
      "Validating... (loss=1.53904):   0%|| 0/8 [00:00<?, ?it/s]\u001b[A\n",
      "Validating... (loss=1.79543):   0%|| 0/8 [00:00<?, ?it/s]\u001b[A\n",
      "Validating... (loss=1.67829):   0%|| 0/8 [00:00<?, ?it/s]\u001b[A\n",
      "Validating... (loss=1.79057):   0%|| 0/8 [00:00<?, ?it/s]\u001b[A\n",
      "Validating... (loss=1.53387):   0%|| 0/8 [00:00<?, ?it/s]\u001b[A\n",
      "Validating... (loss=1.87800):   0%|| 0/8 [00:00<?, ?it/s]\u001b[A\n",
      "Validating... (loss=1.63886):   0%|| 0/8 [00:00<?, ?it/s]\u001b[A\n",
      "Validating... (loss=1.60832): 100%|| 8/8 [00:00<00:00, 14.39it/s]\n",
      "Training (3521 / 5000 Steps) (loss=1.70301):  89%|| 56/63 [00:07<00:01,  4.85it/s]"
     ]
    },
    {
     "name": "stdout",
     "output_type": "stream",
     "text": [
      "    Valid Accuracy: 0.35938\n"
     ]
    },
    {
     "name": "stderr",
     "output_type": "stream",
     "text": [
      "Training (3528 / 5000 Steps) (loss=1.61216): 100%|| 63/63 [00:08<00:00,  7.67it/s]\n",
      "Training (3584 / 5000 Steps) (loss=2.00723):  87%|| 55/63 [00:05<00:00, 11.09it/s]\n",
      "Validating... (loss=X.X):   0%|| 0/8 [00:00<?, ?it/s]\u001b[A\n",
      "Validating... (loss=1.54474):   0%|| 0/8 [00:00<?, ?it/s]\u001b[A\n",
      "Validating... (loss=1.77769):   0%|| 0/8 [00:00<?, ?it/s]\u001b[A\n",
      "Validating... (loss=1.69221):   0%|| 0/8 [00:00<?, ?it/s]\u001b[A\n",
      "Validating... (loss=1.79421):   0%|| 0/8 [00:00<?, ?it/s]\u001b[A\n",
      "Validating... (loss=1.55284):   0%|| 0/8 [00:00<?, ?it/s]\u001b[A\n",
      "Validating... (loss=1.87532):   0%|| 0/8 [00:00<?, ?it/s]\u001b[A\n",
      "Validating... (loss=1.62590):   0%|| 0/8 [00:00<?, ?it/s]\u001b[A\n",
      "Validating... (loss=1.59188): 100%|| 8/8 [00:00<00:00, 12.80it/s]\n",
      "Training (3585 / 5000 Steps) (loss=1.68256):  90%|| 57/63 [00:06<00:01,  5.15it/s]"
     ]
    },
    {
     "name": "stdout",
     "output_type": "stream",
     "text": [
      "    Valid Accuracy: 0.37500\n"
     ]
    },
    {
     "name": "stderr",
     "output_type": "stream",
     "text": [
      "Training (3591 / 5000 Steps) (loss=1.91129): 100%|| 63/63 [00:06<00:00,  9.08it/s]\n",
      "Training (3648 / 5000 Steps) (loss=1.72782):  89%|| 56/63 [00:06<00:00,  7.20it/s]\n",
      "Validating... (loss=X.X):   0%|| 0/8 [00:00<?, ?it/s]\u001b[A\n",
      "Validating... (loss=1.54132):   0%|| 0/8 [00:00<?, ?it/s]\u001b[A\n",
      "Validating... (loss=1.77625):   0%|| 0/8 [00:00<?, ?it/s]\u001b[A\n",
      "Validating... (loss=1.67742):   0%|| 0/8 [00:00<?, ?it/s]\u001b[A\n",
      "Validating... (loss=1.81380):   0%|| 0/8 [00:00<?, ?it/s]\u001b[A\n",
      "Validating... (loss=1.54354):   0%|| 0/8 [00:00<?, ?it/s]\u001b[A\n",
      "Validating... (loss=1.87021):   0%|| 0/8 [00:00<?, ?it/s]\u001b[A\n",
      "Validating... (loss=1.62734):   0%|| 0/8 [00:00<?, ?it/s]\u001b[A\n",
      "Validating... (loss=1.59668): 100%|| 8/8 [00:00<00:00, 10.78it/s]\n",
      "Training (3649 / 5000 Steps) (loss=1.95938):  92%|| 58/63 [00:06<00:01,  3.38it/s]"
     ]
    },
    {
     "name": "stdout",
     "output_type": "stream",
     "text": [
      "    Valid Accuracy: 0.37500\n"
     ]
    },
    {
     "name": "stderr",
     "output_type": "stream",
     "text": [
      "Training (3654 / 5000 Steps) (loss=1.68910): 100%|| 63/63 [00:07<00:00,  8.16it/s]\n",
      "Training (3712 / 5000 Steps) (loss=1.73756):  89%|| 56/63 [00:08<00:00,  9.52it/s]\n",
      "Validating... (loss=X.X):   0%|| 0/8 [00:00<?, ?it/s]\u001b[A\n",
      "Validating... (loss=1.57278):   0%|| 0/8 [00:00<?, ?it/s]\u001b[A\n",
      "Validating... (loss=1.81566):   0%|| 0/8 [00:00<?, ?it/s]\u001b[A\n",
      "Validating... (loss=1.69886):   0%|| 0/8 [00:00<?, ?it/s]\u001b[A\n",
      "Validating... (loss=1.85604):   0%|| 0/8 [00:00<?, ?it/s]\u001b[A\n",
      "Validating... (loss=1.62940):   0%|| 0/8 [00:00<?, ?it/s]\u001b[A\n",
      "Validating... (loss=1.90095):   0%|| 0/8 [00:00<?, ?it/s]\u001b[A\n",
      "Validating... (loss=1.63023):   0%|| 0/8 [00:00<?, ?it/s]\u001b[A\n",
      "Validating... (loss=1.58253): 100%|| 8/8 [00:00<00:00, 12.33it/s]\n",
      "Training (3713 / 5000 Steps) (loss=1.81597):  94%|| 59/63 [00:08<00:00,  4.89it/s]"
     ]
    },
    {
     "name": "stdout",
     "output_type": "stream",
     "text": [
      "    Valid Accuracy: 0.38281\n"
     ]
    },
    {
     "name": "stderr",
     "output_type": "stream",
     "text": [
      "Training (3717 / 5000 Steps) (loss=2.11910): 100%|| 63/63 [00:09<00:00,  6.78it/s]\n",
      "Training (3776 / 5000 Steps) (loss=1.90264):  92%|| 58/63 [00:06<00:00,  7.76it/s]\n",
      "Validating... (loss=X.X):   0%|| 0/8 [00:00<?, ?it/s]\u001b[A\n",
      "Validating... (loss=1.50850):   0%|| 0/8 [00:00<?, ?it/s]\u001b[A\n",
      "Validating... (loss=1.74084):   0%|| 0/8 [00:00<?, ?it/s]\u001b[A\n",
      "Validating... (loss=1.69721):   0%|| 0/8 [00:00<?, ?it/s]\u001b[A\n",
      "Validating... (loss=1.79759):   0%|| 0/8 [00:00<?, ?it/s]\u001b[A\n",
      "Validating... (loss=1.58000):   0%|| 0/8 [00:00<?, ?it/s]\u001b[A\n",
      "Validating... (loss=1.86424):   0%|| 0/8 [00:00<?, ?it/s]\u001b[A\n",
      "Validating... (loss=1.61830):   0%|| 0/8 [00:00<?, ?it/s]\u001b[A\n",
      "Validating... (loss=1.57203): 100%|| 8/8 [00:00<00:00, 11.12it/s]\n",
      "Training (3777 / 5000 Steps) (loss=1.78450):  95%|| 60/63 [00:07<00:00,  3.61it/s]"
     ]
    },
    {
     "name": "stdout",
     "output_type": "stream",
     "text": [
      "    Valid Accuracy: 0.39062\n"
     ]
    },
    {
     "name": "stderr",
     "output_type": "stream",
     "text": [
      "Training (3780 / 5000 Steps) (loss=1.63019): 100%|| 63/63 [00:07<00:00,  8.38it/s]\n",
      "Training (3840 / 5000 Steps) (loss=1.87820):  94%|| 59/63 [00:08<00:00,  7.04it/s]\n",
      "Validating... (loss=X.X):   0%|| 0/8 [00:00<?, ?it/s]\u001b[A\n",
      "Validating... (loss=1.50633):   0%|| 0/8 [00:00<?, ?it/s]\u001b[A\n",
      "Validating... (loss=1.76195):   0%|| 0/8 [00:00<?, ?it/s]\u001b[A\n",
      "Validating... (loss=1.68982):   0%|| 0/8 [00:00<?, ?it/s]\u001b[A\n",
      "Validating... (loss=1.83229):   0%|| 0/8 [00:00<?, ?it/s]\u001b[A\n",
      "Validating... (loss=1.56561):   0%|| 0/8 [00:00<?, ?it/s]\u001b[A\n",
      "Validating... (loss=1.87280):   0%|| 0/8 [00:00<?, ?it/s]\u001b[A\n",
      "Validating... (loss=1.60013):   0%|| 0/8 [00:00<?, ?it/s]\u001b[A\n",
      "Validating... (loss=1.57994): 100%|| 8/8 [00:00<00:00, 10.83it/s]\n",
      "Training (3841 / 5000 Steps) (loss=1.73516):  97%|| 61/63 [00:09<00:00,  3.33it/s]"
     ]
    },
    {
     "name": "stdout",
     "output_type": "stream",
     "text": [
      "    Valid Accuracy: 0.36719\n"
     ]
    },
    {
     "name": "stderr",
     "output_type": "stream",
     "text": [
      "Training (3843 / 5000 Steps) (loss=1.54766): 100%|| 63/63 [00:09<00:00,  6.35it/s]\n",
      "Training (3904 / 5000 Steps) (loss=1.55171):  95%|| 60/63 [00:08<00:00,  7.03it/s]\n",
      "Validating... (loss=X.X):   0%|| 0/8 [00:00<?, ?it/s]\u001b[A\n",
      "Validating... (loss=1.53472):   0%|| 0/8 [00:00<?, ?it/s]\u001b[A\n",
      "Validating... (loss=1.78197):   0%|| 0/8 [00:00<?, ?it/s]\u001b[A\n",
      "Validating... (loss=1.70161):   0%|| 0/8 [00:00<?, ?it/s]\u001b[A\n",
      "Validating... (loss=1.78830):   0%|| 0/8 [00:00<?, ?it/s]\u001b[A\n",
      "Validating... (loss=1.60564):   0%|| 0/8 [00:00<?, ?it/s]\u001b[A\n",
      "Validating... (loss=1.88600):   0%|| 0/8 [00:00<?, ?it/s]\u001b[A\n",
      "Validating... (loss=1.61699):   0%|| 0/8 [00:00<?, ?it/s]\u001b[A\n",
      "Validating... (loss=1.56192): 100%|| 8/8 [00:00<00:00, 13.45it/s]\n",
      "Training (3905 / 5000 Steps) (loss=1.80545):  98%|| 62/63 [00:09<00:00,  3.73it/s]"
     ]
    },
    {
     "name": "stdout",
     "output_type": "stream",
     "text": [
      "    Valid Accuracy: 0.39062\n"
     ]
    },
    {
     "name": "stderr",
     "output_type": "stream",
     "text": [
      "Training (3906 / 5000 Steps) (loss=1.66490): 100%|| 63/63 [00:09<00:00,  6.42it/s]\n",
      "Training (3968 / 5000 Steps) (loss=1.64496):  97%|| 61/63 [00:07<00:00,  7.15it/s]\n",
      "Validating... (loss=X.X):   0%|| 0/8 [00:00<?, ?it/s]\u001b[A\n",
      "Validating... (loss=1.50281):   0%|| 0/8 [00:00<?, ?it/s]\u001b[A\n",
      "Validating... (loss=1.74216):   0%|| 0/8 [00:00<?, ?it/s]\u001b[A\n",
      "Validating... (loss=1.70310):   0%|| 0/8 [00:00<?, ?it/s]\u001b[A\n",
      "Validating... (loss=1.74672):   0%|| 0/8 [00:00<?, ?it/s]\u001b[A\n",
      "Validating... (loss=1.57706):   0%|| 0/8 [00:00<?, ?it/s]\u001b[A\n",
      "Validating... (loss=1.87008):   0%|| 0/8 [00:00<?, ?it/s]\u001b[A\n",
      "Validating... (loss=1.59503):   0%|| 0/8 [00:00<?, ?it/s]\u001b[A\n",
      "Validating... (loss=1.56193): 100%|| 8/8 [00:00<00:00, 15.10it/s]\n",
      "Training (3969 / 5000 Steps) (loss=1.96024): 100%|| 63/63 [00:07<00:00,  8.11it/s]\n"
     ]
    },
    {
     "name": "stdout",
     "output_type": "stream",
     "text": [
      "    Valid Accuracy: 0.37500\n"
     ]
    },
    {
     "name": "stderr",
     "output_type": "stream",
     "text": [
      "Training (4032 / 5000 Steps) (loss=1.54909):  98%|| 62/63 [00:08<00:00,  6.92it/s]\n",
      "Validating... (loss=X.X):   0%|| 0/8 [00:00<?, ?it/s]\u001b[A\n",
      "Validating... (loss=1.51345):   0%|| 0/8 [00:00<?, ?it/s]\u001b[A\n",
      "Validating... (loss=1.79255):   0%|| 0/8 [00:00<?, ?it/s]\u001b[A\n",
      "Validating... (loss=1.67468):   0%|| 0/8 [00:00<?, ?it/s]\u001b[A\n",
      "Validating... (loss=1.79779):   0%|| 0/8 [00:00<?, ?it/s]\u001b[A\n",
      "Validating... (loss=1.55530):   0%|| 0/8 [00:00<?, ?it/s]\u001b[A\n",
      "Validating... (loss=1.85825):   0%|| 0/8 [00:00<?, ?it/s]\u001b[A\n",
      "Validating... (loss=1.60844):   0%|| 0/8 [00:00<?, ?it/s]\u001b[A\n",
      "Validating... (loss=1.57569): 100%|| 8/8 [00:00<00:00, 13.39it/s]\n",
      "Training (4032 / 5000 Steps) (loss=1.54909): 100%|| 63/63 [00:09<00:00,  6.71it/s]\n"
     ]
    },
    {
     "name": "stdout",
     "output_type": "stream",
     "text": [
      "    Valid Accuracy: 0.38281\n"
     ]
    },
    {
     "name": "stderr",
     "output_type": "stream",
     "text": [
      "Training (4095 / 5000 Steps) (loss=1.86809): 100%|| 63/63 [00:07<00:00,  8.76it/s]\n",
      "Training (4096 / 5000 Steps) (loss=1.79210):   0%|| 0/63 [00:00<?, ?it/s]\n",
      "Validating... (loss=X.X):   0%|| 0/8 [00:00<?, ?it/s]\u001b[A\n",
      "Validating... (loss=1.51110):   0%|| 0/8 [00:00<?, ?it/s]\u001b[A\n",
      "Validating... (loss=1.76063):   0%|| 0/8 [00:00<?, ?it/s]\u001b[A\n",
      "Validating... (loss=1.67532):   0%|| 0/8 [00:00<?, ?it/s]\u001b[A\n",
      "Validating... (loss=1.79117):   0%|| 0/8 [00:00<?, ?it/s]\u001b[A\n",
      "Validating... (loss=1.55672):   0%|| 0/8 [00:00<?, ?it/s]\u001b[A\n",
      "Validating... (loss=1.85893):   0%|| 0/8 [00:00<?, ?it/s]\u001b[A\n",
      "Validating... (loss=1.60534):   0%|| 0/8 [00:00<?, ?it/s]\u001b[A\n",
      "Validating... (loss=1.57268): 100%|| 8/8 [00:00<00:00, 12.17it/s]\n",
      "Training (4097 / 5000 Steps) (loss=1.86361):   3%|| 2/63 [00:01<00:31,  1.95it/s]"
     ]
    },
    {
     "name": "stdout",
     "output_type": "stream",
     "text": [
      "    Valid Accuracy: 0.38281\n"
     ]
    },
    {
     "name": "stderr",
     "output_type": "stream",
     "text": [
      "Training (4158 / 5000 Steps) (loss=1.59279): 100%|| 63/63 [00:09<00:00,  6.54it/s]\n",
      "Training (4160 / 5000 Steps) (loss=1.74930):   2%|| 1/63 [00:00<00:24,  2.51it/s]\n",
      "Validating... (loss=X.X):   0%|| 0/8 [00:00<?, ?it/s]\u001b[A\n",
      "Validating... (loss=1.51672):   0%|| 0/8 [00:00<?, ?it/s]\u001b[A\n",
      "Validating... (loss=1.78521):   0%|| 0/8 [00:00<?, ?it/s]\u001b[A\n",
      "Validating... (loss=1.68130):   0%|| 0/8 [00:00<?, ?it/s]\u001b[A\n",
      "Validating... (loss=1.76939):   0%|| 0/8 [00:00<?, ?it/s]\u001b[A\n",
      "Validating... (loss=1.56039):   0%|| 0/8 [00:00<?, ?it/s]\u001b[A\n",
      "Validating... (loss=1.86560):   0%|| 0/8 [00:00<?, ?it/s]\u001b[A\n",
      "Validating... (loss=1.60399):   0%|| 0/8 [00:00<?, ?it/s]\u001b[A\n",
      "Validating... (loss=1.56522): 100%|| 8/8 [00:00<00:00, 13.11it/s]\n",
      "Training (4161 / 5000 Steps) (loss=1.93896):   5%|| 3/63 [00:01<00:23,  2.56it/s]"
     ]
    },
    {
     "name": "stdout",
     "output_type": "stream",
     "text": [
      "    Valid Accuracy: 0.38281\n"
     ]
    },
    {
     "name": "stderr",
     "output_type": "stream",
     "text": [
      "Training (4221 / 5000 Steps) (loss=1.68638): 100%|| 63/63 [00:09<00:00,  6.46it/s]\n",
      "Training (4224 / 5000 Steps) (loss=1.95441):   3%|| 2/63 [00:00<00:14,  4.27it/s]\n",
      "Validating... (loss=X.X):   0%|| 0/8 [00:00<?, ?it/s]\u001b[A\n",
      "Validating... (loss=1.51717):   0%|| 0/8 [00:00<?, ?it/s]\u001b[A\n",
      "Validating... (loss=1.78406):   0%|| 0/8 [00:00<?, ?it/s]\u001b[A\n",
      "Validating... (loss=1.68627):   0%|| 0/8 [00:00<?, ?it/s]\u001b[A\n",
      "Validating... (loss=1.76825):   0%|| 0/8 [00:00<?, ?it/s]\u001b[A\n",
      "Validating... (loss=1.57479):   0%|| 0/8 [00:00<?, ?it/s]\u001b[A\n",
      "Validating... (loss=1.86587):   0%|| 0/8 [00:00<?, ?it/s]\u001b[A\n",
      "Validating... (loss=1.60538):   0%|| 0/8 [00:00<?, ?it/s]\u001b[A\n",
      "Validating... (loss=1.56173): 100%|| 8/8 [00:00<00:00, 11.35it/s]\n",
      "Training (4225 / 5000 Steps) (loss=1.37540):   6%|| 4/63 [00:01<00:21,  2.71it/s]"
     ]
    },
    {
     "name": "stdout",
     "output_type": "stream",
     "text": [
      "    Valid Accuracy: 0.38281\n"
     ]
    },
    {
     "name": "stderr",
     "output_type": "stream",
     "text": [
      "Training (4284 / 5000 Steps) (loss=1.80139): 100%|| 63/63 [00:09<00:00,  6.55it/s]\n",
      "Training (4288 / 5000 Steps) (loss=1.78277):   5%|| 3/63 [00:00<00:12,  4.99it/s]\n",
      "Validating... (loss=X.X):   0%|| 0/8 [00:00<?, ?it/s]\u001b[A\n",
      "Validating... (loss=1.50283):   0%|| 0/8 [00:00<?, ?it/s]\u001b[A\n",
      "Validating... (loss=1.78218):   0%|| 0/8 [00:00<?, ?it/s]\u001b[A\n",
      "Validating... (loss=1.68705):   0%|| 0/8 [00:00<?, ?it/s]\u001b[A\n",
      "Validating... (loss=1.76565):   0%|| 0/8 [00:00<?, ?it/s]\u001b[A\n",
      "Validating... (loss=1.56262):   0%|| 0/8 [00:00<?, ?it/s]\u001b[A\n",
      "Validating... (loss=1.85320):   0%|| 0/8 [00:00<?, ?it/s]\u001b[A\n",
      "Validating... (loss=1.59944):   0%|| 0/8 [00:00<?, ?it/s]\u001b[A\n",
      "Validating... (loss=1.56741): 100%|| 8/8 [00:00<00:00, 10.93it/s]\n",
      "Training (4289 / 5000 Steps) (loss=2.10471):   8%|| 5/63 [00:01<00:20,  2.85it/s]"
     ]
    },
    {
     "name": "stdout",
     "output_type": "stream",
     "text": [
      "    Valid Accuracy: 0.40625\n"
     ]
    },
    {
     "name": "stderr",
     "output_type": "stream",
     "text": [
      "Training (4347 / 5000 Steps) (loss=1.67549): 100%|| 63/63 [00:08<00:00,  7.75it/s]\n",
      "Training (4352 / 5000 Steps) (loss=1.96615):   6%|| 4/63 [00:00<00:10,  5.53it/s]\n",
      "Validating... (loss=X.X):   0%|| 0/8 [00:00<?, ?it/s]\u001b[A\n",
      "Validating... (loss=1.51689):   0%|| 0/8 [00:00<?, ?it/s]\u001b[A\n",
      "Validating... (loss=1.78955):   0%|| 0/8 [00:00<?, ?it/s]\u001b[A\n",
      "Validating... (loss=1.68560):   0%|| 0/8 [00:00<?, ?it/s]\u001b[A\n",
      "Validating... (loss=1.81031):   0%|| 0/8 [00:00<?, ?it/s]\u001b[A\n",
      "Validating... (loss=1.56370):   0%|| 0/8 [00:00<?, ?it/s]\u001b[A\n",
      "Validating... (loss=1.86286):   0%|| 0/8 [00:00<?, ?it/s]\u001b[A\n",
      "Validating... (loss=1.60045):   0%|| 0/8 [00:00<?, ?it/s]\u001b[A\n",
      "Validating... (loss=1.56765): 100%|| 8/8 [00:00<00:00, 13.48it/s]\n",
      "Training (4353 / 5000 Steps) (loss=1.79303):  10%|| 6/63 [00:01<00:17,  3.27it/s]"
     ]
    },
    {
     "name": "stdout",
     "output_type": "stream",
     "text": [
      "    Valid Accuracy: 0.38281\n"
     ]
    },
    {
     "name": "stderr",
     "output_type": "stream",
     "text": [
      "Training (4410 / 5000 Steps) (loss=1.79578): 100%|| 63/63 [00:09<00:00,  6.65it/s]\n",
      "Training (4416 / 5000 Steps) (loss=1.75113):   8%|| 5/63 [00:01<00:09,  6.05it/s]\n",
      "Validating... (loss=X.X):   0%|| 0/8 [00:00<?, ?it/s]\u001b[A\n",
      "Validating... (loss=1.50621):   0%|| 0/8 [00:00<?, ?it/s]\u001b[A\n",
      "Validating... (loss=1.78281):   0%|| 0/8 [00:00<?, ?it/s]\u001b[A\n",
      "Validating... (loss=1.68728):   0%|| 0/8 [00:00<?, ?it/s]\u001b[A\n",
      "Validating... (loss=1.77506):   0%|| 0/8 [00:00<?, ?it/s]\u001b[A\n",
      "Validating... (loss=1.55760):   0%|| 0/8 [00:00<?, ?it/s]\u001b[A\n",
      "Validating... (loss=1.85060):   0%|| 0/8 [00:00<?, ?it/s]\u001b[A\n",
      "Validating... (loss=1.59867):   0%|| 0/8 [00:00<?, ?it/s]\u001b[A\n",
      "Validating... (loss=1.57030): 100%|| 8/8 [00:00<00:00, 11.84it/s]\n"
     ]
    },
    {
     "name": "stdout",
     "output_type": "stream",
     "text": [
      "    Valid Accuracy: 0.41406\n"
     ]
    },
    {
     "name": "stderr",
     "output_type": "stream",
     "text": [
      "Training (4417 / 5000 Steps) (loss=1.47097):  11%|| 7/63 [00:02<00:22,  2.45it/s]"
     ]
    },
    {
     "name": "stdout",
     "output_type": "stream",
     "text": [
      "    Saved model checkpoint to output/cifar10_MoE_12_checkpoint.bin\n",
      "\n"
     ]
    },
    {
     "name": "stderr",
     "output_type": "stream",
     "text": [
      "Training (4473 / 5000 Steps) (loss=1.87854): 100%|| 63/63 [00:09<00:00,  6.58it/s]\n",
      "Training (4480 / 5000 Steps) (loss=1.90453):  10%|| 6/63 [00:01<00:09,  6.26it/s]\n",
      "Validating... (loss=X.X):   0%|| 0/8 [00:00<?, ?it/s]\u001b[A\n",
      "Validating... (loss=1.50904):   0%|| 0/8 [00:00<?, ?it/s]\u001b[A\n",
      "Validating... (loss=1.77712):   0%|| 0/8 [00:00<?, ?it/s]\u001b[A\n",
      "Validating... (loss=1.69223):   0%|| 0/8 [00:00<?, ?it/s]\u001b[A\n",
      "Validating... (loss=1.77346):   0%|| 0/8 [00:00<?, ?it/s]\u001b[A\n",
      "Validating... (loss=1.56339):   0%|| 0/8 [00:00<?, ?it/s]\u001b[A\n",
      "Validating... (loss=1.85628):   0%|| 0/8 [00:00<?, ?it/s]\u001b[A\n",
      "Validating... (loss=1.59650):   0%|| 0/8 [00:00<?, ?it/s]\u001b[A\n",
      "Validating... (loss=1.56599): 100%|| 8/8 [00:00<00:00, 11.46it/s]\n",
      "Training (4481 / 5000 Steps) (loss=2.03176):  13%|| 8/63 [00:02<00:16,  3.25it/s]"
     ]
    },
    {
     "name": "stdout",
     "output_type": "stream",
     "text": [
      "    Valid Accuracy: 0.40625\n"
     ]
    },
    {
     "name": "stderr",
     "output_type": "stream",
     "text": [
      "Training (4536 / 5000 Steps) (loss=2.00443): 100%|| 63/63 [00:07<00:00,  7.88it/s]\n",
      "Training (4544 / 5000 Steps) (loss=1.73620):  11%|| 7/63 [00:01<00:07,  7.02it/s]\n",
      "Validating... (loss=X.X):   0%|| 0/8 [00:00<?, ?it/s]\u001b[A\n",
      "Validating... (loss=1.51502):   0%|| 0/8 [00:00<?, ?it/s]\u001b[A\n",
      "Validating... (loss=1.78614):   0%|| 0/8 [00:00<?, ?it/s]\u001b[A\n",
      "Validating... (loss=1.69369):   0%|| 0/8 [00:00<?, ?it/s]\u001b[A\n",
      "Validating... (loss=1.78291):   0%|| 0/8 [00:00<?, ?it/s]\u001b[A\n",
      "Validating... (loss=1.57111):   0%|| 0/8 [00:00<?, ?it/s]\u001b[A\n",
      "Validating... (loss=1.86210):   0%|| 0/8 [00:00<?, ?it/s]\u001b[A\n",
      "Validating... (loss=1.59176):   0%|| 0/8 [00:00<?, ?it/s]\u001b[A\n",
      "Validating... (loss=1.56379): 100%|| 8/8 [00:00<00:00, 12.53it/s]\n",
      "Training (4545 / 5000 Steps) (loss=1.47222):  14%|| 9/63 [00:01<00:14,  3.64it/s]"
     ]
    },
    {
     "name": "stdout",
     "output_type": "stream",
     "text": [
      "    Valid Accuracy: 0.40625\n"
     ]
    },
    {
     "name": "stderr",
     "output_type": "stream",
     "text": [
      "Training (4599 / 5000 Steps) (loss=2.03511): 100%|| 63/63 [00:09<00:00,  6.52it/s]\n",
      "Training (4608 / 5000 Steps) (loss=1.50432):  13%|| 8/63 [00:01<00:07,  6.88it/s]\n",
      "Validating... (loss=X.X):   0%|| 0/8 [00:00<?, ?it/s]\u001b[A\n",
      "Validating... (loss=1.51203):   0%|| 0/8 [00:00<?, ?it/s]\u001b[A\n",
      "Validating... (loss=1.78746):   0%|| 0/8 [00:00<?, ?it/s]\u001b[A\n",
      "Validating... (loss=1.69258):   0%|| 0/8 [00:00<?, ?it/s]\u001b[A\n",
      "Validating... (loss=1.77735):   0%|| 0/8 [00:00<?, ?it/s]\u001b[A\n",
      "Validating... (loss=1.56875):   0%|| 0/8 [00:00<?, ?it/s]\u001b[A\n",
      "Validating... (loss=1.86070):   0%|| 0/8 [00:00<?, ?it/s]\u001b[A\n",
      "Validating... (loss=1.59610):   0%|| 0/8 [00:00<?, ?it/s]\u001b[A\n",
      "Validating... (loss=1.56479): 100%|| 8/8 [00:00<00:00, 12.21it/s]\n",
      "Training (4609 / 5000 Steps) (loss=1.85766):  16%|| 10/63 [00:02<00:15,  3.53it/s]"
     ]
    },
    {
     "name": "stdout",
     "output_type": "stream",
     "text": [
      "    Valid Accuracy: 0.40625\n"
     ]
    },
    {
     "name": "stderr",
     "output_type": "stream",
     "text": [
      "Training (4662 / 5000 Steps) (loss=1.86498): 100%|| 63/63 [00:09<00:00,  6.77it/s]\n",
      "Training (4672 / 5000 Steps) (loss=1.91098):  14%|| 9/63 [00:01<00:05,  9.19it/s]\n",
      "Validating... (loss=X.X):   0%|| 0/8 [00:00<?, ?it/s]\u001b[A\n",
      "Validating... (loss=1.51242):   0%|| 0/8 [00:00<?, ?it/s]\u001b[A\n",
      "Validating... (loss=1.78807):   0%|| 0/8 [00:00<?, ?it/s]\u001b[A\n",
      "Validating... (loss=1.69230):   0%|| 0/8 [00:00<?, ?it/s]\u001b[A\n",
      "Validating... (loss=1.78112):   0%|| 0/8 [00:00<?, ?it/s]\u001b[A\n",
      "Validating... (loss=1.57102):   0%|| 0/8 [00:00<?, ?it/s]\u001b[A\n",
      "Validating... (loss=1.86461):   0%|| 0/8 [00:00<?, ?it/s]\u001b[A\n",
      "Validating... (loss=1.59054):   0%|| 0/8 [00:00<?, ?it/s]\u001b[A\n",
      "Validating... (loss=1.56293): 100%|| 8/8 [00:00<00:00, 12.46it/s]\n",
      "Training (4673 / 5000 Steps) (loss=1.88456):  16%|| 10/63 [00:02<00:12,  4.08it/s]"
     ]
    },
    {
     "name": "stdout",
     "output_type": "stream",
     "text": [
      "    Valid Accuracy: 0.40625\n"
     ]
    },
    {
     "name": "stderr",
     "output_type": "stream",
     "text": [
      "Training (4725 / 5000 Steps) (loss=1.37272): 100%|| 63/63 [00:07<00:00,  8.77it/s]\n",
      "Training (4736 / 5000 Steps) (loss=1.74313):  16%|| 10/63 [00:01<00:06,  7.59it/s]\n",
      "Validating... (loss=X.X):   0%|| 0/8 [00:00<?, ?it/s]\u001b[A\n",
      "Validating... (loss=1.50944):   0%|| 0/8 [00:00<?, ?it/s]\u001b[A\n",
      "Validating... (loss=1.78439):   0%|| 0/8 [00:00<?, ?it/s]\u001b[A\n",
      "Validating... (loss=1.69347):   0%|| 0/8 [00:00<?, ?it/s]\u001b[A\n",
      "Validating... (loss=1.77909):   0%|| 0/8 [00:00<?, ?it/s]\u001b[A\n",
      "Validating... (loss=1.57375):   0%|| 0/8 [00:00<?, ?it/s]\u001b[A\n",
      "Validating... (loss=1.86331):   0%|| 0/8 [00:00<?, ?it/s]\u001b[A\n",
      "Validating... (loss=1.58979):   0%|| 0/8 [00:00<?, ?it/s]\u001b[A\n",
      "Validating... (loss=1.56423): 100%|| 8/8 [00:00<00:00, 14.06it/s]\n",
      "Training (4737 / 5000 Steps) (loss=1.64365):  19%|| 12/63 [00:02<00:12,  4.02it/s]"
     ]
    },
    {
     "name": "stdout",
     "output_type": "stream",
     "text": [
      "    Valid Accuracy: 0.40625\n"
     ]
    },
    {
     "name": "stderr",
     "output_type": "stream",
     "text": [
      "Training (4788 / 5000 Steps) (loss=1.95239): 100%|| 63/63 [00:07<00:00,  8.64it/s]\n",
      "Training (4800 / 5000 Steps) (loss=1.40112):  17%|| 11/63 [00:01<00:05,  9.25it/s]\n",
      "Validating... (loss=X.X):   0%|| 0/8 [00:00<?, ?it/s]\u001b[A\n",
      "Validating... (loss=1.50736):   0%|| 0/8 [00:00<?, ?it/s]\u001b[A\n",
      "Validating... (loss=1.78475):   0%|| 0/8 [00:00<?, ?it/s]\u001b[A\n",
      "Validating... (loss=1.69277):   0%|| 0/8 [00:00<?, ?it/s]\u001b[A\n",
      "Validating... (loss=1.77508):   0%|| 0/8 [00:00<?, ?it/s]\u001b[A\n",
      "Validating... (loss=1.57239):   0%|| 0/8 [00:00<?, ?it/s]\u001b[A\n",
      "Validating... (loss=1.86164):   0%|| 0/8 [00:00<?, ?it/s]\u001b[A\n",
      "Validating... (loss=1.59026):   0%|| 0/8 [00:00<?, ?it/s]\u001b[A\n",
      "Validating... (loss=1.56468): 100%|| 8/8 [00:00<00:00, 14.42it/s]\n",
      "Training (4802 / 5000 Steps) (loss=1.91529):  22%|| 14/63 [00:02<00:08,  5.74it/s]"
     ]
    },
    {
     "name": "stdout",
     "output_type": "stream",
     "text": [
      "    Valid Accuracy: 0.40625\n"
     ]
    },
    {
     "name": "stderr",
     "output_type": "stream",
     "text": [
      "Training (4851 / 5000 Steps) (loss=1.66194): 100%|| 63/63 [00:08<00:00,  7.13it/s]\n",
      "Training (4864 / 5000 Steps) (loss=1.52908):  17%|| 11/63 [00:01<00:05,  9.97it/s]\n",
      "Validating... (loss=X.X):   0%|| 0/8 [00:00<?, ?it/s]\u001b[A\n",
      "Validating... (loss=1.50816):   0%|| 0/8 [00:00<?, ?it/s]\u001b[A\n",
      "Validating... (loss=1.78526):   0%|| 0/8 [00:00<?, ?it/s]\u001b[A\n",
      "Validating... (loss=1.69197):   0%|| 0/8 [00:00<?, ?it/s]\u001b[A\n",
      "Validating... (loss=1.77597):   0%|| 0/8 [00:00<?, ?it/s]\u001b[A\n",
      "Validating... (loss=1.56411):   0%|| 0/8 [00:00<?, ?it/s]\u001b[A\n",
      "Validating... (loss=1.86216):   0%|| 0/8 [00:00<?, ?it/s]\u001b[A\n",
      "Validating... (loss=1.59035):   0%|| 0/8 [00:00<?, ?it/s]\u001b[A\n",
      "Validating... (loss=1.56503): 100%|| 8/8 [00:00<00:00, 13.69it/s]\n",
      "Training (4865 / 5000 Steps) (loss=1.61163):  22%|| 14/63 [00:02<00:09,  5.34it/s]"
     ]
    },
    {
     "name": "stdout",
     "output_type": "stream",
     "text": [
      "    Valid Accuracy: 0.40625\n"
     ]
    },
    {
     "name": "stderr",
     "output_type": "stream",
     "text": [
      "Training (4914 / 5000 Steps) (loss=1.90584): 100%|| 63/63 [00:07<00:00,  8.84it/s]\n",
      "Training (4928 / 5000 Steps) (loss=2.02074):  21%|| 13/63 [00:01<00:05,  9.96it/s]\n",
      "Validating... (loss=X.X):   0%|| 0/8 [00:00<?, ?it/s]\u001b[A\n",
      "Validating... (loss=1.50889):   0%|| 0/8 [00:00<?, ?it/s]\u001b[A\n",
      "Validating... (loss=1.78540):   0%|| 0/8 [00:00<?, ?it/s]\u001b[A\n",
      "Validating... (loss=1.69214):   0%|| 0/8 [00:00<?, ?it/s]\u001b[A\n",
      "Validating... (loss=1.77695):   0%|| 0/8 [00:00<?, ?it/s]\u001b[A\n",
      "Validating... (loss=1.56471):   0%|| 0/8 [00:00<?, ?it/s]\u001b[A\n",
      "Validating... (loss=1.86274):   0%|| 0/8 [00:00<?, ?it/s]\u001b[A\n",
      "Validating... (loss=1.59040):   0%|| 0/8 [00:00<?, ?it/s]\u001b[A\n",
      "Validating... (loss=1.56472): 100%|| 8/8 [00:00<00:00, 12.33it/s]\n",
      "Training (4929 / 5000 Steps) (loss=1.66972):  24%|| 15/63 [00:02<00:10,  4.53it/s]"
     ]
    },
    {
     "name": "stdout",
     "output_type": "stream",
     "text": [
      "    Valid Accuracy: 0.40625\n"
     ]
    },
    {
     "name": "stderr",
     "output_type": "stream",
     "text": [
      "Training (4977 / 5000 Steps) (loss=1.53549): 100%|| 63/63 [00:06<00:00,  9.04it/s]\n",
      "Training (4992 / 5000 Steps) (loss=1.85531):  22%|| 14/63 [00:01<00:04, 10.60it/s]\n",
      "Validating... (loss=X.X):   0%|| 0/8 [00:00<?, ?it/s]\u001b[A\n",
      "Validating... (loss=1.50887):   0%|| 0/8 [00:00<?, ?it/s]\u001b[A\n",
      "Validating... (loss=1.78540):   0%|| 0/8 [00:00<?, ?it/s]\u001b[A\n",
      "Validating... (loss=1.69212):   0%|| 0/8 [00:00<?, ?it/s]\u001b[A\n",
      "Validating... (loss=1.77691):   0%|| 0/8 [00:00<?, ?it/s]\u001b[A\n",
      "Validating... (loss=1.56469):   0%|| 0/8 [00:00<?, ?it/s]\u001b[A\n",
      "Validating... (loss=1.86273):   0%|| 0/8 [00:00<?, ?it/s]\u001b[A\n",
      "Validating... (loss=1.59040):   0%|| 0/8 [00:00<?, ?it/s]\u001b[A\n",
      "Validating... (loss=1.56473): 100%|| 8/8 [00:00<00:00, 12.35it/s]\n",
      "Training (4993 / 5000 Steps) (loss=2.10968):  25%|| 16/63 [00:02<00:09,  4.70it/s]"
     ]
    },
    {
     "name": "stdout",
     "output_type": "stream",
     "text": [
      "    Valid Accuracy: 0.40625\n"
     ]
    },
    {
     "name": "stderr",
     "output_type": "stream",
     "text": [
      "Training (5000 / 5000 Steps) (loss=1.55552):  35%|| 22/63 [00:03<00:06,  6.28it/s]\n"
     ]
    },
    {
     "name": "stdout",
     "output_type": "stream",
     "text": [
      "Best Accuracy: \t0.414062\n",
      "End Training!\n"
     ]
    }
   ],
   "source": [
    "VIT_train(args, dataset, extra_attention, num_blocks, train_example_nums, test_example_nums, batch_size, total_steps, warmup_steps, eval_every, learning_rate)"
   ]
  },
  {
   "cell_type": "code",
   "execution_count": 11,
   "id": "85f4dbd3-7715-405f-bb45-05d8b5a4b8e7",
   "metadata": {
    "scrolled": true
   },
   "outputs": [
    {
     "name": "stdout",
     "output_type": "stream",
     "text": [
      "extra attention: Global_SlidingWindow\n",
      "num of blocks: 12\n",
      "Total Parameter: 85.8M\n",
      "\n",
      "Files already downloaded and verified\n",
      "Files already downloaded and verified\n"
     ]
    },
    {
     "name": "stderr",
     "output_type": "stream",
     "text": [
      "Training (63 / 5000 Steps) (loss=2.30368): 100%|| 63/63 [00:06<00:00,  9.41it/s]\n",
      "Training (64 / 5000 Steps) (loss=2.29800):   0%|| 0/63 [00:00<?, ?it/s]\n",
      "Validating... (loss=X.X):   0%|| 0/8 [00:00<?, ?it/s]\u001b[A\n",
      "Validating... (loss=2.30132):   0%|| 0/8 [00:00<?, ?it/s]\u001b[A\n",
      "Validating... (loss=2.29979):   0%|| 0/8 [00:00<?, ?it/s]\u001b[A\n",
      "Validating... (loss=2.29808):   0%|| 0/8 [00:00<?, ?it/s]\u001b[A\n",
      "Validating... (loss=2.30050):   0%|| 0/8 [00:00<?, ?it/s]\u001b[A\n",
      "Validating... (loss=2.29953):   0%|| 0/8 [00:00<?, ?it/s]\u001b[A\n",
      "Validating... (loss=2.30009):   0%|| 0/8 [00:00<?, ?it/s]\u001b[A\n",
      "Validating... (loss=2.30397):   0%|| 0/8 [00:00<?, ?it/s]\u001b[A\n",
      "Validating... (loss=2.30219): 100%|| 8/8 [00:00<00:00,  9.68it/s]\n",
      "Training (64 / 5000 Steps) (loss=2.29800):   2%|| 1/63 [00:01<01:32,  1.49s/it]"
     ]
    },
    {
     "name": "stdout",
     "output_type": "stream",
     "text": [
      "    Valid Accuracy: 0.09375\n",
      "    Saved model checkpoint to output/cifar10_Global_SlidingWindow_12_checkpoint.bin\n",
      "\n"
     ]
    },
    {
     "name": "stderr",
     "output_type": "stream",
     "text": [
      "Training (126 / 5000 Steps) (loss=2.29629): 100%|| 63/63 [00:09<00:00,  6.73it/s]\n",
      "Training (128 / 5000 Steps) (loss=2.30621):   2%|| 1/63 [00:00<00:33,  1.87it/s]\n",
      "Validating... (loss=X.X):   0%|| 0/8 [00:00<?, ?it/s]\u001b[A\n",
      "Validating... (loss=2.29401):   0%|| 0/8 [00:00<?, ?it/s]\u001b[A\n",
      "Validating... (loss=2.29255):   0%|| 0/8 [00:00<?, ?it/s]\u001b[A\n",
      "Validating... (loss=2.28812):   0%|| 0/8 [00:00<?, ?it/s]\u001b[A\n",
      "Validating... (loss=2.29770):   0%|| 0/8 [00:00<?, ?it/s]\u001b[A\n",
      "Validating... (loss=2.29428):   0%|| 0/8 [00:00<?, ?it/s]\u001b[A\n",
      "Validating... (loss=2.28847):   0%|| 0/8 [00:00<?, ?it/s]\u001b[A\n",
      "Validating... (loss=2.29670):   0%|| 0/8 [00:00<?, ?it/s]\u001b[A\n",
      "Validating... (loss=2.29508): 100%|| 8/8 [00:00<00:00,  8.48it/s]\n"
     ]
    },
    {
     "name": "stdout",
     "output_type": "stream",
     "text": [
      "    Valid Accuracy: 0.12500\n"
     ]
    },
    {
     "name": "stderr",
     "output_type": "stream",
     "text": [
      "Training (129 / 5000 Steps) (loss=2.29333):   5%|| 3/63 [00:02<00:41,  1.45it/s]"
     ]
    },
    {
     "name": "stdout",
     "output_type": "stream",
     "text": [
      "    Saved model checkpoint to output/cifar10_Global_SlidingWindow_12_checkpoint.bin\n",
      "\n"
     ]
    },
    {
     "name": "stderr",
     "output_type": "stream",
     "text": [
      "Training (189 / 5000 Steps) (loss=2.29235): 100%|| 63/63 [00:08<00:00,  7.52it/s]\n",
      "Training (192 / 5000 Steps) (loss=2.28131):   3%|| 2/63 [00:00<00:18,  3.30it/s]\n",
      "Validating... (loss=X.X):   0%|| 0/8 [00:00<?, ?it/s]\u001b[A\n",
      "Validating... (loss=2.28420):   0%|| 0/8 [00:00<?, ?it/s]\u001b[A\n",
      "Validating... (loss=2.28939):   0%|| 0/8 [00:00<?, ?it/s]\u001b[A\n",
      "Validating... (loss=2.27041):   0%|| 0/8 [00:00<?, ?it/s]\u001b[A\n",
      "Validating... (loss=2.28806):   0%|| 0/8 [00:00<?, ?it/s]\u001b[A\n",
      "Validating... (loss=2.28153):   0%|| 0/8 [00:00<?, ?it/s]\u001b[A\n",
      "Validating... (loss=2.28499):   0%|| 0/8 [00:00<?, ?it/s]\u001b[A\n",
      "Validating... (loss=2.28453):   0%|| 0/8 [00:00<?, ?it/s]\u001b[A\n",
      "Validating... (loss=2.27884): 100%|| 8/8 [00:00<00:00,  8.66it/s]\n"
     ]
    },
    {
     "name": "stdout",
     "output_type": "stream",
     "text": [
      "    Valid Accuracy: 0.14844\n"
     ]
    },
    {
     "name": "stderr",
     "output_type": "stream",
     "text": [
      "Training (193 / 5000 Steps) (loss=2.29452):   6%|| 4/63 [00:02<00:32,  1.82it/s]"
     ]
    },
    {
     "name": "stdout",
     "output_type": "stream",
     "text": [
      "    Saved model checkpoint to output/cifar10_Global_SlidingWindow_12_checkpoint.bin\n",
      "\n"
     ]
    },
    {
     "name": "stderr",
     "output_type": "stream",
     "text": [
      "Training (252 / 5000 Steps) (loss=2.29731): 100%|| 63/63 [00:08<00:00,  7.16it/s]\n",
      "Training (256 / 5000 Steps) (loss=2.27406):   5%|| 3/63 [00:00<00:11,  5.23it/s]\n",
      "Validating... (loss=X.X):   0%|| 0/8 [00:00<?, ?it/s]\u001b[A\n",
      "Validating... (loss=2.27070):   0%|| 0/8 [00:00<?, ?it/s]\u001b[A\n",
      "Validating... (loss=2.27956):   0%|| 0/8 [00:00<?, ?it/s]\u001b[A\n",
      "Validating... (loss=2.24834):   0%|| 0/8 [00:00<?, ?it/s]\u001b[A\n",
      "Validating... (loss=2.28355):   0%|| 0/8 [00:00<?, ?it/s]\u001b[A\n",
      "Validating... (loss=2.25486):   0%|| 0/8 [00:00<?, ?it/s]\u001b[A\n",
      "Validating... (loss=2.27627):   0%|| 0/8 [00:01<?, ?it/s]\u001b[A\n",
      "Validating... (loss=2.27627):  75%|| 6/8 [00:01<00:00,  5.78it/s]\u001b[A\n",
      "Validating... (loss=2.28387):  75%|| 6/8 [00:01<00:00,  5.78it/s]\u001b[A\n",
      "Validating... (loss=2.25774): 100%|| 8/8 [00:01<00:00,  6.04it/s]\u001b[A\n"
     ]
    },
    {
     "name": "stdout",
     "output_type": "stream",
     "text": [
      "    Valid Accuracy: 0.16406\n"
     ]
    },
    {
     "name": "stderr",
     "output_type": "stream",
     "text": [
      "Training (257 / 5000 Steps) (loss=2.27346):   8%|| 5/63 [00:02<00:35,  1.64it/s]"
     ]
    },
    {
     "name": "stdout",
     "output_type": "stream",
     "text": [
      "    Saved model checkpoint to output/cifar10_Global_SlidingWindow_12_checkpoint.bin\n",
      "\n"
     ]
    },
    {
     "name": "stderr",
     "output_type": "stream",
     "text": [
      "Training (315 / 5000 Steps) (loss=2.21392): 100%|| 63/63 [00:07<00:00,  8.20it/s]\n",
      "Training (320 / 5000 Steps) (loss=2.25485):   6%|| 4/63 [00:01<00:12,  4.87it/s]\n",
      "Validating... (loss=X.X):   0%|| 0/8 [00:00<?, ?it/s]\u001b[A\n",
      "Validating... (loss=2.25759):   0%|| 0/8 [00:00<?, ?it/s]\u001b[A\n",
      "Validating... (loss=2.24356):   0%|| 0/8 [00:00<?, ?it/s]\u001b[A\n",
      "Validating... (loss=2.22018):   0%|| 0/8 [00:00<?, ?it/s]\u001b[A\n",
      "Validating... (loss=2.25659):   0%|| 0/8 [00:00<?, ?it/s]\u001b[A\n",
      "Validating... (loss=2.21897):   0%|| 0/8 [00:00<?, ?it/s]\u001b[A\n",
      "Validating... (loss=2.25400):   0%|| 0/8 [00:00<?, ?it/s]\u001b[A\n",
      "Validating... (loss=2.28311):   0%|| 0/8 [00:00<?, ?it/s]\u001b[A\n",
      "Validating... (loss=2.23490): 100%|| 8/8 [00:00<00:00,  8.18it/s]\n",
      "Training (321 / 5000 Steps) (loss=2.26011):  10%|| 6/63 [00:02<00:22,  2.48it/s]"
     ]
    },
    {
     "name": "stdout",
     "output_type": "stream",
     "text": [
      "    Valid Accuracy: 0.12500\n"
     ]
    },
    {
     "name": "stderr",
     "output_type": "stream",
     "text": [
      "Training (378 / 5000 Steps) (loss=2.24930): 100%|| 63/63 [00:08<00:00,  7.55it/s]\n",
      "Training (384 / 5000 Steps) (loss=2.22655):   8%|| 5/63 [00:01<00:09,  6.10it/s]\n",
      "Validating... (loss=X.X):   0%|| 0/8 [00:00<?, ?it/s]\u001b[A\n",
      "Validating... (loss=2.22413):   0%|| 0/8 [00:00<?, ?it/s]\u001b[A\n",
      "Validating... (loss=2.21144):   0%|| 0/8 [00:00<?, ?it/s]\u001b[A\n",
      "Validating... (loss=2.19572):   0%|| 0/8 [00:00<?, ?it/s]\u001b[A\n",
      "Validating... (loss=2.21473):   0%|| 0/8 [00:00<?, ?it/s]\u001b[A\n",
      "Validating... (loss=2.18090):   0%|| 0/8 [00:00<?, ?it/s]\u001b[A\n",
      "Validating... (loss=2.21689):   0%|| 0/8 [00:00<?, ?it/s]\u001b[A\n",
      "Validating... (loss=2.27428):   0%|| 0/8 [00:00<?, ?it/s]\u001b[A\n",
      "Validating... (loss=2.20835): 100%|| 8/8 [00:00<00:00,  9.18it/s]\n",
      "Training (385 / 5000 Steps) (loss=2.26472):  11%|| 7/63 [00:02<00:20,  2.74it/s]"
     ]
    },
    {
     "name": "stdout",
     "output_type": "stream",
     "text": [
      "    Valid Accuracy: 0.14844\n"
     ]
    },
    {
     "name": "stderr",
     "output_type": "stream",
     "text": [
      "Training (441 / 5000 Steps) (loss=2.23359): 100%|| 63/63 [00:09<00:00,  6.97it/s]\n",
      "Training (448 / 5000 Steps) (loss=2.22648):   8%|| 5/63 [00:01<00:09,  5.94it/s]\n",
      "Validating... (loss=X.X):   0%|| 0/8 [00:00<?, ?it/s]\u001b[A\n",
      "Validating... (loss=2.20073):   0%|| 0/8 [00:00<?, ?it/s]\u001b[A\n",
      "Validating... (loss=2.18582):   0%|| 0/8 [00:00<?, ?it/s]\u001b[A\n",
      "Validating... (loss=2.18048):   0%|| 0/8 [00:00<?, ?it/s]\u001b[A\n",
      "Validating... (loss=2.18660):   0%|| 0/8 [00:00<?, ?it/s]\u001b[A\n",
      "Validating... (loss=2.14704):   0%|| 0/8 [00:00<?, ?it/s]\u001b[A\n",
      "Validating... (loss=2.19034):   0%|| 0/8 [00:00<?, ?it/s]\u001b[A\n",
      "Validating... (loss=2.26555):   0%|| 0/8 [00:00<?, ?it/s]\u001b[A\n",
      "Validating... (loss=2.18060): 100%|| 8/8 [00:01<00:00,  7.96it/s]\n"
     ]
    },
    {
     "name": "stdout",
     "output_type": "stream",
     "text": [
      "    Valid Accuracy: 0.23438\n"
     ]
    },
    {
     "name": "stderr",
     "output_type": "stream",
     "text": [
      "Training (449 / 5000 Steps) (loss=2.33712):  13%|| 8/63 [00:02<00:21,  2.55it/s]"
     ]
    },
    {
     "name": "stdout",
     "output_type": "stream",
     "text": [
      "    Saved model checkpoint to output/cifar10_Global_SlidingWindow_12_checkpoint.bin\n",
      "\n"
     ]
    },
    {
     "name": "stderr",
     "output_type": "stream",
     "text": [
      "Training (504 / 5000 Steps) (loss=2.22506): 100%|| 63/63 [00:09<00:00,  6.89it/s]\n",
      "Training (512 / 5000 Steps) (loss=2.16089):  11%|| 7/63 [00:01<00:09,  5.65it/s]\n",
      "Validating... (loss=X.X):   0%|| 0/8 [00:00<?, ?it/s]\u001b[A\n",
      "Validating... (loss=2.16693):   0%|| 0/8 [00:00<?, ?it/s]\u001b[A\n",
      "Validating... (loss=2.17343):   0%|| 0/8 [00:00<?, ?it/s]\u001b[A\n",
      "Validating... (loss=2.18683):   0%|| 0/8 [00:00<?, ?it/s]\u001b[A\n",
      "Validating... (loss=2.16593):   0%|| 0/8 [00:00<?, ?it/s]\u001b[A\n",
      "Validating... (loss=2.09354):   0%|| 0/8 [00:00<?, ?it/s]\u001b[A\n",
      "Validating... (loss=2.16129):   0%|| 0/8 [00:00<?, ?it/s]\u001b[A\n",
      "Validating... (loss=2.25053):   0%|| 0/8 [00:00<?, ?it/s]\u001b[A\n",
      "Validating... (loss=2.15709):   0%|| 0/8 [00:01<?, ?it/s]\u001b[A\n",
      "Validating... (loss=2.15709): 100%|| 8/8 [00:01<00:00,  7.18it/s]\u001b[A\n",
      "Training (513 / 5000 Steps) (loss=2.19107):  14%|| 9/63 [00:02<00:22,  2.41it/s]"
     ]
    },
    {
     "name": "stdout",
     "output_type": "stream",
     "text": [
      "    Valid Accuracy: 0.23438\n"
     ]
    },
    {
     "name": "stderr",
     "output_type": "stream",
     "text": [
      "Training (567 / 5000 Steps) (loss=2.06153): 100%|| 63/63 [00:08<00:00,  7.46it/s]\n",
      "Training (576 / 5000 Steps) (loss=2.21603):  13%|| 8/63 [00:01<00:08,  6.79it/s]\n",
      "Validating... (loss=X.X):   0%|| 0/8 [00:00<?, ?it/s]\u001b[A\n",
      "Validating... (loss=2.15851):   0%|| 0/8 [00:00<?, ?it/s]\u001b[A\n",
      "Validating... (loss=2.15602):   0%|| 0/8 [00:00<?, ?it/s]\u001b[A\n",
      "Validating... (loss=2.15378):   0%|| 0/8 [00:00<?, ?it/s]\u001b[A\n",
      "Validating... (loss=2.15204):   0%|| 0/8 [00:00<?, ?it/s]\u001b[A\n",
      "Validating... (loss=2.06799):   0%|| 0/8 [00:00<?, ?it/s]\u001b[A\n",
      "Validating... (loss=2.14054):   0%|| 0/8 [00:00<?, ?it/s]\u001b[A\n",
      "Validating... (loss=2.23212):   0%|| 0/8 [00:00<?, ?it/s]\u001b[A\n",
      "Validating... (loss=2.13584): 100%|| 8/8 [00:00<00:00, 14.99it/s]\n",
      "Training (578 / 5000 Steps) (loss=2.16367):  17%|| 11/63 [00:02<00:10,  4.93it/s]"
     ]
    },
    {
     "name": "stdout",
     "output_type": "stream",
     "text": [
      "    Valid Accuracy: 0.18750\n"
     ]
    },
    {
     "name": "stderr",
     "output_type": "stream",
     "text": [
      "Training (630 / 5000 Steps) (loss=2.21049): 100%|| 63/63 [00:06<00:00,  9.12it/s]\n",
      "Training (640 / 5000 Steps) (loss=2.17522):  14%|| 9/63 [00:01<00:08,  6.56it/s]\n",
      "Validating... (loss=X.X):   0%|| 0/8 [00:00<?, ?it/s]\u001b[A\n",
      "Validating... (loss=2.16523):   0%|| 0/8 [00:00<?, ?it/s]\u001b[A\n",
      "Validating... (loss=2.15575):   0%|| 0/8 [00:00<?, ?it/s]\u001b[A\n",
      "Validating... (loss=2.13729):   0%|| 0/8 [00:00<?, ?it/s]\u001b[A\n",
      "Validating... (loss=2.15200):   0%|| 0/8 [00:00<?, ?it/s]\u001b[A\n",
      "Validating... (loss=2.04284):   0%|| 0/8 [00:00<?, ?it/s]\u001b[A\n",
      "Validating... (loss=2.12436):   0%|| 0/8 [00:00<?, ?it/s]\u001b[A\n",
      "Validating... (loss=2.25031):   0%|| 0/8 [00:00<?, ?it/s]\u001b[A\n",
      "Validating... (loss=2.12842): 100%|| 8/8 [00:00<00:00,  8.67it/s]\n",
      "Training (642 / 5000 Steps) (loss=2.28549):  19%|| 12/63 [00:02<00:13,  3.73it/s]"
     ]
    },
    {
     "name": "stdout",
     "output_type": "stream",
     "text": [
      "    Valid Accuracy: 0.20312\n"
     ]
    },
    {
     "name": "stderr",
     "output_type": "stream",
     "text": [
      "Training (693 / 5000 Steps) (loss=2.27766): 100%|| 63/63 [00:07<00:00,  8.26it/s]\n",
      "Training (704 / 5000 Steps) (loss=2.27048):  16%|| 10/63 [00:01<00:05,  9.94it/s]\n",
      "Validating... (loss=X.X):   0%|| 0/8 [00:00<?, ?it/s]\u001b[A\n",
      "Validating... (loss=2.13513):   0%|| 0/8 [00:00<?, ?it/s]\u001b[A\n",
      "Validating... (loss=2.13032):   0%|| 0/8 [00:00<?, ?it/s]\u001b[A\n",
      "Validating... (loss=2.12681):   0%|| 0/8 [00:00<?, ?it/s]\u001b[A\n",
      "Validating... (loss=2.12553):   0%|| 0/8 [00:00<?, ?it/s]\u001b[A\n",
      "Validating... (loss=2.00802):   0%|| 0/8 [00:00<?, ?it/s]\u001b[A\n",
      "Validating... (loss=2.11712):   0%|| 0/8 [00:00<?, ?it/s]\u001b[A\n",
      "Validating... (loss=2.23235):   0%|| 0/8 [00:00<?, ?it/s]\u001b[A\n",
      "Validating... (loss=2.11356):   0%|| 0/8 [00:01<?, ?it/s]\u001b[A\n",
      "Validating... (loss=2.11356): 100%|| 8/8 [00:01<00:00,  6.91it/s]\u001b[A\n",
      "Training (705 / 5000 Steps) (loss=2.02026):  19%|| 12/63 [00:02<00:15,  3.28it/s]"
     ]
    },
    {
     "name": "stdout",
     "output_type": "stream",
     "text": [
      "    Valid Accuracy: 0.21875\n"
     ]
    },
    {
     "name": "stderr",
     "output_type": "stream",
     "text": [
      "Training (756 / 5000 Steps) (loss=2.07567): 100%|| 63/63 [00:08<00:00,  7.86it/s]\n",
      "Training (768 / 5000 Steps) (loss=2.38483):  17%|| 11/63 [00:02<00:08,  6.27it/s]\n",
      "Validating... (loss=X.X):   0%|| 0/8 [00:00<?, ?it/s]\u001b[A\n",
      "Validating... (loss=2.12934):   0%|| 0/8 [00:00<?, ?it/s]\u001b[A\n",
      "Validating... (loss=2.11447):   0%|| 0/8 [00:00<?, ?it/s]\u001b[A\n",
      "Validating... (loss=2.11298):   0%|| 0/8 [00:00<?, ?it/s]\u001b[A\n",
      "Validating... (loss=2.12734):   0%|| 0/8 [00:00<?, ?it/s]\u001b[A\n",
      "Validating... (loss=2.00173):   0%|| 0/8 [00:00<?, ?it/s]\u001b[A\n",
      "Validating... (loss=2.11146):   0%|| 0/8 [00:00<?, ?it/s]\u001b[A\n",
      "Validating... (loss=2.23392):   0%|| 0/8 [00:00<?, ?it/s]\u001b[A\n",
      "Validating... (loss=2.11190): 100%|| 8/8 [00:00<00:00,  8.00it/s]\n",
      "Training (769 / 5000 Steps) (loss=2.02707):  21%|| 13/63 [00:03<00:18,  2.68it/s]"
     ]
    },
    {
     "name": "stdout",
     "output_type": "stream",
     "text": [
      "    Valid Accuracy: 0.18750\n"
     ]
    },
    {
     "name": "stderr",
     "output_type": "stream",
     "text": [
      "Training (819 / 5000 Steps) (loss=2.37597): 100%|| 63/63 [00:08<00:00,  7.86it/s]\n",
      "Training (832 / 5000 Steps) (loss=2.06140):  17%|| 11/63 [00:01<00:07,  7.02it/s]\n",
      "Validating... (loss=X.X):   0%|| 0/8 [00:00<?, ?it/s]\u001b[A\n",
      "Validating... (loss=2.10701):   0%|| 0/8 [00:00<?, ?it/s]\u001b[A\n",
      "Validating... (loss=2.11947):   0%|| 0/8 [00:00<?, ?it/s]\u001b[A\n",
      "Validating... (loss=2.09748):   0%|| 0/8 [00:00<?, ?it/s]\u001b[A\n",
      "Validating... (loss=2.12298):   0%|| 0/8 [00:00<?, ?it/s]\u001b[A\n",
      "Validating... (loss=1.98180):   0%|| 0/8 [00:00<?, ?it/s]\u001b[A\n",
      "Validating... (loss=2.11414):   0%|| 0/8 [00:00<?, ?it/s]\u001b[A\n",
      "Validating... (loss=2.19583):   0%|| 0/8 [00:00<?, ?it/s]\u001b[A\n",
      "Validating... (loss=2.09419): 100%|| 8/8 [00:00<00:00,  9.60it/s]\n",
      "Training (833 / 5000 Steps) (loss=2.09643):  22%|| 14/63 [00:02<00:13,  3.64it/s]"
     ]
    },
    {
     "name": "stdout",
     "output_type": "stream",
     "text": [
      "    Valid Accuracy: 0.21875\n"
     ]
    },
    {
     "name": "stderr",
     "output_type": "stream",
     "text": [
      "Training (882 / 5000 Steps) (loss=2.07881): 100%|| 63/63 [00:07<00:00,  8.40it/s]\n",
      "Training (896 / 5000 Steps) (loss=2.23766):  21%|| 13/63 [00:01<00:05,  9.97it/s]\n",
      "Validating... (loss=X.X):   0%|| 0/8 [00:00<?, ?it/s]\u001b[A\n",
      "Validating... (loss=2.12793):   0%|| 0/8 [00:00<?, ?it/s]\u001b[A\n",
      "Validating... (loss=2.13069):   0%|| 0/8 [00:00<?, ?it/s]\u001b[A\n",
      "Validating... (loss=2.10183):   0%|| 0/8 [00:00<?, ?it/s]\u001b[A\n",
      "Validating... (loss=2.10383):   0%|| 0/8 [00:00<?, ?it/s]\u001b[A\n",
      "Validating... (loss=1.96326):   0%|| 0/8 [00:00<?, ?it/s]\u001b[A\n",
      "Validating... (loss=2.09260):   0%|| 0/8 [00:00<?, ?it/s]\u001b[A\n",
      "Validating... (loss=2.23738):   0%|| 0/8 [00:01<?, ?it/s]\u001b[A\n",
      "Validating... (loss=2.23738):  88%|| 7/8 [00:01<00:00,  6.91it/s]\u001b[A\n",
      "Validating... (loss=2.06377): 100%|| 8/8 [00:01<00:00,  6.64it/s]\u001b[A\n",
      "Training (897 / 5000 Steps) (loss=2.21297):  24%|| 15/63 [00:03<00:14,  3.21it/s]"
     ]
    },
    {
     "name": "stdout",
     "output_type": "stream",
     "text": [
      "    Valid Accuracy: 0.22656\n"
     ]
    },
    {
     "name": "stderr",
     "output_type": "stream",
     "text": [
      "Training (945 / 5000 Steps) (loss=2.13574): 100%|| 63/63 [00:09<00:00,  6.83it/s]\n",
      "Training (960 / 5000 Steps) (loss=2.17213):  22%|| 14/63 [00:02<00:07,  6.49it/s]\n",
      "Validating... (loss=X.X):   0%|| 0/8 [00:00<?, ?it/s]\u001b[A\n",
      "Validating... (loss=2.12863):   0%|| 0/8 [00:00<?, ?it/s]\u001b[A\n",
      "Validating... (loss=2.11616):   0%|| 0/8 [00:00<?, ?it/s]\u001b[A\n",
      "Validating... (loss=2.08990):   0%|| 0/8 [00:00<?, ?it/s]\u001b[A\n",
      "Validating... (loss=2.07427):   0%|| 0/8 [00:00<?, ?it/s]\u001b[A\n",
      "Validating... (loss=1.95095):   0%|| 0/8 [00:00<?, ?it/s]\u001b[A\n",
      "Validating... (loss=2.08347):   0%|| 0/8 [00:00<?, ?it/s]\u001b[A\n",
      "Validating... (loss=2.23354):   0%|| 0/8 [00:00<?, ?it/s]\u001b[A\n",
      "Validating... (loss=2.03598): 100%|| 8/8 [00:01<00:00,  7.77it/s]\n",
      "Training (961 / 5000 Steps) (loss=2.23788):  25%|| 16/63 [00:03<00:17,  2.65it/s]"
     ]
    },
    {
     "name": "stdout",
     "output_type": "stream",
     "text": [
      "    Valid Accuracy: 0.21094\n"
     ]
    },
    {
     "name": "stderr",
     "output_type": "stream",
     "text": [
      "Training (1008 / 5000 Steps) (loss=2.12842): 100%|| 63/63 [00:09<00:00,  6.40it/s]\n",
      "Training (1024 / 5000 Steps) (loss=2.04374):  24%|| 15/63 [00:02<00:05,  9.51it/s]\n",
      "Validating... (loss=X.X):   0%|| 0/8 [00:00<?, ?it/s]\u001b[A\n",
      "Validating... (loss=2.10207):   0%|| 0/8 [00:00<?, ?it/s]\u001b[A\n",
      "Validating... (loss=2.15619):   0%|| 0/8 [00:00<?, ?it/s]\u001b[A\n",
      "Validating... (loss=2.11870):   0%|| 0/8 [00:00<?, ?it/s]\u001b[A\n",
      "Validating... (loss=2.09316):   0%|| 0/8 [00:00<?, ?it/s]\u001b[A\n",
      "Validating... (loss=1.96688):   0%|| 0/8 [00:00<?, ?it/s]\u001b[A\n",
      "Validating... (loss=2.07872):   0%|| 0/8 [00:00<?, ?it/s]\u001b[A\n",
      "Validating... (loss=2.26548):   0%|| 0/8 [00:00<?, ?it/s]\u001b[A\n",
      "Validating... (loss=2.03941): 100%|| 8/8 [00:00<00:00, 15.15it/s]\n"
     ]
    },
    {
     "name": "stdout",
     "output_type": "stream",
     "text": [
      "    Valid Accuracy: 0.24219\n"
     ]
    },
    {
     "name": "stderr",
     "output_type": "stream",
     "text": [
      "Training (1025 / 5000 Steps) (loss=2.09100):  27%|| 17/63 [00:03<00:11,  3.96it/s]"
     ]
    },
    {
     "name": "stdout",
     "output_type": "stream",
     "text": [
      "    Saved model checkpoint to output/cifar10_Global_SlidingWindow_12_checkpoint.bin\n",
      "\n"
     ]
    },
    {
     "name": "stderr",
     "output_type": "stream",
     "text": [
      "Training (1071 / 5000 Steps) (loss=2.21243): 100%|| 63/63 [00:08<00:00,  7.23it/s]\n",
      "Training (1088 / 5000 Steps) (loss=2.23817):  25%|| 16/63 [00:02<00:06,  7.37it/s]\n",
      "Validating... (loss=X.X):   0%|| 0/8 [00:00<?, ?it/s]\u001b[A\n",
      "Validating... (loss=2.10060):   0%|| 0/8 [00:00<?, ?it/s]\u001b[A\n",
      "Validating... (loss=2.13236):   0%|| 0/8 [00:00<?, ?it/s]\u001b[A\n",
      "Validating... (loss=2.09509):   0%|| 0/8 [00:00<?, ?it/s]\u001b[A\n",
      "Validating... (loss=2.09938):   0%|| 0/8 [00:00<?, ?it/s]\u001b[A\n",
      "Validating... (loss=1.95983):   0%|| 0/8 [00:00<?, ?it/s]\u001b[A\n",
      "Validating... (loss=2.08442):   0%|| 0/8 [00:00<?, ?it/s]\u001b[A\n",
      "Validating... (loss=2.22047):   0%|| 0/8 [00:00<?, ?it/s]\u001b[A\n",
      "Validating... (loss=2.04883): 100%|| 8/8 [00:00<00:00,  9.66it/s]\n",
      "Training (1089 / 5000 Steps) (loss=2.09721):  29%|| 18/63 [00:03<00:13,  3.35it/s]"
     ]
    },
    {
     "name": "stdout",
     "output_type": "stream",
     "text": [
      "    Valid Accuracy: 0.19531\n"
     ]
    },
    {
     "name": "stderr",
     "output_type": "stream",
     "text": [
      "Training (1134 / 5000 Steps) (loss=2.23275): 100%|| 63/63 [00:07<00:00,  8.64it/s]\n",
      "Training (1152 / 5000 Steps) (loss=2.34261):  25%|| 16/63 [00:02<00:07,  6.37it/s]\n",
      "Validating... (loss=X.X):   0%|| 0/8 [00:00<?, ?it/s]\u001b[A\n",
      "Validating... (loss=2.10334):   0%|| 0/8 [00:00<?, ?it/s]\u001b[A\n",
      "Validating... (loss=2.14211):   0%|| 0/8 [00:00<?, ?it/s]\u001b[A\n",
      "Validating... (loss=2.08734):   0%|| 0/8 [00:00<?, ?it/s]\u001b[A\n",
      "Validating... (loss=2.09880):   0%|| 0/8 [00:00<?, ?it/s]\u001b[A\n",
      "Validating... (loss=1.95049):   0%|| 0/8 [00:00<?, ?it/s]\u001b[A\n",
      "Validating... (loss=2.08468):   0%|| 0/8 [00:00<?, ?it/s]\u001b[A\n",
      "Validating... (loss=2.21149):   0%|| 0/8 [00:00<?, ?it/s]\u001b[A\n",
      "Validating... (loss=2.03449): 100%|| 8/8 [00:00<00:00, 10.09it/s]\n",
      "Training (1154 / 5000 Steps) (loss=2.11151):  32%|| 20/63 [00:03<00:09,  4.55it/s]"
     ]
    },
    {
     "name": "stdout",
     "output_type": "stream",
     "text": [
      "    Valid Accuracy: 0.21875\n"
     ]
    },
    {
     "name": "stderr",
     "output_type": "stream",
     "text": [
      "Training (1197 / 5000 Steps) (loss=2.12989): 100%|| 63/63 [00:07<00:00,  8.29it/s]\n",
      "Training (1216 / 5000 Steps) (loss=2.38760):  27%|| 17/63 [00:02<00:04, 10.34it/s]\n",
      "Validating... (loss=X.X):   0%|| 0/8 [00:00<?, ?it/s]\u001b[A\n",
      "Validating... (loss=2.05949):   0%|| 0/8 [00:00<?, ?it/s]\u001b[A\n",
      "Validating... (loss=2.11751):   0%|| 0/8 [00:00<?, ?it/s]\u001b[A\n",
      "Validating... (loss=2.11316):   0%|| 0/8 [00:00<?, ?it/s]\u001b[A\n",
      "Validating... (loss=2.10865):   0%|| 0/8 [00:00<?, ?it/s]\u001b[A\n",
      "Validating... (loss=1.93614):   0%|| 0/8 [00:00<?, ?it/s]\u001b[A\n",
      "Validating... (loss=2.08467):   0%|| 0/8 [00:00<?, ?it/s]\u001b[A\n",
      "Validating... (loss=2.23504):   0%|| 0/8 [00:00<?, ?it/s]\u001b[A\n",
      "Validating... (loss=2.05068): 100%|| 8/8 [00:01<00:00,  7.86it/s]\n",
      "Training (1217 / 5000 Steps) (loss=2.08800):  32%|| 20/63 [00:03<00:10,  4.12it/s]"
     ]
    },
    {
     "name": "stdout",
     "output_type": "stream",
     "text": [
      "    Valid Accuracy: 0.20312\n"
     ]
    },
    {
     "name": "stderr",
     "output_type": "stream",
     "text": [
      "Training (1260 / 5000 Steps) (loss=1.89805): 100%|| 63/63 [00:09<00:00,  6.45it/s]\n",
      "Training (1280 / 5000 Steps) (loss=2.18132):  30%|| 19/63 [00:03<00:06,  6.73it/s]\n",
      "Validating... (loss=X.X):   0%|| 0/8 [00:00<?, ?it/s]\u001b[A\n",
      "Validating... (loss=2.08773):   0%|| 0/8 [00:00<?, ?it/s]\u001b[A\n",
      "Validating... (loss=2.16164):   0%|| 0/8 [00:00<?, ?it/s]\u001b[A\n",
      "Validating... (loss=2.06563):   0%|| 0/8 [00:00<?, ?it/s]\u001b[A\n",
      "Validating... (loss=2.10586):   0%|| 0/8 [00:00<?, ?it/s]\u001b[A\n",
      "Validating... (loss=1.96530):   0%|| 0/8 [00:00<?, ?it/s]\u001b[A\n",
      "Validating... (loss=2.08873):   0%|| 0/8 [00:00<?, ?it/s]\u001b[A\n",
      "Validating... (loss=2.25397):   0%|| 0/8 [00:00<?, ?it/s]\u001b[A\n",
      "Validating... (loss=2.03002): 100%|| 8/8 [00:00<00:00,  9.01it/s]\n",
      "Training (1281 / 5000 Steps) (loss=2.18759):  33%|| 21/63 [00:04<00:13,  3.08it/s]"
     ]
    },
    {
     "name": "stdout",
     "output_type": "stream",
     "text": [
      "    Valid Accuracy: 0.21875\n"
     ]
    },
    {
     "name": "stderr",
     "output_type": "stream",
     "text": [
      "Training (1323 / 5000 Steps) (loss=2.11610): 100%|| 63/63 [00:08<00:00,  7.59it/s]\n",
      "Training (1344 / 5000 Steps) (loss=2.43998):  32%|| 20/63 [00:02<00:03, 11.43it/s]\n",
      "Validating... (loss=X.X):   0%|| 0/8 [00:00<?, ?it/s]\u001b[A\n",
      "Validating... (loss=2.00523):   0%|| 0/8 [00:00<?, ?it/s]\u001b[A\n",
      "Validating... (loss=2.10239):   0%|| 0/8 [00:00<?, ?it/s]\u001b[A\n",
      "Validating... (loss=2.09690):   0%|| 0/8 [00:00<?, ?it/s]\u001b[A\n",
      "Validating... (loss=2.09862):   0%|| 0/8 [00:00<?, ?it/s]\u001b[A\n",
      "Validating... (loss=1.88767):   0%|| 0/8 [00:00<?, ?it/s]\u001b[A\n",
      "Validating... (loss=2.11559):   0%|| 0/8 [00:00<?, ?it/s]\u001b[A\n",
      "Validating... (loss=2.21674):   0%|| 0/8 [00:00<?, ?it/s]\u001b[A\n",
      "Validating... (loss=2.04781): 100%|| 8/8 [00:00<00:00,  9.54it/s]\n",
      "Training (1345 / 5000 Steps) (loss=2.18639):  35%|| 22/63 [00:03<00:09,  4.40it/s]"
     ]
    },
    {
     "name": "stdout",
     "output_type": "stream",
     "text": [
      "    Valid Accuracy: 0.21875\n"
     ]
    },
    {
     "name": "stderr",
     "output_type": "stream",
     "text": [
      "Training (1386 / 5000 Steps) (loss=2.21463): 100%|| 63/63 [00:06<00:00,  9.33it/s]\n",
      "Training (1408 / 5000 Steps) (loss=2.05462):  33%|| 21/63 [00:03<00:06,  6.66it/s]\n",
      "Validating... (loss=X.X):   0%|| 0/8 [00:00<?, ?it/s]\u001b[A\n",
      "Validating... (loss=2.04115):   0%|| 0/8 [00:00<?, ?it/s]\u001b[A\n",
      "Validating... (loss=2.11182):   0%|| 0/8 [00:00<?, ?it/s]\u001b[A\n",
      "Validating... (loss=2.06410):   0%|| 0/8 [00:00<?, ?it/s]\u001b[A\n",
      "Validating... (loss=2.10430):   0%|| 0/8 [00:00<?, ?it/s]\u001b[A\n",
      "Validating... (loss=1.93052):   0%|| 0/8 [00:00<?, ?it/s]\u001b[A\n",
      "Validating... (loss=2.08595):   0%|| 0/8 [00:00<?, ?it/s]\u001b[A\n",
      "Validating... (loss=2.23626):   0%|| 0/8 [00:00<?, ?it/s]\u001b[A\n",
      "Validating... (loss=2.04343): 100%|| 8/8 [00:00<00:00,  8.07it/s]\n",
      "Training (1409 / 5000 Steps) (loss=2.32148):  37%|| 23/63 [00:04<00:14,  2.73it/s]"
     ]
    },
    {
     "name": "stdout",
     "output_type": "stream",
     "text": [
      "    Valid Accuracy: 0.21875\n"
     ]
    },
    {
     "name": "stderr",
     "output_type": "stream",
     "text": [
      "Training (1449 / 5000 Steps) (loss=2.10159): 100%|| 63/63 [00:09<00:00,  6.85it/s]\n",
      "Training (1472 / 5000 Steps) (loss=2.06645):  35%|| 22/63 [00:02<00:04,  8.86it/s]\n",
      "Validating... (loss=X.X):   0%|| 0/8 [00:00<?, ?it/s]\u001b[A\n",
      "Validating... (loss=2.04117):   0%|| 0/8 [00:00<?, ?it/s]\u001b[A\n",
      "Validating... (loss=2.11628):   0%|| 0/8 [00:00<?, ?it/s]\u001b[A\n",
      "Validating... (loss=2.07820):   0%|| 0/8 [00:00<?, ?it/s]\u001b[A\n",
      "Validating... (loss=2.08635):   0%|| 0/8 [00:00<?, ?it/s]\u001b[A\n",
      "Validating... (loss=1.92940):   0%|| 0/8 [00:00<?, ?it/s]\u001b[A\n",
      "Validating... (loss=2.08844):   0%|| 0/8 [00:00<?, ?it/s]\u001b[A\n",
      "Validating... (loss=2.22263):   0%|| 0/8 [00:00<?, ?it/s]\u001b[A\n",
      "Validating... (loss=2.03330): 100%|| 8/8 [00:00<00:00,  9.07it/s]\n",
      "Training (1473 / 5000 Steps) (loss=2.07836):  38%|| 24/63 [00:03<00:10,  3.84it/s]"
     ]
    },
    {
     "name": "stdout",
     "output_type": "stream",
     "text": [
      "    Valid Accuracy: 0.22656\n"
     ]
    },
    {
     "name": "stderr",
     "output_type": "stream",
     "text": [
      "Training (1512 / 5000 Steps) (loss=2.03188): 100%|| 63/63 [00:07<00:00,  7.93it/s]\n",
      "Training (1536 / 5000 Steps) (loss=2.10913):  37%|| 23/63 [00:03<00:06,  6.51it/s]\n",
      "Validating... (loss=X.X):   0%|| 0/8 [00:00<?, ?it/s]\u001b[A\n",
      "Validating... (loss=2.06944):   0%|| 0/8 [00:00<?, ?it/s]\u001b[A\n",
      "Validating... (loss=2.15895):   0%|| 0/8 [00:00<?, ?it/s]\u001b[A\n",
      "Validating... (loss=2.08396):   0%|| 0/8 [00:00<?, ?it/s]\u001b[A\n",
      "Validating... (loss=2.10202):   0%|| 0/8 [00:00<?, ?it/s]\u001b[A\n",
      "Validating... (loss=1.95467):   0%|| 0/8 [00:00<?, ?it/s]\u001b[A\n",
      "Validating... (loss=2.10798):   0%|| 0/8 [00:01<?, ?it/s]\u001b[A\n",
      "Validating... (loss=2.10798):  75%|| 6/8 [00:01<00:00,  5.97it/s]\u001b[A\n",
      "Validating... (loss=2.22559):  75%|| 6/8 [00:01<00:00,  5.97it/s]\u001b[A\n",
      "Validating... (loss=2.01919): 100%|| 8/8 [00:01<00:00,  6.41it/s]\u001b[A\n",
      "Training (1537 / 5000 Steps) (loss=1.99307):  40%|| 25/63 [00:05<00:15,  2.39it/s]"
     ]
    },
    {
     "name": "stdout",
     "output_type": "stream",
     "text": [
      "    Valid Accuracy: 0.19531\n"
     ]
    },
    {
     "name": "stderr",
     "output_type": "stream",
     "text": [
      "Training (1575 / 5000 Steps) (loss=1.98340): 100%|| 63/63 [00:09<00:00,  6.72it/s]\n",
      "Training (1600 / 5000 Steps) (loss=2.08356):  37%|| 23/63 [00:02<00:03, 11.57it/s]\n",
      "Validating... (loss=X.X):   0%|| 0/8 [00:00<?, ?it/s]\u001b[A\n",
      "Validating... (loss=2.06262):   0%|| 0/8 [00:00<?, ?it/s]\u001b[A\n",
      "Validating... (loss=2.12102):   0%|| 0/8 [00:00<?, ?it/s]\u001b[A\n",
      "Validating... (loss=2.06841):   0%|| 0/8 [00:00<?, ?it/s]\u001b[A\n",
      "Validating... (loss=2.07305):   0%|| 0/8 [00:00<?, ?it/s]\u001b[A\n",
      "Validating... (loss=1.92414):   0%|| 0/8 [00:00<?, ?it/s]\u001b[A\n",
      "Validating... (loss=2.09375):   0%|| 0/8 [00:00<?, ?it/s]\u001b[A\n",
      "Validating... (loss=2.25214):   0%|| 0/8 [00:00<?, ?it/s]\u001b[A\n",
      "Validating... (loss=2.01435): 100%|| 8/8 [00:00<00:00,  9.12it/s]\n",
      "Training (1601 / 5000 Steps) (loss=2.27461):  41%|| 26/63 [00:03<00:07,  4.82it/s]"
     ]
    },
    {
     "name": "stdout",
     "output_type": "stream",
     "text": [
      "    Valid Accuracy: 0.20312\n"
     ]
    },
    {
     "name": "stderr",
     "output_type": "stream",
     "text": [
      "Training (1638 / 5000 Steps) (loss=2.04482): 100%|| 63/63 [00:08<00:00,  7.58it/s]\n",
      "Training (1664 / 5000 Steps) (loss=2.16382):  40%|| 25/63 [00:02<00:03, 11.55it/s]\n",
      "Validating... (loss=X.X):   0%|| 0/8 [00:00<?, ?it/s]\u001b[A\n",
      "Validating... (loss=2.06792):   0%|| 0/8 [00:00<?, ?it/s]\u001b[A\n",
      "Validating... (loss=2.10863):   0%|| 0/8 [00:00<?, ?it/s]\u001b[A\n",
      "Validating... (loss=2.08889):   0%|| 0/8 [00:00<?, ?it/s]\u001b[A\n",
      "Validating... (loss=2.06815):   0%|| 0/8 [00:00<?, ?it/s]\u001b[A\n",
      "Validating... (loss=1.90907):   0%|| 0/8 [00:00<?, ?it/s]\u001b[A\n",
      "Validating... (loss=2.09791):   0%|| 0/8 [00:00<?, ?it/s]\u001b[A\n",
      "Validating... (loss=2.24107):   0%|| 0/8 [00:00<?, ?it/s]\u001b[A\n",
      "Validating... (loss=2.01305): 100%|| 8/8 [00:00<00:00, 14.85it/s]\n",
      "Training (1665 / 5000 Steps) (loss=2.33052):  43%|| 27/63 [00:03<00:06,  5.53it/s]"
     ]
    },
    {
     "name": "stdout",
     "output_type": "stream",
     "text": [
      "    Valid Accuracy: 0.20312\n"
     ]
    },
    {
     "name": "stderr",
     "output_type": "stream",
     "text": [
      "Training (1701 / 5000 Steps) (loss=2.00953): 100%|| 63/63 [00:06<00:00,  9.33it/s]\n",
      "Training (1728 / 5000 Steps) (loss=2.16101):  40%|| 25/63 [00:02<00:03, 11.12it/s]\n",
      "Validating... (loss=X.X):   0%|| 0/8 [00:00<?, ?it/s]\u001b[A\n",
      "Validating... (loss=2.04246):   0%|| 0/8 [00:00<?, ?it/s]\u001b[A\n",
      "Validating... (loss=2.09696):   0%|| 0/8 [00:00<?, ?it/s]\u001b[A\n",
      "Validating... (loss=2.11803):   0%|| 0/8 [00:00<?, ?it/s]\u001b[A\n",
      "Validating... (loss=2.08143):   0%|| 0/8 [00:00<?, ?it/s]\u001b[A\n",
      "Validating... (loss=1.93172):   0%|| 0/8 [00:00<?, ?it/s]\u001b[A\n",
      "Validating... (loss=2.09085):   0%|| 0/8 [00:00<?, ?it/s]\u001b[A\n",
      "Validating... (loss=2.28301):   0%|| 0/8 [00:00<?, ?it/s]\u001b[A\n",
      "Validating... (loss=2.01819): 100%|| 8/8 [00:01<00:00,  7.97it/s]\n",
      "Training (1730 / 5000 Steps) (loss=2.10917):  46%|| 29/63 [00:03<00:06,  5.16it/s]"
     ]
    },
    {
     "name": "stdout",
     "output_type": "stream",
     "text": [
      "    Valid Accuracy: 0.21875\n"
     ]
    },
    {
     "name": "stderr",
     "output_type": "stream",
     "text": [
      "Training (1764 / 5000 Steps) (loss=2.36272): 100%|| 63/63 [00:07<00:00,  8.83it/s]\n",
      "Training (1792 / 5000 Steps) (loss=2.05914):  41%|| 26/63 [00:02<00:03, 11.61it/s]\n",
      "Validating... (loss=X.X):   0%|| 0/8 [00:00<?, ?it/s]\u001b[A\n",
      "Validating... (loss=2.05612):   0%|| 0/8 [00:00<?, ?it/s]\u001b[A\n",
      "Validating... (loss=2.11936):   0%|| 0/8 [00:00<?, ?it/s]\u001b[A\n",
      "Validating... (loss=2.06724):   0%|| 0/8 [00:00<?, ?it/s]\u001b[A\n",
      "Validating... (loss=2.06129):   0%|| 0/8 [00:00<?, ?it/s]\u001b[A\n",
      "Validating... (loss=1.93193):   0%|| 0/8 [00:00<?, ?it/s]\u001b[A\n",
      "Validating... (loss=2.07696):   0%|| 0/8 [00:00<?, ?it/s]\u001b[A\n",
      "Validating... (loss=2.25116):   0%|| 0/8 [00:00<?, ?it/s]\u001b[A\n",
      "Validating... (loss=2.02058): 100%|| 8/8 [00:00<00:00, 15.83it/s]\n",
      "Training (1794 / 5000 Steps) (loss=2.30529):  48%|| 30/63 [00:03<00:04,  7.18it/s]"
     ]
    },
    {
     "name": "stdout",
     "output_type": "stream",
     "text": [
      "    Valid Accuracy: 0.21094\n"
     ]
    },
    {
     "name": "stderr",
     "output_type": "stream",
     "text": [
      "Training (1827 / 5000 Steps) (loss=2.24565): 100%|| 63/63 [00:06<00:00,  9.44it/s]\n",
      "Training (1856 / 5000 Steps) (loss=2.03928):  44%|| 28/63 [00:03<00:04,  8.28it/s]\n",
      "Validating... (loss=X.X):   0%|| 0/8 [00:00<?, ?it/s]\u001b[A\n",
      "Validating... (loss=2.05962):   0%|| 0/8 [00:00<?, ?it/s]\u001b[A\n",
      "Validating... (loss=2.14619):   0%|| 0/8 [00:00<?, ?it/s]\u001b[A\n",
      "Validating... (loss=2.07280):   0%|| 0/8 [00:00<?, ?it/s]\u001b[A\n",
      "Validating... (loss=2.07011):   0%|| 0/8 [00:00<?, ?it/s]\u001b[A\n",
      "Validating... (loss=1.99468):   0%|| 0/8 [00:00<?, ?it/s]\u001b[A\n",
      "Validating... (loss=2.09532):   0%|| 0/8 [00:00<?, ?it/s]\u001b[A\n",
      "Validating... (loss=2.21803):   0%|| 0/8 [00:00<?, ?it/s]\u001b[A\n",
      "Validating... (loss=2.03259): 100%|| 8/8 [00:00<00:00, 12.37it/s]\n",
      "Training (1857 / 5000 Steps) (loss=2.08189):  48%|| 30/63 [00:04<00:07,  4.20it/s]"
     ]
    },
    {
     "name": "stdout",
     "output_type": "stream",
     "text": [
      "    Valid Accuracy: 0.18750\n"
     ]
    },
    {
     "name": "stderr",
     "output_type": "stream",
     "text": [
      "Training (1890 / 5000 Steps) (loss=1.95649): 100%|| 63/63 [00:07<00:00,  8.00it/s]\n",
      "Training (1920 / 5000 Steps) (loss=2.28752):  46%|| 29/63 [00:03<00:02, 11.53it/s]\n",
      "Validating... (loss=X.X):   0%|| 0/8 [00:00<?, ?it/s]\u001b[A\n",
      "Validating... (loss=2.02482):   0%|| 0/8 [00:00<?, ?it/s]\u001b[A\n",
      "Validating... (loss=2.09193):   0%|| 0/8 [00:00<?, ?it/s]\u001b[A\n",
      "Validating... (loss=2.09363):   0%|| 0/8 [00:00<?, ?it/s]\u001b[A\n",
      "Validating... (loss=2.06076):   0%|| 0/8 [00:00<?, ?it/s]\u001b[A\n",
      "Validating... (loss=1.90579):   0%|| 0/8 [00:00<?, ?it/s]\u001b[A\n",
      "Validating... (loss=2.09113):   0%|| 0/8 [00:00<?, ?it/s]\u001b[A\n",
      "Validating... (loss=2.23718):   0%|| 0/8 [00:00<?, ?it/s]\u001b[A\n",
      "Validating... (loss=2.03561): 100%|| 8/8 [00:00<00:00, 10.48it/s]\n",
      "Training (1921 / 5000 Steps) (loss=2.10166):  49%|| 31/63 [00:04<00:06,  4.68it/s]"
     ]
    },
    {
     "name": "stdout",
     "output_type": "stream",
     "text": [
      "    Valid Accuracy: 0.24219\n"
     ]
    },
    {
     "name": "stderr",
     "output_type": "stream",
     "text": [
      "Training (1953 / 5000 Steps) (loss=2.25468): 100%|| 63/63 [00:08<00:00,  7.73it/s]\n",
      "Training (1984 / 5000 Steps) (loss=2.00089):  48%|| 30/63 [00:03<00:03, 10.17it/s]\n",
      "Validating... (loss=X.X):   0%|| 0/8 [00:00<?, ?it/s]\u001b[A\n",
      "Validating... (loss=2.07728):   0%|| 0/8 [00:00<?, ?it/s]\u001b[A\n",
      "Validating... (loss=2.15994):   0%|| 0/8 [00:00<?, ?it/s]\u001b[A\n",
      "Validating... (loss=2.09806):   0%|| 0/8 [00:00<?, ?it/s]\u001b[A\n",
      "Validating... (loss=2.09095):   0%|| 0/8 [00:00<?, ?it/s]\u001b[A\n",
      "Validating... (loss=2.00532):   0%|| 0/8 [00:00<?, ?it/s]\u001b[A\n",
      "Validating... (loss=2.09678):   0%|| 0/8 [00:00<?, ?it/s]\u001b[A\n",
      "Validating... (loss=2.26846):   0%|| 0/8 [00:00<?, ?it/s]\u001b[A\n",
      "Validating... (loss=2.02542):   0%|| 0/8 [00:01<?, ?it/s]\u001b[A\n",
      "Validating... (loss=2.02542): 100%|| 8/8 [00:01<00:00,  7.12it/s]\u001b[A\n",
      "Training (1985 / 5000 Steps) (loss=1.79450):  51%|| 32/63 [00:05<00:09,  3.42it/s]"
     ]
    },
    {
     "name": "stdout",
     "output_type": "stream",
     "text": [
      "    Valid Accuracy: 0.16406\n"
     ]
    },
    {
     "name": "stderr",
     "output_type": "stream",
     "text": [
      "Training (2016 / 5000 Steps) (loss=2.00083): 100%|| 63/63 [00:08<00:00,  7.50it/s]\n",
      "Training (2048 / 5000 Steps) (loss=2.11467):  49%|| 31/63 [00:04<00:04,  7.08it/s]\n",
      "Validating... (loss=X.X):   0%|| 0/8 [00:00<?, ?it/s]\u001b[A\n",
      "Validating... (loss=2.08224):   0%|| 0/8 [00:00<?, ?it/s]\u001b[A\n",
      "Validating... (loss=2.14765):   0%|| 0/8 [00:00<?, ?it/s]\u001b[A\n",
      "Validating... (loss=2.09099):   0%|| 0/8 [00:00<?, ?it/s]\u001b[A\n",
      "Validating... (loss=2.07887):   0%|| 0/8 [00:00<?, ?it/s]\u001b[A\n",
      "Validating... (loss=1.98143):   0%|| 0/8 [00:00<?, ?it/s]\u001b[A\n",
      "Validating... (loss=2.10715):   0%|| 0/8 [00:00<?, ?it/s]\u001b[A\n",
      "Validating... (loss=2.24300):   0%|| 0/8 [00:00<?, ?it/s]\u001b[A\n",
      "Validating... (loss=2.02306): 100%|| 8/8 [00:00<00:00,  8.85it/s]\n",
      "Training (2049 / 5000 Steps) (loss=2.50644):  52%|| 33/63 [00:05<00:09,  3.11it/s]"
     ]
    },
    {
     "name": "stdout",
     "output_type": "stream",
     "text": [
      "    Valid Accuracy: 0.18750\n"
     ]
    },
    {
     "name": "stderr",
     "output_type": "stream",
     "text": [
      "Training (2079 / 5000 Steps) (loss=2.23566): 100%|| 63/63 [00:08<00:00,  7.03it/s]\n",
      "Training (2112 / 5000 Steps) (loss=1.78570):  51%|| 32/63 [00:04<00:04,  6.57it/s]\n",
      "Validating... (loss=X.X):   0%|| 0/8 [00:00<?, ?it/s]\u001b[A\n",
      "Validating... (loss=2.06958):   0%|| 0/8 [00:00<?, ?it/s]\u001b[A\n",
      "Validating... (loss=2.13089):   0%|| 0/8 [00:00<?, ?it/s]\u001b[A\n",
      "Validating... (loss=2.09868):   0%|| 0/8 [00:00<?, ?it/s]\u001b[A\n",
      "Validating... (loss=2.06869):   0%|| 0/8 [00:00<?, ?it/s]\u001b[A\n",
      "Validating... (loss=1.96053):   0%|| 0/8 [00:00<?, ?it/s]\u001b[A\n",
      "Validating... (loss=2.09962):   0%|| 0/8 [00:00<?, ?it/s]\u001b[A\n",
      "Validating... (loss=2.26379):   0%|| 0/8 [00:00<?, ?it/s]\u001b[A\n",
      "Validating... (loss=2.01406): 100%|| 8/8 [00:01<00:00,  7.92it/s]\n",
      "Training (2113 / 5000 Steps) (loss=1.87916):  54%|| 34/63 [00:05<00:10,  2.71it/s]"
     ]
    },
    {
     "name": "stdout",
     "output_type": "stream",
     "text": [
      "    Valid Accuracy: 0.21094\n"
     ]
    },
    {
     "name": "stderr",
     "output_type": "stream",
     "text": [
      "Training (2142 / 5000 Steps) (loss=2.19369): 100%|| 63/63 [00:09<00:00,  6.60it/s]\n",
      "Training (2176 / 5000 Steps) (loss=2.14303):  51%|| 32/63 [00:04<00:02, 11.08it/s]\n",
      "Validating... (loss=X.X):   0%|| 0/8 [00:00<?, ?it/s]\u001b[A\n",
      "Validating... (loss=2.06131):   0%|| 0/8 [00:00<?, ?it/s]\u001b[A\n",
      "Validating... (loss=2.11557):   0%|| 0/8 [00:00<?, ?it/s]\u001b[A\n",
      "Validating... (loss=2.09642):   0%|| 0/8 [00:00<?, ?it/s]\u001b[A\n",
      "Validating... (loss=2.07261):   0%|| 0/8 [00:00<?, ?it/s]\u001b[A\n",
      "Validating... (loss=1.95196):   0%|| 0/8 [00:00<?, ?it/s]\u001b[A\n",
      "Validating... (loss=2.10215):   0%|| 0/8 [00:00<?, ?it/s]\u001b[A\n",
      "Validating... (loss=2.25627):   0%|| 0/8 [00:00<?, ?it/s]\u001b[A\n",
      "Validating... (loss=2.00439): 100%|| 8/8 [00:00<00:00,  9.23it/s]\n",
      "Training (2178 / 5000 Steps) (loss=1.83143):  57%|| 36/63 [00:05<00:04,  5.45it/s]"
     ]
    },
    {
     "name": "stdout",
     "output_type": "stream",
     "text": [
      "    Valid Accuracy: 0.22656\n"
     ]
    },
    {
     "name": "stderr",
     "output_type": "stream",
     "text": [
      "Training (2205 / 5000 Steps) (loss=2.12719): 100%|| 63/63 [00:08<00:00,  7.79it/s]\n",
      "Training (2240 / 5000 Steps) (loss=2.07360):  54%|| 34/63 [00:04<00:02, 11.29it/s]\n",
      "Validating... (loss=X.X):   0%|| 0/8 [00:00<?, ?it/s]\u001b[A\n",
      "Validating... (loss=2.04572):   0%|| 0/8 [00:00<?, ?it/s]\u001b[A\n",
      "Validating... (loss=2.11598):   0%|| 0/8 [00:00<?, ?it/s]\u001b[A\n",
      "Validating... (loss=2.10491):   0%|| 0/8 [00:00<?, ?it/s]\u001b[A\n",
      "Validating... (loss=2.07702):   0%|| 0/8 [00:00<?, ?it/s]\u001b[A\n",
      "Validating... (loss=1.93736):   0%|| 0/8 [00:00<?, ?it/s]\u001b[A\n",
      "Validating... (loss=2.09704):   0%|| 0/8 [00:00<?, ?it/s]\u001b[A\n",
      "Validating... (loss=2.28185):   0%|| 0/8 [00:00<?, ?it/s]\u001b[A\n",
      "Validating... (loss=2.00730): 100%|| 8/8 [00:00<00:00, 13.11it/s]\n",
      "Training (2242 / 5000 Steps) (loss=2.23815):  57%|| 36/63 [00:04<00:04,  5.41it/s]"
     ]
    },
    {
     "name": "stdout",
     "output_type": "stream",
     "text": [
      "    Valid Accuracy: 0.20312\n"
     ]
    },
    {
     "name": "stderr",
     "output_type": "stream",
     "text": [
      "Training (2268 / 5000 Steps) (loss=2.08206): 100%|| 63/63 [00:07<00:00,  8.84it/s]\n",
      "Training (2304 / 5000 Steps) (loss=2.01807):  56%|| 35/63 [00:04<00:03,  8.38it/s]\n",
      "Validating... (loss=X.X):   0%|| 0/8 [00:00<?, ?it/s]\u001b[A\n",
      "Validating... (loss=2.02793):   0%|| 0/8 [00:00<?, ?it/s]\u001b[A\n",
      "Validating... (loss=2.09154):   0%|| 0/8 [00:00<?, ?it/s]\u001b[A\n",
      "Validating... (loss=2.10776):   0%|| 0/8 [00:00<?, ?it/s]\u001b[A\n",
      "Validating... (loss=2.08595):   0%|| 0/8 [00:00<?, ?it/s]\u001b[A\n",
      "Validating... (loss=1.92577):   0%|| 0/8 [00:00<?, ?it/s]\u001b[A\n",
      "Validating... (loss=2.08698):   0%|| 0/8 [00:00<?, ?it/s]\u001b[A\n",
      "Validating... (loss=2.25958):   0%|| 0/8 [00:00<?, ?it/s]\u001b[A\n",
      "Validating... (loss=2.01050): 100%|| 8/8 [00:01<00:00,  7.54it/s]\n",
      "Training (2305 / 5000 Steps) (loss=2.14973):  59%|| 37/63 [00:05<00:08,  3.15it/s]"
     ]
    },
    {
     "name": "stdout",
     "output_type": "stream",
     "text": [
      "    Valid Accuracy: 0.20312\n"
     ]
    },
    {
     "name": "stderr",
     "output_type": "stream",
     "text": [
      "Training (2331 / 5000 Steps) (loss=2.17261): 100%|| 63/63 [00:09<00:00,  6.60it/s]\n",
      "Training (2368 / 5000 Steps) (loss=2.14234):  57%|| 36/63 [00:05<00:04,  6.29it/s]\n",
      "Validating... (loss=X.X):   0%|| 0/8 [00:00<?, ?it/s]\u001b[A\n",
      "Validating... (loss=2.03906):   0%|| 0/8 [00:00<?, ?it/s]\u001b[A\n",
      "Validating... (loss=2.11217):   0%|| 0/8 [00:00<?, ?it/s]\u001b[A\n",
      "Validating... (loss=2.12410):   0%|| 0/8 [00:00<?, ?it/s]\u001b[A\n",
      "Validating... (loss=2.12990):   0%|| 0/8 [00:00<?, ?it/s]\u001b[A\n",
      "Validating... (loss=1.96773):   0%|| 0/8 [00:00<?, ?it/s]\u001b[A\n",
      "Validating... (loss=2.08735):   0%|| 0/8 [00:00<?, ?it/s]\u001b[A\n",
      "Validating... (loss=2.24868):   0%|| 0/8 [00:00<?, ?it/s]\u001b[A\n",
      "Validating... (loss=2.00905):   0%|| 0/8 [00:01<?, ?it/s]\u001b[A\n",
      "Validating... (loss=2.00905): 100%|| 8/8 [00:01<00:00,  7.23it/s]\u001b[A\n",
      "Training (2369 / 5000 Steps) (loss=1.94416):  60%|| 38/63 [00:06<00:09,  2.53it/s]"
     ]
    },
    {
     "name": "stdout",
     "output_type": "stream",
     "text": [
      "    Valid Accuracy: 0.17188\n"
     ]
    },
    {
     "name": "stderr",
     "output_type": "stream",
     "text": [
      "Training (2394 / 5000 Steps) (loss=2.15440): 100%|| 63/63 [00:08<00:00,  7.05it/s]\n",
      "Training (2432 / 5000 Steps) (loss=2.01085):  59%|| 37/63 [00:04<00:04,  6.50it/s]\n",
      "Validating... (loss=X.X):   0%|| 0/8 [00:00<?, ?it/s]\u001b[A\n",
      "Validating... (loss=2.03882):   0%|| 0/8 [00:00<?, ?it/s]\u001b[A\n",
      "Validating... (loss=2.11158):   0%|| 0/8 [00:00<?, ?it/s]\u001b[A\n",
      "Validating... (loss=2.09541):   0%|| 0/8 [00:00<?, ?it/s]\u001b[A\n",
      "Validating... (loss=2.09920):   0%|| 0/8 [00:00<?, ?it/s]\u001b[A\n",
      "Validating... (loss=1.93652):   0%|| 0/8 [00:00<?, ?it/s]\u001b[A\n",
      "Validating... (loss=2.09182):   0%|| 0/8 [00:00<?, ?it/s]\u001b[A\n",
      "Validating... (loss=2.25359):   0%|| 0/8 [00:00<?, ?it/s]\u001b[A\n",
      "Validating... (loss=2.00223): 100%|| 8/8 [00:00<00:00,  8.95it/s]\n",
      "Training (2433 / 5000 Steps) (loss=1.94544):  62%|| 39/63 [00:05<00:07,  3.01it/s]"
     ]
    },
    {
     "name": "stdout",
     "output_type": "stream",
     "text": [
      "    Valid Accuracy: 0.17969\n"
     ]
    },
    {
     "name": "stderr",
     "output_type": "stream",
     "text": [
      "Training (2457 / 5000 Steps) (loss=1.96633): 100%|| 63/63 [00:08<00:00,  7.01it/s]\n",
      "Training (2496 / 5000 Steps) (loss=2.09184):  60%|| 38/63 [00:05<00:03,  6.40it/s]\n",
      "Validating... (loss=X.X):   0%|| 0/8 [00:00<?, ?it/s]\u001b[A\n",
      "Validating... (loss=2.01037):   0%|| 0/8 [00:00<?, ?it/s]\u001b[A\n",
      "Validating... (loss=2.10425):   0%|| 0/8 [00:00<?, ?it/s]\u001b[A\n",
      "Validating... (loss=2.08661):   0%|| 0/8 [00:00<?, ?it/s]\u001b[A\n",
      "Validating... (loss=2.08346):   0%|| 0/8 [00:00<?, ?it/s]\u001b[A\n",
      "Validating... (loss=1.88573):   0%|| 0/8 [00:00<?, ?it/s]\u001b[A\n",
      "Validating... (loss=2.08129):   0%|| 0/8 [00:00<?, ?it/s]\u001b[A\n",
      "Validating... (loss=2.26998):   0%|| 0/8 [00:00<?, ?it/s]\u001b[A\n",
      "Validating... (loss=2.01853): 100%|| 8/8 [00:01<00:00,  7.58it/s]\n",
      "Training (2497 / 5000 Steps) (loss=1.96035):  63%|| 40/63 [00:06<00:08,  2.66it/s]"
     ]
    },
    {
     "name": "stdout",
     "output_type": "stream",
     "text": [
      "    Valid Accuracy: 0.20312\n"
     ]
    },
    {
     "name": "stderr",
     "output_type": "stream",
     "text": [
      "Training (2520 / 5000 Steps) (loss=2.03772): 100%|| 63/63 [00:08<00:00,  7.11it/s]\n",
      "Training (2560 / 5000 Steps) (loss=2.07446):  62%|| 39/63 [00:04<00:02, 11.67it/s]\n",
      "Validating... (loss=X.X):   0%|| 0/8 [00:00<?, ?it/s]\u001b[A\n",
      "Validating... (loss=2.06746):   0%|| 0/8 [00:00<?, ?it/s]\u001b[A\n",
      "Validating... (loss=2.17013):   0%|| 0/8 [00:00<?, ?it/s]\u001b[A\n",
      "Validating... (loss=2.10022):   0%|| 0/8 [00:00<?, ?it/s]\u001b[A\n",
      "Validating... (loss=2.09160):   0%|| 0/8 [00:00<?, ?it/s]\u001b[A\n",
      "Validating... (loss=1.98561):   0%|| 0/8 [00:00<?, ?it/s]\u001b[A\n",
      "Validating... (loss=2.10051):   0%|| 0/8 [00:00<?, ?it/s]\u001b[A\n",
      "Validating... (loss=2.28389):   0%|| 0/8 [00:00<?, ?it/s]\u001b[A\n",
      "Validating... (loss=2.00630): 100%|| 8/8 [00:00<00:00, 10.77it/s]\n",
      "Training (2561 / 5000 Steps) (loss=1.96911):  65%|| 41/63 [00:05<00:04,  4.76it/s]"
     ]
    },
    {
     "name": "stdout",
     "output_type": "stream",
     "text": [
      "    Valid Accuracy: 0.18750\n"
     ]
    },
    {
     "name": "stderr",
     "output_type": "stream",
     "text": [
      "Training (2583 / 5000 Steps) (loss=2.17126): 100%|| 63/63 [00:08<00:00,  7.50it/s]\n",
      "Training (2624 / 5000 Steps) (loss=2.10446):  63%|| 40/63 [00:04<00:01, 11.66it/s]\n",
      "Validating... (loss=X.X):   0%|| 0/8 [00:00<?, ?it/s]\u001b[A\n",
      "Validating... (loss=2.03062):   0%|| 0/8 [00:00<?, ?it/s]\u001b[A\n",
      "Validating... (loss=2.14048):   0%|| 0/8 [00:00<?, ?it/s]\u001b[A\n",
      "Validating... (loss=2.12114):   0%|| 0/8 [00:00<?, ?it/s]\u001b[A\n",
      "Validating... (loss=2.09993):   0%|| 0/8 [00:00<?, ?it/s]\u001b[A\n",
      "Validating... (loss=1.92600):   0%|| 0/8 [00:00<?, ?it/s]\u001b[A\n",
      "Validating... (loss=2.09508):   0%|| 0/8 [00:00<?, ?it/s]\u001b[A\n",
      "Validating... (loss=2.24590):   0%|| 0/8 [00:00<?, ?it/s]\u001b[A\n",
      "Validating... (loss=2.03111): 100%|| 8/8 [00:00<00:00, 15.88it/s]\n",
      "Training (2625 / 5000 Steps) (loss=1.99028):  67%|| 42/63 [00:05<00:03,  5.86it/s]"
     ]
    },
    {
     "name": "stdout",
     "output_type": "stream",
     "text": [
      "    Valid Accuracy: 0.17188\n"
     ]
    },
    {
     "name": "stderr",
     "output_type": "stream",
     "text": [
      "Training (2646 / 5000 Steps) (loss=2.42578): 100%|| 63/63 [00:07<00:00,  8.29it/s]\n",
      "Training (2688 / 5000 Steps) (loss=2.30495):  65%|| 41/63 [00:04<00:02,  9.40it/s]\n",
      "Validating... (loss=X.X):   0%|| 0/8 [00:00<?, ?it/s]\u001b[A\n",
      "Validating... (loss=2.01757):   0%|| 0/8 [00:00<?, ?it/s]\u001b[A\n",
      "Validating... (loss=2.12102):   0%|| 0/8 [00:00<?, ?it/s]\u001b[A\n",
      "Validating... (loss=2.11126):   0%|| 0/8 [00:00<?, ?it/s]\u001b[A\n",
      "Validating... (loss=2.09696):   0%|| 0/8 [00:00<?, ?it/s]\u001b[A\n",
      "Validating... (loss=1.91316):   0%|| 0/8 [00:00<?, ?it/s]\u001b[A\n",
      "Validating... (loss=2.09809):   0%|| 0/8 [00:00<?, ?it/s]\u001b[A\n",
      "Validating... (loss=2.23856):   0%|| 0/8 [00:00<?, ?it/s]\u001b[A\n",
      "Validating... (loss=2.02103): 100%|| 8/8 [00:00<00:00,  8.64it/s]\n",
      "Training (2689 / 5000 Steps) (loss=2.25655):  68%|| 43/63 [00:05<00:04,  4.13it/s]"
     ]
    },
    {
     "name": "stdout",
     "output_type": "stream",
     "text": [
      "    Valid Accuracy: 0.17969\n"
     ]
    },
    {
     "name": "stderr",
     "output_type": "stream",
     "text": [
      "Training (2709 / 5000 Steps) (loss=1.84154): 100%|| 63/63 [00:07<00:00,  7.92it/s]\n",
      "Training (2752 / 5000 Steps) (loss=2.20803):  65%|| 41/63 [00:05<00:02, 10.63it/s]\n",
      "Validating... (loss=X.X):   0%|| 0/8 [00:00<?, ?it/s]\u001b[A\n",
      "Validating... (loss=2.01007):   0%|| 0/8 [00:00<?, ?it/s]\u001b[A\n",
      "Validating... (loss=2.10229):   0%|| 0/8 [00:00<?, ?it/s]\u001b[A\n",
      "Validating... (loss=2.10606):   0%|| 0/8 [00:00<?, ?it/s]\u001b[A\n",
      "Validating... (loss=2.09309):   0%|| 0/8 [00:00<?, ?it/s]\u001b[A\n",
      "Validating... (loss=1.91217):   0%|| 0/8 [00:00<?, ?it/s]\u001b[A\n",
      "Validating... (loss=2.09312):   0%|| 0/8 [00:00<?, ?it/s]\u001b[A\n",
      "Validating... (loss=2.24213):   0%|| 0/8 [00:00<?, ?it/s]\u001b[A\n",
      "Validating... (loss=2.03198): 100%|| 8/8 [00:00<00:00,  8.74it/s]\n",
      "Training (2753 / 5000 Steps) (loss=2.26690):  70%|| 44/63 [00:06<00:04,  4.40it/s]"
     ]
    },
    {
     "name": "stdout",
     "output_type": "stream",
     "text": [
      "    Valid Accuracy: 0.15625\n"
     ]
    },
    {
     "name": "stderr",
     "output_type": "stream",
     "text": [
      "Training (2772 / 5000 Steps) (loss=2.00110): 100%|| 63/63 [00:08<00:00,  7.49it/s]\n",
      "Training (2816 / 5000 Steps) (loss=1.86155):  68%|| 43/63 [00:04<00:02,  8.79it/s]\n",
      "Validating... (loss=X.X):   0%|| 0/8 [00:00<?, ?it/s]\u001b[A\n",
      "Validating... (loss=2.02067):   0%|| 0/8 [00:00<?, ?it/s]\u001b[A\n",
      "Validating... (loss=2.13219):   0%|| 0/8 [00:00<?, ?it/s]\u001b[A\n",
      "Validating... (loss=2.10863):   0%|| 0/8 [00:00<?, ?it/s]\u001b[A\n",
      "Validating... (loss=2.08989):   0%|| 0/8 [00:00<?, ?it/s]\u001b[A\n",
      "Validating... (loss=1.92947):   0%|| 0/8 [00:00<?, ?it/s]\u001b[A\n",
      "Validating... (loss=2.10350):   0%|| 0/8 [00:00<?, ?it/s]\u001b[A\n",
      "Validating... (loss=2.23830):   0%|| 0/8 [00:00<?, ?it/s]\u001b[A\n",
      "Validating... (loss=2.03111): 100%|| 8/8 [00:01<00:00,  7.45it/s]\n",
      "Training (2817 / 5000 Steps) (loss=2.16221):  71%|| 45/63 [00:06<00:05,  3.38it/s]"
     ]
    },
    {
     "name": "stdout",
     "output_type": "stream",
     "text": [
      "    Valid Accuracy: 0.16406\n"
     ]
    },
    {
     "name": "stderr",
     "output_type": "stream",
     "text": [
      "Training (2835 / 5000 Steps) (loss=2.35167): 100%|| 63/63 [00:07<00:00,  8.03it/s]\n",
      "Training (2880 / 5000 Steps) (loss=2.09522):  68%|| 43/63 [00:05<00:02,  9.65it/s]\n",
      "Validating... (loss=X.X):   0%|| 0/8 [00:00<?, ?it/s]\u001b[A\n",
      "Validating... (loss=1.99823):   0%|| 0/8 [00:00<?, ?it/s]\u001b[A\n",
      "Validating... (loss=2.11209):   0%|| 0/8 [00:00<?, ?it/s]\u001b[A\n",
      "Validating... (loss=2.12111):   0%|| 0/8 [00:00<?, ?it/s]\u001b[A\n",
      "Validating... (loss=2.08582):   0%|| 0/8 [00:00<?, ?it/s]\u001b[A\n",
      "Validating... (loss=1.88849):   0%|| 0/8 [00:00<?, ?it/s]\u001b[A\n",
      "Validating... (loss=2.10067):   0%|| 0/8 [00:00<?, ?it/s]\u001b[A\n",
      "Validating... (loss=2.24110):   0%|| 0/8 [00:00<?, ?it/s]\u001b[A\n",
      "Validating... (loss=2.05358): 100%|| 8/8 [00:00<00:00,  8.24it/s]\n",
      "Training (2881 / 5000 Steps) (loss=2.12889):  73%|| 46/63 [00:06<00:03,  4.40it/s]"
     ]
    },
    {
     "name": "stdout",
     "output_type": "stream",
     "text": [
      "    Valid Accuracy: 0.17188\n"
     ]
    },
    {
     "name": "stderr",
     "output_type": "stream",
     "text": [
      "Training (2898 / 5000 Steps) (loss=2.37335): 100%|| 63/63 [00:07<00:00,  8.05it/s]\n",
      "Training (2944 / 5000 Steps) (loss=1.97193):  70%|| 44/63 [00:05<00:02,  9.48it/s]\n",
      "Validating... (loss=X.X):   0%|| 0/8 [00:00<?, ?it/s]\u001b[A\n",
      "Validating... (loss=2.02017):   0%|| 0/8 [00:00<?, ?it/s]\u001b[A\n",
      "Validating... (loss=2.10078):   0%|| 0/8 [00:00<?, ?it/s]\u001b[A\n",
      "Validating... (loss=2.09840):   0%|| 0/8 [00:00<?, ?it/s]\u001b[A\n",
      "Validating... (loss=2.07637):   0%|| 0/8 [00:00<?, ?it/s]\u001b[A\n",
      "Validating... (loss=1.88190):   0%|| 0/8 [00:00<?, ?it/s]\u001b[A\n",
      "Validating... (loss=2.10792):   0%|| 0/8 [00:00<?, ?it/s]\u001b[A\n",
      "Validating... (loss=2.25201):   0%|| 0/8 [00:00<?, ?it/s]\u001b[A\n",
      "Validating... (loss=2.04589): 100%|| 8/8 [00:00<00:00,  8.29it/s]\n",
      "Training (2945 / 5000 Steps) (loss=2.06891):  75%|| 47/63 [00:06<00:03,  4.39it/s]"
     ]
    },
    {
     "name": "stdout",
     "output_type": "stream",
     "text": [
      "    Valid Accuracy: 0.17188\n"
     ]
    },
    {
     "name": "stderr",
     "output_type": "stream",
     "text": [
      "Training (2961 / 5000 Steps) (loss=2.27169): 100%|| 63/63 [00:07<00:00,  8.09it/s]\n",
      "Training (3008 / 5000 Steps) (loss=2.14224):  71%|| 45/63 [00:05<00:01, 10.08it/s]\n",
      "Validating... (loss=X.X):   0%|| 0/8 [00:00<?, ?it/s]\u001b[A\n",
      "Validating... (loss=2.04626):   0%|| 0/8 [00:00<?, ?it/s]\u001b[A\n",
      "Validating... (loss=2.14032):   0%|| 0/8 [00:00<?, ?it/s]\u001b[A\n",
      "Validating... (loss=2.10007):   0%|| 0/8 [00:00<?, ?it/s]\u001b[A\n",
      "Validating... (loss=2.09346):   0%|| 0/8 [00:00<?, ?it/s]\u001b[A\n",
      "Validating... (loss=1.94566):   0%|| 0/8 [00:00<?, ?it/s]\u001b[A\n",
      "Validating... (loss=2.10291):   0%|| 0/8 [00:00<?, ?it/s]\u001b[A\n",
      "Validating... (loss=2.26417):   0%|| 0/8 [00:00<?, ?it/s]\u001b[A\n",
      "Validating... (loss=2.03416):   0%|| 0/8 [00:01<?, ?it/s]\u001b[A\n",
      "Validating... (loss=2.03416): 100%|| 8/8 [00:01<00:00,  7.09it/s]\u001b[A\n",
      "Training (3009 / 5000 Steps) (loss=2.29063):  76%|| 48/63 [00:06<00:03,  3.88it/s]"
     ]
    },
    {
     "name": "stdout",
     "output_type": "stream",
     "text": [
      "    Valid Accuracy: 0.16406\n"
     ]
    },
    {
     "name": "stderr",
     "output_type": "stream",
     "text": [
      "Training (3024 / 5000 Steps) (loss=1.66571): 100%|| 63/63 [00:08<00:00,  7.34it/s]\n",
      "Training (3072 / 5000 Steps) (loss=2.11591):  75%|| 47/63 [00:04<00:01, 11.68it/s]\n",
      "Validating... (loss=X.X):   0%|| 0/8 [00:00<?, ?it/s]\u001b[A\n",
      "Validating... (loss=2.02355):   0%|| 0/8 [00:00<?, ?it/s]\u001b[A\n",
      "Validating... (loss=2.11425):   0%|| 0/8 [00:00<?, ?it/s]\u001b[A\n",
      "Validating... (loss=2.10017):   0%|| 0/8 [00:00<?, ?it/s]\u001b[A\n",
      "Validating... (loss=2.08081):   0%|| 0/8 [00:00<?, ?it/s]\u001b[A\n",
      "Validating... (loss=1.91808):   0%|| 0/8 [00:00<?, ?it/s]\u001b[A\n",
      "Validating... (loss=2.11337):   0%|| 0/8 [00:00<?, ?it/s]\u001b[A\n",
      "Validating... (loss=2.24239):   0%|| 0/8 [00:00<?, ?it/s]\u001b[A\n",
      "Validating... (loss=2.03384): 100%|| 8/8 [00:00<00:00, 16.03it/s]\n",
      "Training (3073 / 5000 Steps) (loss=2.28186):  78%|| 49/63 [00:05<00:02,  5.90it/s]"
     ]
    },
    {
     "name": "stdout",
     "output_type": "stream",
     "text": [
      "    Valid Accuracy: 0.16406\n"
     ]
    },
    {
     "name": "stderr",
     "output_type": "stream",
     "text": [
      "Training (3087 / 5000 Steps) (loss=2.16869): 100%|| 63/63 [00:06<00:00,  9.53it/s]\n",
      "Training (3136 / 5000 Steps) (loss=2.03226):  76%|| 48/63 [00:05<00:02,  6.53it/s]\n",
      "Validating... (loss=X.X):   0%|| 0/8 [00:00<?, ?it/s]\u001b[A\n",
      "Validating... (loss=2.01151):   0%|| 0/8 [00:00<?, ?it/s]\u001b[A\n",
      "Validating... (loss=2.10681):   0%|| 0/8 [00:00<?, ?it/s]\u001b[A\n",
      "Validating... (loss=2.11474):   0%|| 0/8 [00:00<?, ?it/s]\u001b[A\n",
      "Validating... (loss=2.08227):   0%|| 0/8 [00:00<?, ?it/s]\u001b[A\n",
      "Validating... (loss=1.91934):   0%|| 0/8 [00:00<?, ?it/s]\u001b[A\n",
      "Validating... (loss=2.11342):   0%|| 0/8 [00:00<?, ?it/s]\u001b[A\n",
      "Validating... (loss=2.23619):   0%|| 0/8 [00:00<?, ?it/s]\u001b[A\n",
      "Validating... (loss=2.03756): 100%|| 8/8 [00:00<00:00,  8.86it/s]\n",
      "Training (3137 / 5000 Steps) (loss=1.99231):  79%|| 50/63 [00:06<00:04,  2.89it/s]"
     ]
    },
    {
     "name": "stdout",
     "output_type": "stream",
     "text": [
      "    Valid Accuracy: 0.18750\n"
     ]
    },
    {
     "name": "stderr",
     "output_type": "stream",
     "text": [
      "Training (3150 / 5000 Steps) (loss=1.98836): 100%|| 63/63 [00:08<00:00,  7.77it/s]\n",
      "Training (3200 / 5000 Steps) (loss=2.11077):  78%|| 49/63 [00:05<00:01, 10.05it/s]\n",
      "Validating... (loss=X.X):   0%|| 0/8 [00:00<?, ?it/s]\u001b[A\n",
      "Validating... (loss=2.04238):   0%|| 0/8 [00:00<?, ?it/s]\u001b[A\n",
      "Validating... (loss=2.14434):   0%|| 0/8 [00:00<?, ?it/s]\u001b[A\n",
      "Validating... (loss=2.11102):   0%|| 0/8 [00:00<?, ?it/s]\u001b[A\n",
      "Validating... (loss=2.08267):   0%|| 0/8 [00:00<?, ?it/s]\u001b[A\n",
      "Validating... (loss=1.95907):   0%|| 0/8 [00:00<?, ?it/s]\u001b[A\n",
      "Validating... (loss=2.12337):   0%|| 0/8 [00:00<?, ?it/s]\u001b[A\n",
      "Validating... (loss=2.24939):   0%|| 0/8 [00:00<?, ?it/s]\u001b[A\n",
      "Validating... (loss=2.02604): 100%|| 8/8 [00:00<00:00, 12.95it/s]\n",
      "Training (3202 / 5000 Steps) (loss=1.90604):  83%|| 52/63 [00:06<00:01,  5.75it/s]"
     ]
    },
    {
     "name": "stdout",
     "output_type": "stream",
     "text": [
      "    Valid Accuracy: 0.16406\n"
     ]
    },
    {
     "name": "stderr",
     "output_type": "stream",
     "text": [
      "Training (3213 / 5000 Steps) (loss=1.84560): 100%|| 63/63 [00:07<00:00,  8.52it/s]\n",
      "Training (3264 / 5000 Steps) (loss=2.12796):  79%|| 50/63 [00:04<00:01, 11.68it/s]\n",
      "Validating... (loss=X.X):   0%|| 0/8 [00:00<?, ?it/s]\u001b[A\n",
      "Validating... (loss=2.04715):   0%|| 0/8 [00:00<?, ?it/s]\u001b[A\n",
      "Validating... (loss=2.14707):   0%|| 0/8 [00:00<?, ?it/s]\u001b[A\n",
      "Validating... (loss=2.10185):   0%|| 0/8 [00:00<?, ?it/s]\u001b[A\n",
      "Validating... (loss=2.07423):   0%|| 0/8 [00:00<?, ?it/s]\u001b[A\n",
      "Validating... (loss=1.94936):   0%|| 0/8 [00:00<?, ?it/s]\u001b[A\n",
      "Validating... (loss=2.12158):   0%|| 0/8 [00:00<?, ?it/s]\u001b[A\n",
      "Validating... (loss=2.25316):   0%|| 0/8 [00:01<?, ?it/s]\u001b[A\n",
      "Validating... (loss=2.25316):  88%|| 7/8 [00:01<00:00,  6.69it/s]\u001b[A\n",
      "Validating... (loss=2.02233): 100%|| 8/8 [00:01<00:00,  6.45it/s]\u001b[A\n",
      "Training (3265 / 5000 Steps) (loss=2.18572):  83%|| 52/63 [00:06<00:03,  3.61it/s]"
     ]
    },
    {
     "name": "stdout",
     "output_type": "stream",
     "text": [
      "    Valid Accuracy: 0.18750\n"
     ]
    },
    {
     "name": "stderr",
     "output_type": "stream",
     "text": [
      "Training (3276 / 5000 Steps) (loss=1.90911): 100%|| 63/63 [00:07<00:00,  8.04it/s]\n",
      "Training (3328 / 5000 Steps) (loss=2.19054):  81%|| 51/63 [00:05<00:01, 11.66it/s]\n",
      "Validating... (loss=X.X):   0%|| 0/8 [00:00<?, ?it/s]\u001b[A\n",
      "Validating... (loss=2.04005):   0%|| 0/8 [00:00<?, ?it/s]\u001b[A\n",
      "Validating... (loss=2.13007):   0%|| 0/8 [00:00<?, ?it/s]\u001b[A\n",
      "Validating... (loss=2.07500):   0%|| 0/8 [00:00<?, ?it/s]\u001b[A\n",
      "Validating... (loss=2.06158):   0%|| 0/8 [00:00<?, ?it/s]\u001b[A\n",
      "Validating... (loss=1.92828):   0%|| 0/8 [00:00<?, ?it/s]\u001b[A\n",
      "Validating... (loss=2.13189):   0%|| 0/8 [00:00<?, ?it/s]\u001b[A\n",
      "Validating... (loss=2.23201):   0%|| 0/8 [00:00<?, ?it/s]\u001b[A\n",
      "Validating... (loss=2.01521): 100%|| 8/8 [00:00<00:00, 11.63it/s]\n",
      "Training (3329 / 5000 Steps) (loss=2.10722):  84%|| 53/63 [00:06<00:01,  5.14it/s]"
     ]
    },
    {
     "name": "stdout",
     "output_type": "stream",
     "text": [
      "    Valid Accuracy: 0.19531\n"
     ]
    },
    {
     "name": "stderr",
     "output_type": "stream",
     "text": [
      "Training (3339 / 5000 Steps) (loss=2.19864): 100%|| 63/63 [00:07<00:00,  8.27it/s]\n",
      "Training (3392 / 5000 Steps) (loss=2.25756):  83%|| 52/63 [00:07<00:01, 10.05it/s]\n",
      "Validating... (loss=X.X):   0%|| 0/8 [00:00<?, ?it/s]\u001b[A\n",
      "Validating... (loss=2.04743):   0%|| 0/8 [00:00<?, ?it/s]\u001b[A\n",
      "Validating... (loss=2.13971):   0%|| 0/8 [00:00<?, ?it/s]\u001b[A\n",
      "Validating... (loss=2.07094):   0%|| 0/8 [00:00<?, ?it/s]\u001b[A\n",
      "Validating... (loss=2.06381):   0%|| 0/8 [00:00<?, ?it/s]\u001b[A\n",
      "Validating... (loss=1.93680):   0%|| 0/8 [00:00<?, ?it/s]\u001b[A\n",
      "Validating... (loss=2.12761):   0%|| 0/8 [00:00<?, ?it/s]\u001b[A\n",
      "Validating... (loss=2.23400):   0%|| 0/8 [00:00<?, ?it/s]\u001b[A\n",
      "Validating... (loss=2.01415): 100%|| 8/8 [00:00<00:00,  8.77it/s]\n",
      "Training (3393 / 5000 Steps) (loss=1.92475):  86%|| 54/63 [00:08<00:02,  3.97it/s]"
     ]
    },
    {
     "name": "stdout",
     "output_type": "stream",
     "text": [
      "    Valid Accuracy: 0.18750\n"
     ]
    },
    {
     "name": "stderr",
     "output_type": "stream",
     "text": [
      "Training (3402 / 5000 Steps) (loss=1.93455): 100%|| 63/63 [00:09<00:00,  6.82it/s]\n",
      "Training (3456 / 5000 Steps) (loss=2.28298):  84%|| 53/63 [00:05<00:00, 11.47it/s]\n",
      "Validating... (loss=X.X):   0%|| 0/8 [00:00<?, ?it/s]\u001b[A\n",
      "Validating... (loss=2.03767):   0%|| 0/8 [00:00<?, ?it/s]\u001b[A\n",
      "Validating... (loss=2.12954):   0%|| 0/8 [00:00<?, ?it/s]\u001b[A\n",
      "Validating... (loss=2.08807):   0%|| 0/8 [00:00<?, ?it/s]\u001b[A\n",
      "Validating... (loss=2.06312):   0%|| 0/8 [00:00<?, ?it/s]\u001b[A\n",
      "Validating... (loss=1.94747):   0%|| 0/8 [00:00<?, ?it/s]\u001b[A\n",
      "Validating... (loss=2.12600):   0%|| 0/8 [00:00<?, ?it/s]\u001b[A\n",
      "Validating... (loss=2.22897):   0%|| 0/8 [00:00<?, ?it/s]\u001b[A\n",
      "Validating... (loss=2.01211): 100%|| 8/8 [00:00<00:00, 11.54it/s]\n",
      "Training (3457 / 5000 Steps) (loss=1.95528):  87%|| 55/63 [00:06<00:01,  4.89it/s]"
     ]
    },
    {
     "name": "stdout",
     "output_type": "stream",
     "text": [
      "    Valid Accuracy: 0.18750\n"
     ]
    },
    {
     "name": "stderr",
     "output_type": "stream",
     "text": [
      "Training (3465 / 5000 Steps) (loss=1.71455): 100%|| 63/63 [00:07<00:00,  8.06it/s]\n",
      "Training (3520 / 5000 Steps) (loss=2.37453):  86%|| 54/63 [00:06<00:00,  9.74it/s]\n",
      "Validating... (loss=X.X):   0%|| 0/8 [00:00<?, ?it/s]\u001b[A\n",
      "Validating... (loss=2.04092):   0%|| 0/8 [00:00<?, ?it/s]\u001b[A\n",
      "Validating... (loss=2.13097):   0%|| 0/8 [00:00<?, ?it/s]\u001b[A\n",
      "Validating... (loss=2.07987):   0%|| 0/8 [00:00<?, ?it/s]\u001b[A\n",
      "Validating... (loss=2.06396):   0%|| 0/8 [00:00<?, ?it/s]\u001b[A\n",
      "Validating... (loss=1.94577):   0%|| 0/8 [00:00<?, ?it/s]\u001b[A\n",
      "Validating... (loss=2.12174):   0%|| 0/8 [00:00<?, ?it/s]\u001b[A\n",
      "Validating... (loss=2.22749):   0%|| 0/8 [00:00<?, ?it/s]\u001b[A\n",
      "Validating... (loss=2.00996): 100%|| 8/8 [00:00<00:00,  9.08it/s]\n",
      "Training (3521 / 5000 Steps) (loss=2.07093):  89%|| 56/63 [00:07<00:01,  3.95it/s]"
     ]
    },
    {
     "name": "stdout",
     "output_type": "stream",
     "text": [
      "    Valid Accuracy: 0.18750\n"
     ]
    },
    {
     "name": "stderr",
     "output_type": "stream",
     "text": [
      "Training (3528 / 5000 Steps) (loss=1.82619): 100%|| 63/63 [00:07<00:00,  8.00it/s]\n",
      "Training (3584 / 5000 Steps) (loss=2.33614):  87%|| 55/63 [00:07<00:00, 10.38it/s]\n",
      "Validating... (loss=X.X):   0%|| 0/8 [00:00<?, ?it/s]\u001b[A\n",
      "Validating... (loss=2.03876):   0%|| 0/8 [00:00<?, ?it/s]\u001b[A\n",
      "Validating... (loss=2.12832):   0%|| 0/8 [00:00<?, ?it/s]\u001b[A\n",
      "Validating... (loss=2.09359):   0%|| 0/8 [00:00<?, ?it/s]\u001b[A\n",
      "Validating... (loss=2.06985):   0%|| 0/8 [00:00<?, ?it/s]\u001b[A\n",
      "Validating... (loss=1.93295):   0%|| 0/8 [00:00<?, ?it/s]\u001b[A\n",
      "Validating... (loss=2.11145):   0%|| 0/8 [00:00<?, ?it/s]\u001b[A\n",
      "Validating... (loss=2.23043):   0%|| 0/8 [00:00<?, ?it/s]\u001b[A\n",
      "Validating... (loss=2.01915): 100%|| 8/8 [00:01<00:00,  7.75it/s]\n",
      "Training (3585 / 5000 Steps) (loss=1.90464):  90%|| 57/63 [00:08<00:01,  3.56it/s]"
     ]
    },
    {
     "name": "stdout",
     "output_type": "stream",
     "text": [
      "    Valid Accuracy: 0.18750\n"
     ]
    },
    {
     "name": "stderr",
     "output_type": "stream",
     "text": [
      "Training (3591 / 5000 Steps) (loss=1.97263): 100%|| 63/63 [00:09<00:00,  6.54it/s]\n",
      "Training (3648 / 5000 Steps) (loss=2.06882):  89%|| 56/63 [00:05<00:00, 11.66it/s]\n",
      "Validating... (loss=X.X):   0%|| 0/8 [00:00<?, ?it/s]\u001b[A\n",
      "Validating... (loss=2.04823):   0%|| 0/8 [00:00<?, ?it/s]\u001b[A\n",
      "Validating... (loss=2.13736):   0%|| 0/8 [00:00<?, ?it/s]\u001b[A\n",
      "Validating... (loss=2.09236):   0%|| 0/8 [00:00<?, ?it/s]\u001b[A\n",
      "Validating... (loss=2.07609):   0%|| 0/8 [00:00<?, ?it/s]\u001b[A\n",
      "Validating... (loss=1.93781):   0%|| 0/8 [00:00<?, ?it/s]\u001b[A\n",
      "Validating... (loss=2.11154):   0%|| 0/8 [00:00<?, ?it/s]\u001b[A\n",
      "Validating... (loss=2.23363):   0%|| 0/8 [00:00<?, ?it/s]\u001b[A\n",
      "Validating... (loss=2.01748): 100%|| 8/8 [00:00<00:00, 11.88it/s]\n",
      "Training (3649 / 5000 Steps) (loss=2.28564):  92%|| 58/63 [00:06<00:00,  5.17it/s]"
     ]
    },
    {
     "name": "stdout",
     "output_type": "stream",
     "text": [
      "    Valid Accuracy: 0.17188\n"
     ]
    },
    {
     "name": "stderr",
     "output_type": "stream",
     "text": [
      "Training (3654 / 5000 Steps) (loss=2.01597): 100%|| 63/63 [00:06<00:00,  9.54it/s]\n",
      "Training (3712 / 5000 Steps) (loss=1.88917):  89%|| 56/63 [00:06<00:00, 11.57it/s]\n",
      "Validating... (loss=X.X):   0%|| 0/8 [00:00<?, ?it/s]\u001b[A\n",
      "Validating... (loss=2.06018):   0%|| 0/8 [00:00<?, ?it/s]\u001b[A\n",
      "Validating... (loss=2.14660):   0%|| 0/8 [00:00<?, ?it/s]\u001b[A\n",
      "Validating... (loss=2.10507):   0%|| 0/8 [00:00<?, ?it/s]\u001b[A\n",
      "Validating... (loss=2.08129):   0%|| 0/8 [00:00<?, ?it/s]\u001b[A\n",
      "Validating... (loss=1.96735):   0%|| 0/8 [00:00<?, ?it/s]\u001b[A\n",
      "Validating... (loss=2.10895):   0%|| 0/8 [00:00<?, ?it/s]\u001b[A\n",
      "Validating... (loss=2.23677):   0%|| 0/8 [00:01<?, ?it/s]\u001b[A\n",
      "Validating... (loss=2.23677):  88%|| 7/8 [00:01<00:00,  6.85it/s]\u001b[A\n",
      "Validating... (loss=2.01523): 100%|| 8/8 [00:01<00:00,  6.59it/s]\u001b[A\n",
      "Training (3713 / 5000 Steps) (loss=1.96366):  94%|| 59/63 [00:08<00:00,  4.07it/s]"
     ]
    },
    {
     "name": "stdout",
     "output_type": "stream",
     "text": [
      "    Valid Accuracy: 0.16406\n"
     ]
    },
    {
     "name": "stderr",
     "output_type": "stream",
     "text": [
      "Training (3717 / 5000 Steps) (loss=2.24190): 100%|| 63/63 [00:08<00:00,  7.45it/s]\n",
      "Training (3776 / 5000 Steps) (loss=2.23781):  92%|| 58/63 [00:05<00:00, 11.71it/s]\n",
      "Validating... (loss=X.X):   0%|| 0/8 [00:00<?, ?it/s]\u001b[A\n",
      "Validating... (loss=2.02618):   0%|| 0/8 [00:00<?, ?it/s]\u001b[A\n",
      "Validating... (loss=2.12084):   0%|| 0/8 [00:00<?, ?it/s]\u001b[A\n",
      "Validating... (loss=2.11014):   0%|| 0/8 [00:00<?, ?it/s]\u001b[A\n",
      "Validating... (loss=2.08147):   0%|| 0/8 [00:00<?, ?it/s]\u001b[A\n",
      "Validating... (loss=1.92069):   0%|| 0/8 [00:00<?, ?it/s]\u001b[A\n",
      "Validating... (loss=2.11324):   0%|| 0/8 [00:00<?, ?it/s]\u001b[A\n",
      "Validating... (loss=2.22808):   0%|| 0/8 [00:00<?, ?it/s]\u001b[A\n",
      "Validating... (loss=2.02050): 100%|| 8/8 [00:00<00:00,  9.04it/s]\n",
      "Training (3777 / 5000 Steps) (loss=2.16621):  95%|| 60/63 [00:06<00:00,  4.37it/s]"
     ]
    },
    {
     "name": "stdout",
     "output_type": "stream",
     "text": [
      "    Valid Accuracy: 0.16406\n"
     ]
    },
    {
     "name": "stderr",
     "output_type": "stream",
     "text": [
      "Training (3780 / 5000 Steps) (loss=1.80061): 100%|| 63/63 [00:07<00:00,  8.93it/s]\n",
      "Training (3840 / 5000 Steps) (loss=2.06167):  92%|| 58/63 [00:05<00:00, 10.20it/s]\n",
      "Validating... (loss=X.X):   0%|| 0/8 [00:00<?, ?it/s]\u001b[A\n",
      "Validating... (loss=2.02340):   0%|| 0/8 [00:00<?, ?it/s]\u001b[A\n",
      "Validating... (loss=2.10807):   0%|| 0/8 [00:00<?, ?it/s]\u001b[A\n",
      "Validating... (loss=2.10838):   0%|| 0/8 [00:00<?, ?it/s]\u001b[A\n",
      "Validating... (loss=2.07927):   0%|| 0/8 [00:00<?, ?it/s]\u001b[A\n",
      "Validating... (loss=1.90718):   0%|| 0/8 [00:00<?, ?it/s]\u001b[A\n",
      "Validating... (loss=2.10721):   0%|| 0/8 [00:00<?, ?it/s]\u001b[A\n",
      "Validating... (loss=2.22830):   0%|| 0/8 [00:00<?, ?it/s]\u001b[A\n",
      "Validating... (loss=2.02366): 100%|| 8/8 [00:00<00:00,  9.17it/s]\n",
      "Training (3841 / 5000 Steps) (loss=2.06557):  97%|| 61/63 [00:06<00:00,  4.68it/s]"
     ]
    },
    {
     "name": "stdout",
     "output_type": "stream",
     "text": [
      "    Valid Accuracy: 0.20312\n"
     ]
    },
    {
     "name": "stderr",
     "output_type": "stream",
     "text": [
      "Training (3843 / 5000 Steps) (loss=2.03157): 100%|| 63/63 [00:07<00:00,  8.56it/s]\n",
      "Training (3904 / 5000 Steps) (loss=2.03185):  94%|| 59/63 [00:07<00:00, 11.06it/s]\n",
      "Validating... (loss=X.X):   0%|| 0/8 [00:00<?, ?it/s]\u001b[A\n",
      "Validating... (loss=2.02862):   0%|| 0/8 [00:00<?, ?it/s]\u001b[A\n",
      "Validating... (loss=2.11532):   0%|| 0/8 [00:00<?, ?it/s]\u001b[A\n",
      "Validating... (loss=2.11181):   0%|| 0/8 [00:00<?, ?it/s]\u001b[A\n",
      "Validating... (loss=2.08093):   0%|| 0/8 [00:00<?, ?it/s]\u001b[A\n",
      "Validating... (loss=1.92469):   0%|| 0/8 [00:00<?, ?it/s]\u001b[A\n",
      "Validating... (loss=2.10427):   0%|| 0/8 [00:00<?, ?it/s]\u001b[A\n",
      "Validating... (loss=2.23123):   0%|| 0/8 [00:00<?, ?it/s]\u001b[A\n",
      "Validating... (loss=2.02274): 100%|| 8/8 [00:00<00:00,  8.65it/s]\n",
      "Training (3905 / 5000 Steps) (loss=2.10214):  98%|| 62/63 [00:08<00:00,  4.71it/s]"
     ]
    },
    {
     "name": "stdout",
     "output_type": "stream",
     "text": [
      "    Valid Accuracy: 0.18750\n"
     ]
    },
    {
     "name": "stderr",
     "output_type": "stream",
     "text": [
      "Training (3906 / 5000 Steps) (loss=2.01634): 100%|| 63/63 [00:08<00:00,  7.35it/s]\n",
      "Training (3968 / 5000 Steps) (loss=2.00785):  97%|| 61/63 [00:05<00:00, 11.31it/s]\n",
      "Validating... (loss=X.X):   0%|| 0/8 [00:00<?, ?it/s]\u001b[A\n",
      "Validating... (loss=2.02235):   0%|| 0/8 [00:00<?, ?it/s]\u001b[A\n",
      "Validating... (loss=2.11094):   0%|| 0/8 [00:00<?, ?it/s]\u001b[A\n",
      "Validating... (loss=2.12049):   0%|| 0/8 [00:00<?, ?it/s]\u001b[A\n",
      "Validating... (loss=2.08007):   0%|| 0/8 [00:00<?, ?it/s]\u001b[A\n",
      "Validating... (loss=1.92307):   0%|| 0/8 [00:00<?, ?it/s]\u001b[A\n",
      "Validating... (loss=2.10451):   0%|| 0/8 [00:00<?, ?it/s]\u001b[A\n",
      "Validating... (loss=2.23295):   0%|| 0/8 [00:00<?, ?it/s]\u001b[A\n",
      "Validating... (loss=2.02389): 100%|| 8/8 [00:00<00:00,  8.27it/s]\n",
      "Training (3969 / 5000 Steps) (loss=2.26337): 100%|| 63/63 [00:06<00:00,  4.21it/s]"
     ]
    },
    {
     "name": "stdout",
     "output_type": "stream",
     "text": [
      "    Valid Accuracy: 0.20312\n"
     ]
    },
    {
     "name": "stderr",
     "output_type": "stream",
     "text": [
      "Training (3969 / 5000 Steps) (loss=2.26337): 100%|| 63/63 [00:06<00:00,  9.03it/s]\n",
      "Training (4032 / 5000 Steps) (loss=2.16677):  98%|| 62/63 [00:07<00:00, 11.52it/s]\n",
      "Validating... (loss=X.X):   0%|| 0/8 [00:00<?, ?it/s]\u001b[A\n",
      "Validating... (loss=2.02638):   0%|| 0/8 [00:00<?, ?it/s]\u001b[A\n",
      "Validating... (loss=2.11783):   0%|| 0/8 [00:00<?, ?it/s]\u001b[A\n",
      "Validating... (loss=2.11106):   0%|| 0/8 [00:00<?, ?it/s]\u001b[A\n",
      "Validating... (loss=2.07785):   0%|| 0/8 [00:00<?, ?it/s]\u001b[A\n",
      "Validating... (loss=1.93256):   0%|| 0/8 [00:00<?, ?it/s]\u001b[A\n",
      "Validating... (loss=2.10601):   0%|| 0/8 [00:00<?, ?it/s]\u001b[A\n",
      "Validating... (loss=2.23281):   0%|| 0/8 [00:00<?, ?it/s]\u001b[A\n",
      "Validating... (loss=2.02108): 100%|| 8/8 [00:00<00:00, 10.14it/s]\n",
      "Training (4032 / 5000 Steps) (loss=2.16677): 100%|| 63/63 [00:08<00:00,  7.59it/s]\n"
     ]
    },
    {
     "name": "stdout",
     "output_type": "stream",
     "text": [
      "    Valid Accuracy: 0.19531\n"
     ]
    },
    {
     "name": "stderr",
     "output_type": "stream",
     "text": [
      "Training (4095 / 5000 Steps) (loss=2.17870): 100%|| 63/63 [00:05<00:00, 11.01it/s]\n",
      "Training (4096 / 5000 Steps) (loss=1.86082):   0%|| 0/63 [00:00<?, ?it/s]\n",
      "Validating... (loss=X.X):   0%|| 0/8 [00:00<?, ?it/s]\u001b[A\n",
      "Validating... (loss=2.01986):   0%|| 0/8 [00:00<?, ?it/s]\u001b[A\n",
      "Validating... (loss=2.10763):   0%|| 0/8 [00:00<?, ?it/s]\u001b[A\n",
      "Validating... (loss=2.10328):   0%|| 0/8 [00:00<?, ?it/s]\u001b[A\n",
      "Validating... (loss=2.07559):   0%|| 0/8 [00:00<?, ?it/s]\u001b[A\n",
      "Validating... (loss=1.92152):   0%|| 0/8 [00:00<?, ?it/s]\u001b[A\n",
      "Validating... (loss=2.11035):   0%|| 0/8 [00:00<?, ?it/s]\u001b[A\n",
      "Validating... (loss=2.22957):   0%|| 0/8 [00:00<?, ?it/s]\u001b[A\n",
      "Validating... (loss=2.01900): 100%|| 8/8 [00:00<00:00,  8.51it/s]\n",
      "Training (4097 / 5000 Steps) (loss=2.20787):   3%|| 2/63 [00:01<00:35,  1.71it/s]"
     ]
    },
    {
     "name": "stdout",
     "output_type": "stream",
     "text": [
      "    Valid Accuracy: 0.17188\n"
     ]
    },
    {
     "name": "stderr",
     "output_type": "stream",
     "text": [
      "Training (4158 / 5000 Steps) (loss=1.81035): 100%|| 63/63 [00:07<00:00,  8.96it/s]\n",
      "Training (4160 / 5000 Steps) (loss=2.25855):   2%|| 1/63 [00:00<00:22,  2.81it/s]\n",
      "Validating... (loss=X.X):   0%|| 0/8 [00:00<?, ?it/s]\u001b[A\n",
      "Validating... (loss=2.02374):   0%|| 0/8 [00:00<?, ?it/s]\u001b[A\n",
      "Validating... (loss=2.11149):   0%|| 0/8 [00:00<?, ?it/s]\u001b[A\n",
      "Validating... (loss=2.10123):   0%|| 0/8 [00:00<?, ?it/s]\u001b[A\n",
      "Validating... (loss=2.07638):   0%|| 0/8 [00:00<?, ?it/s]\u001b[A\n",
      "Validating... (loss=1.92812):   0%|| 0/8 [00:00<?, ?it/s]\u001b[A\n",
      "Validating... (loss=2.10953):   0%|| 0/8 [00:00<?, ?it/s]\u001b[A\n",
      "Validating... (loss=2.22983):   0%|| 0/8 [00:00<?, ?it/s]\u001b[A\n",
      "Validating... (loss=2.01928):   0%|| 0/8 [00:01<?, ?it/s]\u001b[A\n",
      "Validating... (loss=2.01928): 100%|| 8/8 [00:01<00:00,  6.87it/s]\u001b[A\n",
      "Training (4161 / 5000 Steps) (loss=2.29545):   5%|| 3/63 [00:01<00:34,  1.73it/s]"
     ]
    },
    {
     "name": "stdout",
     "output_type": "stream",
     "text": [
      "    Valid Accuracy: 0.17188\n"
     ]
    },
    {
     "name": "stderr",
     "output_type": "stream",
     "text": [
      "Training (4221 / 5000 Steps) (loss=1.97965): 100%|| 63/63 [00:07<00:00,  8.26it/s]\n",
      "Training (4224 / 5000 Steps) (loss=2.10302):   3%|| 2/63 [00:00<00:17,  3.50it/s]\n",
      "Validating... (loss=X.X):   0%|| 0/8 [00:00<?, ?it/s]\u001b[A\n",
      "Validating... (loss=2.01895):   0%|| 0/8 [00:00<?, ?it/s]\u001b[A\n",
      "Validating... (loss=2.11010):   0%|| 0/8 [00:00<?, ?it/s]\u001b[A\n",
      "Validating... (loss=2.10334):   0%|| 0/8 [00:00<?, ?it/s]\u001b[A\n",
      "Validating... (loss=2.07670):   0%|| 0/8 [00:00<?, ?it/s]\u001b[A\n",
      "Validating... (loss=1.92536):   0%|| 0/8 [00:00<?, ?it/s]\u001b[A\n",
      "Validating... (loss=2.11042):   0%|| 0/8 [00:00<?, ?it/s]\u001b[A\n",
      "Validating... (loss=2.22823):   0%|| 0/8 [00:00<?, ?it/s]\u001b[A\n",
      "Validating... (loss=2.02133): 100%|| 8/8 [00:00<00:00, 11.70it/s]\n",
      "Training (4225 / 5000 Steps) (loss=2.20470):   6%|| 4/63 [00:01<00:21,  2.69it/s]"
     ]
    },
    {
     "name": "stdout",
     "output_type": "stream",
     "text": [
      "    Valid Accuracy: 0.17969\n"
     ]
    },
    {
     "name": "stderr",
     "output_type": "stream",
     "text": [
      "Training (4284 / 5000 Steps) (loss=1.83781): 100%|| 63/63 [00:07<00:00,  7.93it/s]\n",
      "Training (4288 / 5000 Steps) (loss=2.08765):   5%|| 3/63 [00:00<00:14,  4.26it/s]\n",
      "Validating... (loss=X.X):   0%|| 0/8 [00:00<?, ?it/s]\u001b[A\n",
      "Validating... (loss=2.01876):   0%|| 0/8 [00:00<?, ?it/s]\u001b[A\n",
      "Validating... (loss=2.10903):   0%|| 0/8 [00:00<?, ?it/s]\u001b[A\n",
      "Validating... (loss=2.09995):   0%|| 0/8 [00:00<?, ?it/s]\u001b[A\n",
      "Validating... (loss=2.07568):   0%|| 0/8 [00:00<?, ?it/s]\u001b[A\n",
      "Validating... (loss=1.92284):   0%|| 0/8 [00:00<?, ?it/s]\u001b[A\n",
      "Validating... (loss=2.11052):   0%|| 0/8 [00:00<?, ?it/s]\u001b[A\n",
      "Validating... (loss=2.22760):   0%|| 0/8 [00:00<?, ?it/s]\u001b[A\n",
      "Validating... (loss=2.02138):   0%|| 0/8 [00:01<?, ?it/s]\u001b[A\n",
      "Validating... (loss=2.02138): 100%|| 8/8 [00:01<00:00,  7.04it/s]\u001b[A\n",
      "Training (4289 / 5000 Steps) (loss=2.22340):   8%|| 5/63 [00:02<00:28,  2.07it/s]"
     ]
    },
    {
     "name": "stdout",
     "output_type": "stream",
     "text": [
      "    Valid Accuracy: 0.17969\n"
     ]
    },
    {
     "name": "stderr",
     "output_type": "stream",
     "text": [
      "Training (4347 / 5000 Steps) (loss=1.87216): 100%|| 63/63 [00:08<00:00,  7.65it/s]\n",
      "Training (4352 / 5000 Steps) (loss=2.41676):   6%|| 4/63 [00:01<00:11,  5.23it/s]\n",
      "Validating... (loss=X.X):   0%|| 0/8 [00:00<?, ?it/s]\u001b[A\n",
      "Validating... (loss=2.01789):   0%|| 0/8 [00:00<?, ?it/s]\u001b[A\n",
      "Validating... (loss=2.10612):   0%|| 0/8 [00:00<?, ?it/s]\u001b[A\n",
      "Validating... (loss=2.10074):   0%|| 0/8 [00:00<?, ?it/s]\u001b[A\n",
      "Validating... (loss=2.07553):   0%|| 0/8 [00:00<?, ?it/s]\u001b[A\n",
      "Validating... (loss=1.92183):   0%|| 0/8 [00:00<?, ?it/s]\u001b[A\n",
      "Validating... (loss=2.11018):   0%|| 0/8 [00:00<?, ?it/s]\u001b[A\n",
      "Validating... (loss=2.22729):   0%|| 0/8 [00:00<?, ?it/s]\u001b[A\n",
      "Validating... (loss=2.02124): 100%|| 8/8 [00:00<00:00,  9.05it/s]\n",
      "Training (4353 / 5000 Steps) (loss=2.13614):  10%|| 6/63 [00:02<00:22,  2.57it/s]"
     ]
    },
    {
     "name": "stdout",
     "output_type": "stream",
     "text": [
      "    Valid Accuracy: 0.17969\n"
     ]
    },
    {
     "name": "stderr",
     "output_type": "stream",
     "text": [
      "Training (4410 / 5000 Steps) (loss=1.96500): 100%|| 63/63 [00:09<00:00,  6.54it/s]\n",
      "Training (4416 / 5000 Steps) (loss=2.20190):   6%|| 4/63 [00:00<00:07,  7.62it/s]\n",
      "Validating... (loss=X.X):   0%|| 0/8 [00:00<?, ?it/s]\u001b[A\n",
      "Validating... (loss=2.02313):   0%|| 0/8 [00:00<?, ?it/s]\u001b[A\n",
      "Validating... (loss=2.11118):   0%|| 0/8 [00:00<?, ?it/s]\u001b[A\n",
      "Validating... (loss=2.10085):   0%|| 0/8 [00:00<?, ?it/s]\u001b[A\n",
      "Validating... (loss=2.07645):   0%|| 0/8 [00:00<?, ?it/s]\u001b[A\n",
      "Validating... (loss=1.92891):   0%|| 0/8 [00:00<?, ?it/s]\u001b[A\n",
      "Validating... (loss=2.10951):   0%|| 0/8 [00:00<?, ?it/s]\u001b[A\n",
      "Validating... (loss=2.22741):   0%|| 0/8 [00:00<?, ?it/s]\u001b[A\n",
      "Validating... (loss=2.02010): 100%|| 8/8 [00:00<00:00, 10.38it/s]\n",
      "Training (4417 / 5000 Steps) (loss=1.87977):  11%|| 7/63 [00:01<00:14,  3.77it/s]"
     ]
    },
    {
     "name": "stdout",
     "output_type": "stream",
     "text": [
      "    Valid Accuracy: 0.17188\n"
     ]
    },
    {
     "name": "stderr",
     "output_type": "stream",
     "text": [
      "Training (4473 / 5000 Steps) (loss=1.75178): 100%|| 63/63 [00:06<00:00,  9.09it/s]\n",
      "Training (4480 / 5000 Steps) (loss=2.04310):  10%|| 6/63 [00:00<00:06,  8.81it/s]\n",
      "Validating... (loss=X.X):   0%|| 0/8 [00:00<?, ?it/s]\u001b[A\n",
      "Validating... (loss=2.02030):   0%|| 0/8 [00:00<?, ?it/s]\u001b[A\n",
      "Validating... (loss=2.11009):   0%|| 0/8 [00:00<?, ?it/s]\u001b[A\n",
      "Validating... (loss=2.10116):   0%|| 0/8 [00:00<?, ?it/s]\u001b[A\n",
      "Validating... (loss=2.07621):   0%|| 0/8 [00:00<?, ?it/s]\u001b[A\n",
      "Validating... (loss=1.92584):   0%|| 0/8 [00:00<?, ?it/s]\u001b[A\n",
      "Validating... (loss=2.10928):   0%|| 0/8 [00:00<?, ?it/s]\u001b[A\n",
      "Validating... (loss=2.22767):   0%|| 0/8 [00:00<?, ?it/s]\u001b[A\n",
      "Validating... (loss=2.02083): 100%|| 8/8 [00:00<00:00,  9.02it/s]\n",
      "Training (4481 / 5000 Steps) (loss=2.12102):  13%|| 8/63 [00:01<00:15,  3.51it/s]"
     ]
    },
    {
     "name": "stdout",
     "output_type": "stream",
     "text": [
      "    Valid Accuracy: 0.17188\n"
     ]
    },
    {
     "name": "stderr",
     "output_type": "stream",
     "text": [
      "Training (4536 / 5000 Steps) (loss=2.11091): 100%|| 63/63 [00:06<00:00,  9.23it/s]\n",
      "Training (4544 / 5000 Steps) (loss=2.11686):  11%|| 7/63 [00:01<00:07,  7.26it/s]\n",
      "Validating... (loss=X.X):   0%|| 0/8 [00:00<?, ?it/s]\u001b[A\n",
      "Validating... (loss=2.01672):   0%|| 0/8 [00:00<?, ?it/s]\u001b[A\n",
      "Validating... (loss=2.10938):   0%|| 0/8 [00:00<?, ?it/s]\u001b[A\n",
      "Validating... (loss=2.10341):   0%|| 0/8 [00:00<?, ?it/s]\u001b[A\n",
      "Validating... (loss=2.07609):   0%|| 0/8 [00:00<?, ?it/s]\u001b[A\n",
      "Validating... (loss=1.92283):   0%|| 0/8 [00:00<?, ?it/s]\u001b[A\n",
      "Validating... (loss=2.11043):   0%|| 0/8 [00:00<?, ?it/s]\u001b[A\n",
      "Validating... (loss=2.22741):   0%|| 0/8 [00:00<?, ?it/s]\u001b[A\n",
      "Validating... (loss=2.02127): 100%|| 8/8 [00:00<00:00, 14.56it/s]\n",
      "Training (4545 / 5000 Steps) (loss=1.92230):  14%|| 9/63 [00:02<00:14,  3.73it/s]"
     ]
    },
    {
     "name": "stdout",
     "output_type": "stream",
     "text": [
      "    Valid Accuracy: 0.17969\n"
     ]
    },
    {
     "name": "stderr",
     "output_type": "stream",
     "text": [
      "Training (4599 / 5000 Steps) (loss=2.32892): 100%|| 63/63 [00:07<00:00,  8.25it/s]\n",
      "Training (4608 / 5000 Steps) (loss=1.90560):  13%|| 8/63 [00:01<00:08,  6.50it/s]\n",
      "Validating... (loss=X.X):   0%|| 0/8 [00:00<?, ?it/s]\u001b[A\n",
      "Validating... (loss=2.01823):   0%|| 0/8 [00:00<?, ?it/s]\u001b[A\n",
      "Validating... (loss=2.11135):   0%|| 0/8 [00:00<?, ?it/s]\u001b[A\n",
      "Validating... (loss=2.10440):   0%|| 0/8 [00:00<?, ?it/s]\u001b[A\n",
      "Validating... (loss=2.07697):   0%|| 0/8 [00:00<?, ?it/s]\u001b[A\n",
      "Validating... (loss=1.92697):   0%|| 0/8 [00:00<?, ?it/s]\u001b[A\n",
      "Validating... (loss=2.11001):   0%|| 0/8 [00:00<?, ?it/s]\u001b[A\n",
      "Validating... (loss=2.22739):   0%|| 0/8 [00:01<?, ?it/s]\u001b[A\n",
      "Validating... (loss=2.22739):  88%|| 7/8 [00:01<00:00,  6.83it/s]\u001b[A\n",
      "Validating... (loss=2.02114): 100%|| 8/8 [00:01<00:00,  7.00it/s]\u001b[A\n",
      "Training (4609 / 5000 Steps) (loss=1.96567):  16%|| 10/63 [00:02<00:19,  2.69it/s]"
     ]
    },
    {
     "name": "stdout",
     "output_type": "stream",
     "text": [
      "    Valid Accuracy: 0.17969\n"
     ]
    },
    {
     "name": "stderr",
     "output_type": "stream",
     "text": [
      "Training (4662 / 5000 Steps) (loss=2.01547): 100%|| 63/63 [00:08<00:00,  7.26it/s]\n",
      "Training (4672 / 5000 Steps) (loss=2.16342):  13%|| 8/63 [00:01<00:07,  6.93it/s]\n",
      "Validating... (loss=X.X):   0%|| 0/8 [00:00<?, ?it/s]\u001b[A\n",
      "Validating... (loss=2.01820):   0%|| 0/8 [00:00<?, ?it/s]\u001b[A\n",
      "Validating... (loss=2.11181):   0%|| 0/8 [00:00<?, ?it/s]\u001b[A\n",
      "Validating... (loss=2.10404):   0%|| 0/8 [00:00<?, ?it/s]\u001b[A\n",
      "Validating... (loss=2.07680):   0%|| 0/8 [00:00<?, ?it/s]\u001b[A\n",
      "Validating... (loss=1.92804):   0%|| 0/8 [00:00<?, ?it/s]\u001b[A\n",
      "Validating... (loss=2.11014):   0%|| 0/8 [00:00<?, ?it/s]\u001b[A\n",
      "Validating... (loss=2.22736):   0%|| 0/8 [00:00<?, ?it/s]\u001b[A\n",
      "Validating... (loss=2.02083): 100%|| 8/8 [00:00<00:00,  8.53it/s]\n",
      "Training (4673 / 5000 Steps) (loss=2.13563):  17%|| 11/63 [00:02<00:14,  3.52it/s]"
     ]
    },
    {
     "name": "stdout",
     "output_type": "stream",
     "text": [
      "    Valid Accuracy: 0.17188\n"
     ]
    },
    {
     "name": "stderr",
     "output_type": "stream",
     "text": [
      "Training (4725 / 5000 Steps) (loss=2.02806): 100%|| 63/63 [00:08<00:00,  7.74it/s]\n",
      "Training (4736 / 5000 Steps) (loss=2.29564):  16%|| 10/63 [00:01<00:07,  6.64it/s]\n",
      "Validating... (loss=X.X):   0%|| 0/8 [00:00<?, ?it/s]\u001b[A\n",
      "Validating... (loss=2.01815):   0%|| 0/8 [00:00<?, ?it/s]\u001b[A\n",
      "Validating... (loss=2.11237):   0%|| 0/8 [00:00<?, ?it/s]\u001b[A\n",
      "Validating... (loss=2.10452):   0%|| 0/8 [00:00<?, ?it/s]\u001b[A\n",
      "Validating... (loss=2.07705):   0%|| 0/8 [00:00<?, ?it/s]\u001b[A\n",
      "Validating... (loss=1.92849):   0%|| 0/8 [00:00<?, ?it/s]\u001b[A\n",
      "Validating... (loss=2.11010):   0%|| 0/8 [00:00<?, ?it/s]\u001b[A\n",
      "Validating... (loss=2.22742):   0%|| 0/8 [00:01<?, ?it/s]\u001b[A\n",
      "Validating... (loss=2.22742):  88%|| 7/8 [00:01<00:00,  6.73it/s]\u001b[A\n",
      "Validating... (loss=2.02098): 100%|| 8/8 [00:01<00:00,  6.84it/s]\u001b[A\n",
      "Training (4737 / 5000 Steps) (loss=2.00897):  19%|| 12/63 [00:03<00:19,  2.58it/s]"
     ]
    },
    {
     "name": "stdout",
     "output_type": "stream",
     "text": [
      "    Valid Accuracy: 0.17188\n"
     ]
    },
    {
     "name": "stderr",
     "output_type": "stream",
     "text": [
      "Training (4788 / 5000 Steps) (loss=2.15409): 100%|| 63/63 [00:09<00:00,  6.51it/s]\n",
      "Training (4800 / 5000 Steps) (loss=1.86476):  17%|| 11/63 [00:02<00:08,  6.20it/s]\n",
      "Validating... (loss=X.X):   0%|| 0/8 [00:00<?, ?it/s]\u001b[A\n",
      "Validating... (loss=2.01819):   0%|| 0/8 [00:00<?, ?it/s]\u001b[A\n",
      "Validating... (loss=2.11254):   0%|| 0/8 [00:00<?, ?it/s]\u001b[A\n",
      "Validating... (loss=2.10468):   0%|| 0/8 [00:00<?, ?it/s]\u001b[A\n",
      "Validating... (loss=2.07718):   0%|| 0/8 [00:00<?, ?it/s]\u001b[A\n",
      "Validating... (loss=1.92874):   0%|| 0/8 [00:00<?, ?it/s]\u001b[A\n",
      "Validating... (loss=2.11006):   0%|| 0/8 [00:00<?, ?it/s]\u001b[A\n",
      "Validating... (loss=2.22749):   0%|| 0/8 [00:00<?, ?it/s]\u001b[A\n",
      "Validating... (loss=2.02110): 100%|| 8/8 [00:00<00:00,  9.18it/s]\n",
      "Training (4801 / 5000 Steps) (loss=2.14190):  21%|| 13/63 [00:03<00:17,  2.91it/s]"
     ]
    },
    {
     "name": "stdout",
     "output_type": "stream",
     "text": [
      "    Valid Accuracy: 0.17188\n"
     ]
    },
    {
     "name": "stderr",
     "output_type": "stream",
     "text": [
      "Training (4851 / 5000 Steps) (loss=1.80103): 100%|| 63/63 [00:09<00:00,  6.59it/s]\n",
      "Training (4864 / 5000 Steps) (loss=2.18571):  19%|| 12/63 [00:02<00:06,  7.67it/s]\n",
      "Validating... (loss=X.X):   0%|| 0/8 [00:00<?, ?it/s]\u001b[A\n",
      "Validating... (loss=2.01793):   0%|| 0/8 [00:00<?, ?it/s]\u001b[A\n",
      "Validating... (loss=2.11219):   0%|| 0/8 [00:00<?, ?it/s]\u001b[A\n",
      "Validating... (loss=2.10463):   0%|| 0/8 [00:00<?, ?it/s]\u001b[A\n",
      "Validating... (loss=2.07718):   0%|| 0/8 [00:00<?, ?it/s]\u001b[A\n",
      "Validating... (loss=1.92840):   0%|| 0/8 [00:00<?, ?it/s]\u001b[A\n",
      "Validating... (loss=2.11022):   0%|| 0/8 [00:00<?, ?it/s]\u001b[A\n",
      "Validating... (loss=2.22731):   0%|| 0/8 [00:00<?, ?it/s]\u001b[A\n",
      "Validating... (loss=2.02112): 100%|| 8/8 [00:00<00:00,  8.61it/s]\n",
      "Training (4865 / 5000 Steps) (loss=1.96094):  22%|| 14/63 [00:03<00:15,  3.14it/s]"
     ]
    },
    {
     "name": "stdout",
     "output_type": "stream",
     "text": [
      "    Valid Accuracy: 0.17188\n"
     ]
    },
    {
     "name": "stderr",
     "output_type": "stream",
     "text": [
      "Training (4914 / 5000 Steps) (loss=1.82974): 100%|| 63/63 [00:08<00:00,  7.25it/s]\n",
      "Training (4928 / 5000 Steps) (loss=2.09504):  19%|| 12/63 [00:02<00:05,  8.53it/s]\n",
      "Validating... (loss=X.X):   0%|| 0/8 [00:00<?, ?it/s]\u001b[A\n",
      "Validating... (loss=2.01786):   0%|| 0/8 [00:00<?, ?it/s]\u001b[A\n",
      "Validating... (loss=2.11215):   0%|| 0/8 [00:00<?, ?it/s]\u001b[A\n",
      "Validating... (loss=2.10464):   0%|| 0/8 [00:00<?, ?it/s]\u001b[A\n",
      "Validating... (loss=2.07716):   0%|| 0/8 [00:00<?, ?it/s]\u001b[A\n",
      "Validating... (loss=1.92832):   0%|| 0/8 [00:00<?, ?it/s]\u001b[A\n",
      "Validating... (loss=2.11022):   0%|| 0/8 [00:00<?, ?it/s]\u001b[A\n",
      "Validating... (loss=2.22729):   0%|| 0/8 [00:00<?, ?it/s]\u001b[A\n",
      "Validating... (loss=2.02113): 100%|| 8/8 [00:00<00:00,  9.72it/s]\n",
      "Training (4930 / 5000 Steps) (loss=2.12706):  25%|| 16/63 [00:03<00:09,  4.92it/s]"
     ]
    },
    {
     "name": "stdout",
     "output_type": "stream",
     "text": [
      "    Valid Accuracy: 0.17188\n"
     ]
    },
    {
     "name": "stderr",
     "output_type": "stream",
     "text": [
      "Training (4977 / 5000 Steps) (loss=2.08507): 100%|| 63/63 [00:07<00:00,  8.44it/s]\n",
      "Training (4992 / 5000 Steps) (loss=2.44887):  22%|| 14/63 [00:02<00:07,  6.71it/s]\n",
      "Validating... (loss=X.X):   0%|| 0/8 [00:00<?, ?it/s]\u001b[A\n",
      "Validating... (loss=2.01784):   0%|| 0/8 [00:00<?, ?it/s]\u001b[A\n",
      "Validating... (loss=2.11213):   0%|| 0/8 [00:00<?, ?it/s]\u001b[A\n",
      "Validating... (loss=2.10464):   0%|| 0/8 [00:00<?, ?it/s]\u001b[A\n",
      "Validating... (loss=2.07715):   0%|| 0/8 [00:00<?, ?it/s]\u001b[A\n",
      "Validating... (loss=1.92830):   0%|| 0/8 [00:00<?, ?it/s]\u001b[A\n",
      "Validating... (loss=2.11022):   0%|| 0/8 [00:00<?, ?it/s]\u001b[A\n",
      "Validating... (loss=2.22728):   0%|| 0/8 [00:01<?, ?it/s]\u001b[A\n",
      "Validating... (loss=2.22728):  88%|| 7/8 [00:01<00:00,  6.99it/s]\u001b[A\n",
      "Validating... (loss=2.02113): 100%|| 8/8 [00:01<00:00,  6.78it/s]\u001b[A\n",
      "Training (4993 / 5000 Steps) (loss=1.97301):  25%|| 16/63 [00:03<00:18,  2.54it/s]"
     ]
    },
    {
     "name": "stdout",
     "output_type": "stream",
     "text": [
      "    Valid Accuracy: 0.17188\n"
     ]
    },
    {
     "name": "stderr",
     "output_type": "stream",
     "text": [
      "Training (5000 / 5000 Steps) (loss=2.19984):  35%|| 22/63 [00:04<00:08,  4.60it/s]"
     ]
    },
    {
     "name": "stdout",
     "output_type": "stream",
     "text": [
      "Best Accuracy: \t0.242188\n",
      "End Training!\n"
     ]
    },
    {
     "name": "stderr",
     "output_type": "stream",
     "text": [
      "\n"
     ]
    }
   ],
   "source": [
    "num_blocks = 12\n",
    "\n",
    "train_example_nums = 1000 #训练数据量\n",
    "\n",
    "test_example_nums = 128 #测试数据量\n",
    "\n",
    "batch_size = 16\n",
    "\n",
    "total_steps = 5000\n",
    "\n",
    "warmup_steps = 100\n",
    "\n",
    "eval_every = 64\n",
    "\n",
    "learning_rate = 1e-3\n",
    "extra_attention = 'Global_SlidingWindow'\n",
    "VIT_train(args, dataset, extra_attention, num_blocks, train_example_nums, test_example_nums, batch_size, total_steps, warmup_steps, eval_every, learning_rate)"
   ]
  },
  {
   "cell_type": "code",
   "execution_count": null,
   "id": "cf1425a9-f4fe-4e60-87cc-909c73a6ac25",
   "metadata": {},
   "outputs": [],
   "source": []
  }
 ],
 "metadata": {
  "kernelspec": {
   "display_name": "test",
   "language": "python",
   "name": "test"
  },
  "language_info": {
   "codemirror_mode": {
    "name": "ipython",
    "version": 3
   },
   "file_extension": ".py",
   "mimetype": "text/x-python",
   "name": "python",
   "nbconvert_exporter": "python",
   "pygments_lexer": "ipython3",
   "version": "3.10.16"
  }
 },
 "nbformat": 4,
 "nbformat_minor": 5
}
