{
 "cells": [
  {
   "cell_type": "code",
   "id": "initial_id",
   "metadata": {
    "collapsed": true
   },
   "source": [
    "from datasets import load_dataset\n",
    "from transformers import BertForSequenceClassification\n",
    "from train import train_model\n",
    "from bert import BertAttentionEnhancedSequenceClassification\n",
    "from transformers import BertPreTrainedModel, BertModel, BertConfig,BertForPreTraining\n",
    "import torch\n",
    "\n",
    "# 加载SST-2数据集\n",
    "dataset = load_dataset(\"glue\", \"sst2\")\n",
    "\n",
    "# 查看数据集结构\n",
    "print(dataset)\n",
    "print(\"\\n样例:\")\n",
    "print(dataset[\"train\"][0])\n",
    "from transformers import BertTokenizer\n",
    "\n",
    "tokenizer = BertTokenizer.from_pretrained(\"bert-base-uncased\")\n",
    "\n",
    "def preprocess_function(examples):\n",
    "    return tokenizer(\n",
    "        examples[\"sentence\"],\n",
    "        truncation=True,\n",
    "        padding=\"max_length\",\n",
    "        max_length=128\n",
    "    )\n",
    "\n",
    "# 预处理数据集\n",
    "encoded_dataset = dataset.map(preprocess_function, batched=True)\n",
    "encoded_dataset = encoded_dataset.rename_column(\"label\", \"labels\")\n",
    "encoded_dataset.set_format(\"torch\", columns=[\"input_ids\", \"attention_mask\", \"labels\"])\n",
    "\n",
    "\n",
    "config = BertConfig.from_pretrained('bert-base-uncased')\n"
   ],
   "outputs": [],
   "execution_count": null
  },
  {
   "metadata": {},
   "cell_type": "code",
   "source": [
    "\n",
    "# 训练原始BERT模型\n",
    "print(\"=== 训练原始BERT模型 ===\")\n",
    "pretrained_bert = BertForPreTraining.from_pretrained(\"bert-base-uncased\", config=config)\n",
    "original_bert = BertAttentionEnhancedSequenceClassification.from_pretrained(\n",
    "    \"bert-base-uncased\",\n",
    "    num_labels=2,\n",
    ")\n",
    "original_bert"
   ],
   "id": "5554764b78634987",
   "outputs": [],
   "execution_count": null
  },
  {
   "metadata": {},
   "cell_type": "code",
   "source": [
    "for name, param in original_bert.named_parameters():\n",
    "    if 'attention' in name and param.data.dim() >=2:\n",
    "        # 如果参数属于attention部分，则重新随机初始化\n",
    "        print(name)\n",
    "        param.data = torch.nn.init.xavier_uniform_(param.data)\n",
    "        original_bert.state_dict()[name] = param.data\n",
    "\n",
    "train_model(original_bert, encoded_dataset[\"train\"], encoded_dataset[\"validation\"], \"Original BERT\", num_epochs=10)"
   ],
   "id": "2ceddde8c65326c9",
   "outputs": [],
   "execution_count": null
  },
  {
   "metadata": {},
   "cell_type": "code",
   "source": [
    "# 训练自定义MoE Attention BERT模型\n",
    "print(\"\\n=== 训练自定义MoE Attention BERT模型 ===\")\n",
    "moe_bert = BertAttentionEnhancedSequenceClassification.from_pretrained(\n",
    "    \"bert-base-uncased\",\n",
    "    num_labels=2,\n",
    "    enhanced_attention=\"MoE\",  # 使用MoE Attention\n",
    ")\n",
    "for name, param in moe_bert.named_parameters():\n",
    "    if 'attention' in name and param.data.dim() >=2:\n",
    "        # 如果参数属于attention部分，则重新随机初始化\n",
    "        print(name)\n",
    "        param.data = torch.nn.init.xavier_uniform_(param.data)\n",
    "        moe_bert.state_dict()[name] = param.data\n",
    "moe_bert"
   ],
   "id": "8e41367ee1ed879b",
   "outputs": [],
   "execution_count": null
  },
  {
   "metadata": {},
   "cell_type": "code",
   "source": "train_model(moe_bert, encoded_dataset[\"train\"], encoded_dataset[\"validation\"], \"MoE BERT\", num_epochs=10)",
   "id": "1a631e3c32a0a4d8",
   "outputs": [],
   "execution_count": null
  }
 ],
 "metadata": {
  "kernelspec": {
   "display_name": "Python 3",
   "language": "python",
   "name": "python3"
  },
  "language_info": {
   "codemirror_mode": {
    "name": "ipython",
    "version": 2
   },
   "file_extension": ".py",
   "mimetype": "text/x-python",
   "name": "python",
   "nbconvert_exporter": "python",
   "pygments_lexer": "ipython2",
   "version": "2.7.6"
  }
 },
 "nbformat": 4,
 "nbformat_minor": 5
}
